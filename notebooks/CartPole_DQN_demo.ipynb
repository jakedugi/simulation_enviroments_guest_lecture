{
 "cells": [
  {
   "cell_type": "code",
   "execution_count": null,
   "id": "293e7902",
   "metadata": {
    "vscode": {
     "languageId": "plaintext"
    }
   },
   "outputs": [],
   "source": [
    "from src.config import DQNConfig\n",
    "from src.environments.cartpole import make\n",
    "from src.agents.dqn import DQNFactory\n",
    "from src.training.trainer import RLTrainer\n",
    "\n",
    "cfg = DQNConfig()\n",
    "trainer = RLTrainer(DQNFactory, make, cfg)\n",
    "trainer.train()"
   ]
  }
 ],
 "metadata": {
  "language_info": {
   "name": "python"
  }
 },
 "nbformat": 4,
 "nbformat_minor": 5
}
