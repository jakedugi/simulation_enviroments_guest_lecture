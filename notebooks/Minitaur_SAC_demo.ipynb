{
 "cells": [
  {
   "cell_type": "code",
   "execution_count": null,
   "id": "ff930ed3",
   "metadata": {
    "vscode": {
     "languageId": "plaintext"
    }
   },
   "outputs": [],
   "source": [
    "from src.config import SACConfig\n",
    "from src.environments.minitaur import make\n",
    "from src.agents.sac import SACFactory\n",
    "from src.training.trainer import RLTrainer\n",
    "\n",
    "cfg = SACConfig()\n",
    "trainer = RLTrainer(SACFactory, make, cfg)\n",
    "trainer.train()"
   ]
  }
 ],
 "metadata": {
  "language_info": {
   "name": "python"
  }
 },
 "nbformat": 4,
 "nbformat_minor": 5
}
