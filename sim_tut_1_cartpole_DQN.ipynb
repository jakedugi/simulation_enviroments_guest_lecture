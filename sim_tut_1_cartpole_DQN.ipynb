{
  "cells": [
    {
      "cell_type": "markdown",
      "metadata": {
        "id": "1u9QVVsShC9X"
      },
      "source": [
        "## Install Dependencies\n"
      ]
    },
    {
      "cell_type": "markdown",
      "metadata": {
        "id": "dFAS00EptFni"
      },
      "source": [
        "Use colab so that you can utilize its gpu for faster training"
      ]
    },
    {
      "cell_type": "code",
      "execution_count": null,
      "metadata": {
        "colab": {
          "base_uri": "https://localhost:8080/"
        },
        "id": "KEHR2Ui-lo8O",
        "outputId": "5a36476c-3777-49ce-cec4-2cc615ce0481"
      },
      "outputs": [
        {
          "name": "stdout",
          "output_type": "stream",
          "text": [
            "\r0% [Working]\r            \rGet:1 http://security.ubuntu.com/ubuntu jammy-security InRelease [110 kB]\n",
            "\r0% [Connecting to archive.ubuntu.com (185.125.190.39)] [1 InRelease 14.2 kB/110\r                                                                               \rGet:2 https://cloud.r-project.org/bin/linux/ubuntu jammy-cran40/ InRelease [3,626 B]\n",
            "\r0% [Waiting for headers] [1 InRelease 25.8 kB/110 kB 23%] [2 InRelease 0 B/3,62\r0% [Waiting for headers] [1 InRelease 43.1 kB/110 kB 39%] [Connecting to ppa.la\r                                                                               \rHit:3 https://developer.download.nvidia.com/compute/cuda/repos/ubuntu2204/x86_64  InRelease\n",
            "Hit:4 http://archive.ubuntu.com/ubuntu jammy InRelease\n",
            "Get:5 http://archive.ubuntu.com/ubuntu jammy-updates InRelease [119 kB]\n",
            "Hit:6 https://ppa.launchpadcontent.net/c2d4u.team/c2d4u4.0+/ubuntu jammy InRelease\n",
            "Get:7 http://archive.ubuntu.com/ubuntu jammy-backports InRelease [109 kB]\n",
            "Hit:8 https://ppa.launchpadcontent.net/deadsnakes/ppa/ubuntu jammy InRelease\n",
            "Hit:9 https://ppa.launchpadcontent.net/graphics-drivers/ppa/ubuntu jammy InRelease\n",
            "Hit:10 https://ppa.launchpadcontent.net/ubuntugis/ppa/ubuntu jammy InRelease\n",
            "Fetched 341 kB in 2s (160 kB/s)\n",
            "Reading package lists... Done\n",
            "Reading package lists... Done\n",
            "Building dependency tree... Done\n",
            "Reading state information... Done\n",
            "freeglut3-dev is already the newest version (2.8.1-6).\n",
            "ffmpeg is already the newest version (7:4.4.2-0ubuntu0.22.04.1).\n",
            "xvfb is already the newest version (2:21.1.4-2ubuntu1.7~22.04.1).\n",
            "0 upgraded, 0 newly installed, 0 to remove and 19 not upgraded.\n",
            "Requirement already satisfied: imageio==2.4.0 in /usr/local/lib/python3.10/dist-packages (2.4.0)\n",
            "Requirement already satisfied: numpy in /usr/local/lib/python3.10/dist-packages (from imageio==2.4.0) (1.23.5)\n",
            "Requirement already satisfied: pillow in /usr/local/lib/python3.10/dist-packages (from imageio==2.4.0) (9.4.0)\n",
            "Requirement already satisfied: pyvirtualdisplay in /usr/local/lib/python3.10/dist-packages (3.0)\n",
            "Requirement already satisfied: tf-agents[reverb] in /usr/local/lib/python3.10/dist-packages (0.17.0)\n",
            "Requirement already satisfied: absl-py>=0.6.1 in /usr/local/lib/python3.10/dist-packages (from tf-agents[reverb]) (1.4.0)\n",
            "Requirement already satisfied: cloudpickle>=1.3 in /usr/local/lib/python3.10/dist-packages (from tf-agents[reverb]) (2.2.1)\n",
            "Requirement already satisfied: gin-config>=0.4.0 in /usr/local/lib/python3.10/dist-packages (from tf-agents[reverb]) (0.5.0)\n",
            "Requirement already satisfied: gym<=0.23.0,>=0.17.0 in /usr/local/lib/python3.10/dist-packages (from tf-agents[reverb]) (0.23.0)\n",
            "Requirement already satisfied: numpy>=1.19.0 in /usr/local/lib/python3.10/dist-packages (from tf-agents[reverb]) (1.23.5)\n",
            "Requirement already satisfied: pillow in /usr/local/lib/python3.10/dist-packages (from tf-agents[reverb]) (9.4.0)\n",
            "Requirement already satisfied: six>=1.10.0 in /usr/local/lib/python3.10/dist-packages (from tf-agents[reverb]) (1.16.0)\n",
            "Requirement already satisfied: protobuf>=3.11.3 in /usr/local/lib/python3.10/dist-packages (from tf-agents[reverb]) (3.20.3)\n",
            "Requirement already satisfied: wrapt>=1.11.1 in /usr/local/lib/python3.10/dist-packages (from tf-agents[reverb]) (1.15.0)\n",
            "Requirement already satisfied: typing-extensions<4.6.0,>=3.7.4.3 in /usr/local/lib/python3.10/dist-packages (from tf-agents[reverb]) (4.5.0)\n",
            "Requirement already satisfied: pygame==2.1.3 in /usr/local/lib/python3.10/dist-packages (from tf-agents[reverb]) (2.1.3)\n",
            "Requirement already satisfied: tensorflow-probability~=0.20.1 in /usr/local/lib/python3.10/dist-packages (from tf-agents[reverb]) (0.20.1)\n",
            "Requirement already satisfied: rlds in /usr/local/lib/python3.10/dist-packages (from tf-agents[reverb]) (0.1.8)\n",
            "Requirement already satisfied: dm-reverb~=0.12.0 in /usr/local/lib/python3.10/dist-packages (from tf-agents[reverb]) (0.12.0)\n",
            "Requirement already satisfied: tensorflow~=2.13.0 in /usr/local/lib/python3.10/dist-packages (from tf-agents[reverb]) (2.13.0)\n",
            "Requirement already satisfied: dm-tree in /usr/local/lib/python3.10/dist-packages (from dm-reverb~=0.12.0->tf-agents[reverb]) (0.1.8)\n",
            "Requirement already satisfied: portpicker in /usr/local/lib/python3.10/dist-packages (from dm-reverb~=0.12.0->tf-agents[reverb]) (1.5.2)\n",
            "Requirement already satisfied: gym-notices>=0.0.4 in /usr/local/lib/python3.10/dist-packages (from gym<=0.23.0,>=0.17.0->tf-agents[reverb]) (0.0.8)\n",
            "Requirement already satisfied: astunparse>=1.6.0 in /usr/local/lib/python3.10/dist-packages (from tensorflow~=2.13.0->tf-agents[reverb]) (1.6.3)\n",
            "Requirement already satisfied: flatbuffers>=23.1.21 in /usr/local/lib/python3.10/dist-packages (from tensorflow~=2.13.0->tf-agents[reverb]) (23.5.26)\n",
            "Requirement already satisfied: gast<=0.4.0,>=0.2.1 in /usr/local/lib/python3.10/dist-packages (from tensorflow~=2.13.0->tf-agents[reverb]) (0.4.0)\n",
            "Requirement already satisfied: google-pasta>=0.1.1 in /usr/local/lib/python3.10/dist-packages (from tensorflow~=2.13.0->tf-agents[reverb]) (0.2.0)\n",
            "Requirement already satisfied: grpcio<2.0,>=1.24.3 in /usr/local/lib/python3.10/dist-packages (from tensorflow~=2.13.0->tf-agents[reverb]) (1.57.0)\n",
            "Requirement already satisfied: h5py>=2.9.0 in /usr/local/lib/python3.10/dist-packages (from tensorflow~=2.13.0->tf-agents[reverb]) (3.9.0)\n",
            "Requirement already satisfied: keras<2.14,>=2.13.1 in /usr/local/lib/python3.10/dist-packages (from tensorflow~=2.13.0->tf-agents[reverb]) (2.13.1)\n",
            "Requirement already satisfied: libclang>=13.0.0 in /usr/local/lib/python3.10/dist-packages (from tensorflow~=2.13.0->tf-agents[reverb]) (16.0.6)\n",
            "Requirement already satisfied: opt-einsum>=2.3.2 in /usr/local/lib/python3.10/dist-packages (from tensorflow~=2.13.0->tf-agents[reverb]) (3.3.0)\n",
            "Requirement already satisfied: packaging in /usr/local/lib/python3.10/dist-packages (from tensorflow~=2.13.0->tf-agents[reverb]) (23.1)\n",
            "Requirement already satisfied: setuptools in /usr/local/lib/python3.10/dist-packages (from tensorflow~=2.13.0->tf-agents[reverb]) (67.7.2)\n",
            "Requirement already satisfied: tensorboard<2.14,>=2.13 in /usr/local/lib/python3.10/dist-packages (from tensorflow~=2.13.0->tf-agents[reverb]) (2.13.0)\n",
            "Requirement already satisfied: tensorflow-estimator<2.14,>=2.13.0 in /usr/local/lib/python3.10/dist-packages (from tensorflow~=2.13.0->tf-agents[reverb]) (2.13.0)\n",
            "Requirement already satisfied: termcolor>=1.1.0 in /usr/local/lib/python3.10/dist-packages (from tensorflow~=2.13.0->tf-agents[reverb]) (2.3.0)\n",
            "Requirement already satisfied: tensorflow-io-gcs-filesystem>=0.23.1 in /usr/local/lib/python3.10/dist-packages (from tensorflow~=2.13.0->tf-agents[reverb]) (0.33.0)\n",
            "Requirement already satisfied: decorator in /usr/local/lib/python3.10/dist-packages (from tensorflow-probability~=0.20.1->tf-agents[reverb]) (4.4.2)\n",
            "Requirement already satisfied: wheel<1.0,>=0.23.0 in /usr/local/lib/python3.10/dist-packages (from astunparse>=1.6.0->tensorflow~=2.13.0->tf-agents[reverb]) (0.41.2)\n",
            "Requirement already satisfied: google-auth<3,>=1.6.3 in /usr/local/lib/python3.10/dist-packages (from tensorboard<2.14,>=2.13->tensorflow~=2.13.0->tf-agents[reverb]) (2.17.3)\n",
            "Requirement already satisfied: google-auth-oauthlib<1.1,>=0.5 in /usr/local/lib/python3.10/dist-packages (from tensorboard<2.14,>=2.13->tensorflow~=2.13.0->tf-agents[reverb]) (1.0.0)\n",
            "Requirement already satisfied: markdown>=2.6.8 in /usr/local/lib/python3.10/dist-packages (from tensorboard<2.14,>=2.13->tensorflow~=2.13.0->tf-agents[reverb]) (3.4.4)\n",
            "Requirement already satisfied: requests<3,>=2.21.0 in /usr/local/lib/python3.10/dist-packages (from tensorboard<2.14,>=2.13->tensorflow~=2.13.0->tf-agents[reverb]) (2.31.0)\n",
            "Requirement already satisfied: tensorboard-data-server<0.8.0,>=0.7.0 in /usr/local/lib/python3.10/dist-packages (from tensorboard<2.14,>=2.13->tensorflow~=2.13.0->tf-agents[reverb]) (0.7.1)\n",
            "Requirement already satisfied: werkzeug>=1.0.1 in /usr/local/lib/python3.10/dist-packages (from tensorboard<2.14,>=2.13->tensorflow~=2.13.0->tf-agents[reverb]) (2.3.7)\n",
            "Requirement already satisfied: psutil in /usr/local/lib/python3.10/dist-packages (from portpicker->dm-reverb~=0.12.0->tf-agents[reverb]) (5.9.5)\n",
            "Requirement already satisfied: cachetools<6.0,>=2.0.0 in /usr/local/lib/python3.10/dist-packages (from google-auth<3,>=1.6.3->tensorboard<2.14,>=2.13->tensorflow~=2.13.0->tf-agents[reverb]) (5.3.1)\n",
            "Requirement already satisfied: pyasn1-modules>=0.2.1 in /usr/local/lib/python3.10/dist-packages (from google-auth<3,>=1.6.3->tensorboard<2.14,>=2.13->tensorflow~=2.13.0->tf-agents[reverb]) (0.3.0)\n",
            "Requirement already satisfied: rsa<5,>=3.1.4 in /usr/local/lib/python3.10/dist-packages (from google-auth<3,>=1.6.3->tensorboard<2.14,>=2.13->tensorflow~=2.13.0->tf-agents[reverb]) (4.9)\n",
            "Requirement already satisfied: requests-oauthlib>=0.7.0 in /usr/local/lib/python3.10/dist-packages (from google-auth-oauthlib<1.1,>=0.5->tensorboard<2.14,>=2.13->tensorflow~=2.13.0->tf-agents[reverb]) (1.3.1)\n",
            "Requirement already satisfied: charset-normalizer<4,>=2 in /usr/local/lib/python3.10/dist-packages (from requests<3,>=2.21.0->tensorboard<2.14,>=2.13->tensorflow~=2.13.0->tf-agents[reverb]) (3.2.0)\n",
            "Requirement already satisfied: idna<4,>=2.5 in /usr/local/lib/python3.10/dist-packages (from requests<3,>=2.21.0->tensorboard<2.14,>=2.13->tensorflow~=2.13.0->tf-agents[reverb]) (3.4)\n",
            "Requirement already satisfied: urllib3<3,>=1.21.1 in /usr/local/lib/python3.10/dist-packages (from requests<3,>=2.21.0->tensorboard<2.14,>=2.13->tensorflow~=2.13.0->tf-agents[reverb]) (2.0.4)\n",
            "Requirement already satisfied: certifi>=2017.4.17 in /usr/local/lib/python3.10/dist-packages (from requests<3,>=2.21.0->tensorboard<2.14,>=2.13->tensorflow~=2.13.0->tf-agents[reverb]) (2023.7.22)\n",
            "Requirement already satisfied: MarkupSafe>=2.1.1 in /usr/local/lib/python3.10/dist-packages (from werkzeug>=1.0.1->tensorboard<2.14,>=2.13->tensorflow~=2.13.0->tf-agents[reverb]) (2.1.3)\n",
            "Requirement already satisfied: pyasn1<0.6.0,>=0.4.6 in /usr/local/lib/python3.10/dist-packages (from pyasn1-modules>=0.2.1->google-auth<3,>=1.6.3->tensorboard<2.14,>=2.13->tensorflow~=2.13.0->tf-agents[reverb]) (0.5.0)\n",
            "Requirement already satisfied: oauthlib>=3.0.0 in /usr/local/lib/python3.10/dist-packages (from requests-oauthlib>=0.7.0->google-auth-oauthlib<1.1,>=0.5->tensorboard<2.14,>=2.13->tensorflow~=2.13.0->tf-agents[reverb]) (3.2.2)\n",
            "Requirement already satisfied: pyglet in /usr/local/lib/python3.10/dist-packages (2.0.9)\n"
          ]
        }
      ],
      "source": [
        "!sudo apt-get update\n",
        "#graphics, video processing\n",
        "!sudo apt-get install -y xvfb ffmpeg freeglut3-dev\n",
        "#reading and writing images and videos\n",
        "!pip install 'imageio==2.4.0'\n",
        "#creates virtual display within script\n",
        "!pip install pyvirtualdisplay\n",
        "#tf-agents a collection of reinforcement learning algorithms\n",
        "#reverb efficiently manages and stores the agent's experiences\n",
        "!pip install tf-agents[reverb]\n",
        "#windowing for graphics\n",
        "!pip install pyglet"
      ]
    },
    {
      "cell_type": "markdown",
      "metadata": {
        "id": "xnlz8GJdzamM"
      },
      "source": [
        "Train a Deep Q Network with TF-Agents Imports"
      ]
    },
    {
      "cell_type": "code",
      "execution_count": null,
      "metadata": {
        "id": "sMitx5qSgJk1"
      },
      "outputs": [],
      "source": [
        "from __future__ import absolute_import, division, print_function\n",
        "\n",
        "import base64\n",
        "import imageio\n",
        "import IPython\n",
        "import matplotlib\n",
        "import matplotlib.pyplot as plt\n",
        "import numpy as np\n",
        "import PIL.Image\n",
        "import pyvirtualdisplay\n",
        "import reverb\n",
        "\n",
        "import tensorflow as tf\n",
        "\n",
        "from tf_agents.agents.dqn import dqn_agent\n",
        "from tf_agents.drivers import py_driver\n",
        "from tf_agents.environments import suite_gym\n",
        "from tf_agents.environments import tf_py_environment\n",
        "from tf_agents.eval import metric_utils\n",
        "from tf_agents.metrics import tf_metrics\n",
        "from tf_agents.networks import sequential\n",
        "from tf_agents.policies import py_tf_eager_policy\n",
        "from tf_agents.policies import random_tf_policy\n",
        "from tf_agents.replay_buffers import reverb_replay_buffer\n",
        "from tf_agents.replay_buffers import reverb_utils\n",
        "from tf_agents.trajectories import trajectory\n",
        "from tf_agents.specs import tensor_spec\n",
        "from tf_agents.utils import common"
      ]
    },
    {
      "cell_type": "code",
      "execution_count": null,
      "metadata": {
        "id": "J6HsdS5GbSjd"
      },
      "outputs": [],
      "source": [
        "# Set up a virtual display for rendering OpenAI gym environments.\n",
        "display = pyvirtualdisplay.Display(visible=0, size=(1400, 900)).start()"
      ]
    },
    {
      "cell_type": "markdown",
      "metadata": {
        "id": "LmC0NDhdLIKY"
      },
      "source": [
        "## Hyperparameters"
      ]
    },
    {
      "cell_type": "code",
      "execution_count": null,
      "metadata": {
        "id": "HC1kNrOsLSIZ"
      },
      "outputs": [],
      "source": [
        "\n",
        "#training iterations\n",
        "num_iterations = 20000\n",
        "\n",
        "#initial exploration knows nothing\n",
        "initial_collect_steps = 100\n",
        "#how many steps or actions the agent takes at each iteration\n",
        "collect_steps_per_iteration =   1\n",
        "\n",
        "#how many past experiences are stored\n",
        "replay_buffer_max_length = 100000\n",
        "\n",
        "# small batch stochastic gradient descent 64 experiences are randomly sampled from the replay buffer o calculate the gradient of the loss function Smaller batch sizes may lead to noisy updates\n",
        "batch_size = 64\n",
        "\n",
        "learning_rate = 1e-3\n",
        "\n",
        "#how often you return training stats\n",
        "log_interval = 200\n",
        "\n",
        "#number of episodes used for a single evaluation\n",
        "num_eval_episodes = 10\n",
        "#number of episodes used for a comprehensive evaluation\n",
        "eval_interval = 1000"
      ]
    },
    {
      "cell_type": "markdown",
      "metadata": {
        "id": "VMsJC3DEgI0x"
      },
      "source": [
        "## Environment\n",
        "The problem we are trying to solve\n",
        "\n"
      ]
    },
    {
      "cell_type": "code",
      "execution_count": null,
      "metadata": {
        "id": "pYEz-S9gEv2-"
      },
      "outputs": [],
      "source": [
        "env_name = 'CartPole-v0'\n",
        "env = suite_gym.load(env_name)"
      ]
    },
    {
      "cell_type": "markdown",
      "metadata": {
        "id": "IIHYVBkuvPNw"
      },
      "source": [
        "Reset to initilize the enviroment. Intial state of the enviroment."
      ]
    },
    {
      "cell_type": "code",
      "execution_count": null,
      "metadata": {
        "colab": {
          "base_uri": "https://localhost:8080/",
          "height": 417
        },
        "id": "RlO7WIQHu_7D",
        "outputId": "75884d14-567b-448a-cdf4-f94511de3164"
      },
      "outputs": [
        {
          "data": {
            "image/png": "[encoded data removed]",
            "text/plain": [
              "<PIL.Image.Image image mode=RGB size=600x400>"
            ]
          },
          "execution_count": 40,
          "metadata": {},
          "output_type": "execute_result"
        }
      ],
      "source": [
        "env.reset()\n",
        "PIL.Image.fromarray(env.render())"
      ]
    },
    {
      "cell_type": "markdown",
      "metadata": {
        "id": "eJCgJnx3g0yY"
      },
      "source": [
        "In the Cartpole environment:\n",
        "\n",
        "-   `observation` is an array of 4 floats:\n",
        "    -   the position and velocity of the cart\n",
        "    -   the angular position and velocity of the pole\n",
        "-   `reward` is a scalar float value\n",
        "-   `action` is a scalar integer with only two possible values:\n",
        "    -   `0` — \"move left\"\n",
        "    -   `1` — \"move right\"\n"
      ]
    },
    {
      "cell_type": "code",
      "execution_count": null,
      "metadata": {
        "colab": {
          "base_uri": "https://localhost:8080/"
        },
        "id": "exDv57iHfwQV",
        "outputId": "b23ec303-ce2d-4592-b3c8-7342f1727c82"
      },
      "outputs": [
        {
          "name": "stdout",
          "output_type": "stream",
          "text": [
            "Observation Spec:\n",
            "BoundedArraySpec(shape=(4,), dtype=dtype('float32'), name='observation', minimum=[-4.8000002e+00 -3.4028235e+38 -4.1887903e-01 -3.4028235e+38], maximum=[4.8000002e+00 3.4028235e+38 4.1887903e-01 3.4028235e+38])\n"
          ]
        }
      ],
      "source": [
        "print('Observation Spec:')\n",
        "print(env.time_step_spec().observation)"
      ]
    },
    {
      "cell_type": "code",
      "execution_count": null,
      "metadata": {
        "colab": {
          "base_uri": "https://localhost:8080/"
        },
        "id": "UxiSyCbBUQPi",
        "outputId": "f8a80a8b-987d-4cea-c2cc-6e47bc68c23a"
      },
      "outputs": [
        {
          "name": "stdout",
          "output_type": "stream",
          "text": [
            "Reward Spec:\n",
            "ArraySpec(shape=(), dtype=dtype('float32'), name='reward')\n"
          ]
        }
      ],
      "source": [
        "print('Reward Spec:')\n",
        "print(env.time_step_spec().reward)"
      ]
    },
    {
      "cell_type": "code",
      "execution_count": null,
      "metadata": {
        "colab": {
          "base_uri": "https://localhost:8080/"
        },
        "id": "bttJ4uxZUQBr",
        "outputId": "e41c1d0d-9ce7-4021-de8d-64bb9b4f2699"
      },
      "outputs": [
        {
          "name": "stdout",
          "output_type": "stream",
          "text": [
            "Action Spec:\n",
            "BoundedArraySpec(shape=(), dtype=dtype('int64'), name='action', minimum=0, maximum=1)\n"
          ]
        }
      ],
      "source": [
        "print('Action Spec:')\n",
        "print(env.action_spec())"
      ]
    },
    {
      "cell_type": "code",
      "execution_count": null,
      "metadata": {
        "colab": {
          "base_uri": "https://localhost:8080/"
        },
        "id": "V2UGR5t_iZX-",
        "outputId": "f972747e-0b2e-4bed-bbcb-382dad14903f"
      },
      "outputs": [
        {
          "name": "stdout",
          "output_type": "stream",
          "text": [
            "Time step:\n",
            "TimeStep(\n",
            "{'discount': array(1., dtype=float32),\n",
            " 'observation': array([ 0.03163178,  0.00273945,  0.04779093, -0.04194954], dtype=float32),\n",
            " 'reward': array(0., dtype=float32),\n",
            " 'step_type': array(0, dtype=int32)})\n",
            "Next time step:\n",
            "TimeStep(\n",
            "{'discount': array(1., dtype=float32),\n",
            " 'observation': array([ 0.03168657,  0.19714467,  0.04695194, -0.31917924], dtype=float32),\n",
            " 'reward': array(1., dtype=float32),\n",
            " 'step_type': array(1, dtype=int32)})\n"
          ]
        }
      ],
      "source": [
        "time_step = env.reset()\n",
        "print('Time step:')\n",
        "print(time_step)\n",
        "\n",
        "action = np.array(1, dtype=np.int32)\n",
        "\n",
        "next_time_step = env.step(action)\n",
        "print('Next time step:')\n",
        "print(next_time_step)"
      ]
    },
    {
      "cell_type": "markdown",
      "metadata": {
        "id": "4JSc9GviWUBK"
      },
      "source": [
        "Usually two environments are instantiated: one for training and one for evaluation."
      ]
    },
    {
      "cell_type": "code",
      "execution_count": null,
      "metadata": {
        "id": "N7brXNIGWXjC"
      },
      "outputs": [],
      "source": [
        "train_py_env = suite_gym.load(env_name)\n",
        "eval_py_env = suite_gym.load(env_name)"
      ]
    },
    {
      "cell_type": "code",
      "execution_count": null,
      "metadata": {
        "id": "Xp-Y4mD6eDhF"
      },
      "outputs": [],
      "source": [
        "train_env = tf_py_environment.TFPyEnvironment(train_py_env)\n",
        "eval_env = tf_py_environment.TFPyEnvironment(eval_py_env)"
      ]
    },
    {
      "cell_type": "markdown",
      "metadata": {
        "id": "E9lW_OZYFR8A"
      },
      "source": [
        "## Agent\n",
        "\n",
        "The center of a DQN Agent is a `QNetwork`, a neural network model that can learn to predict `QValues` (expected returns) for all actions, given an observation from the environment.\n",
        "\n",
        "We will use `tf_agents.networks.` to create a `QNetwork`. The network will consist of a sequence of `tf.keras.layers.Dense` layers, where the final layer will have 1 output for each possible action."
      ]
    },
    {
      "cell_type": "code",
      "execution_count": null,
      "metadata": {
        "id": "TgkdEPg_muzV"
      },
      "outputs": [],
      "source": [
        "fc_layer_params = (100, 50)\n",
        "action_tensor_spec = tensor_spec.from_spec(env.action_spec())\n",
        "num_actions = action_tensor_spec.maximum - action_tensor_spec.minimum + 1\n",
        "\n",
        "# Define a helper function to create Dense layers configured with the right\n",
        "# activation and kernel initializer.\n",
        "def dense_layer(num_units):\n",
        "  return tf.keras.layers.Dense(\n",
        "      num_units,\n",
        "      activation=tf.keras.activations.relu,\n",
        "      kernel_initializer=tf.keras.initializers.VarianceScaling(\n",
        "          scale=2.0, mode='fan_in', distribution='truncated_normal'))\n",
        "\n",
        "# QNetwork consists of a sequence of Dense layers followed by a dense layer\n",
        "# with `num_actions` units to generate one q_value per available action as\n",
        "# its output.\n",
        "dense_layers = [dense_layer(num_units) for num_units in fc_layer_params]\n",
        "q_values_layer = tf.keras.layers.Dense(\n",
        "    num_actions,\n",
        "    activation=None,\n",
        "    kernel_initializer=tf.keras.initializers.RandomUniform(\n",
        "        minval=-0.03, maxval=0.03),\n",
        "    bias_initializer=tf.keras.initializers.Constant(-0.2))\n",
        "q_net = sequential.Sequential(dense_layers + [q_values_layer])"
      ]
    },
    {
      "cell_type": "markdown",
      "metadata": {
        "id": "z62u55hSmviJ"
      },
      "source": [
        "Now use `tf_agents.agents.dqn.dqn_agent` to instantiate a `DqnAgent`. In addition to the `time_step_spec`, `action_spec` and the QNetwork, the agent constructor also requires an optimizer (in this case, `AdamOptimizer`), a loss function, and an integer step counter."
      ]
    },
    {
      "cell_type": "code",
      "execution_count": null,
      "metadata": {
        "id": "jbY4yrjTEyc9"
      },
      "outputs": [],
      "source": [
        "optimizer = tf.keras.optimizers.Adam(learning_rate=learning_rate)\n",
        "\n",
        "train_step_counter = tf.Variable(0)\n",
        "\n",
        "agent = dqn_agent.DqnAgent(\n",
        "    train_env.time_step_spec(),\n",
        "    train_env.action_spec(),\n",
        "    q_network=q_net,\n",
        "    optimizer=optimizer,\n",
        "    td_errors_loss_fn=common.element_wise_squared_loss,\n",
        "    train_step_counter=train_step_counter)\n",
        "\n",
        "agent.initialize()"
      ]
    },
    {
      "cell_type": "markdown",
      "metadata": {
        "id": "I0KLrEPwkn5x"
      },
      "source": [
        "## Policies\n",
        "\n",
        "A policy defines the way an agent acts in an environment. Typically, the goal of reinforcement learning is to train the underlying model until the policy produces the desired outcome.\n",
        "\n",
        "In this tutorial:\n",
        "\n",
        "-   The desired outcome is keeping the pole balanced upright over the cart.\n",
        "-   The policy returns an action (left or right) for each `time_step` observation.\n",
        "\n",
        "Agents contain two policies:\n",
        "\n",
        "-   `agent.policy` — The main policy that is used for evaluation and deployment.\n",
        "-   `agent.collect_policy` — A second policy that is used for data collection.\n"
      ]
    },
    {
      "cell_type": "code",
      "execution_count": null,
      "metadata": {
        "id": "BwY7StuMkuV4"
      },
      "outputs": [],
      "source": [
        "eval_policy = agent.policy\n",
        "collect_policy = agent.collect_policy"
      ]
    },
    {
      "cell_type": "code",
      "execution_count": null,
      "metadata": {
        "id": "HE37-UCIrE69"
      },
      "outputs": [],
      "source": [
        "random_policy = random_tf_policy.RandomTFPolicy(train_env.time_step_spec(),\n",
        "                                                train_env.action_spec())"
      ]
    },
    {
      "cell_type": "code",
      "execution_count": null,
      "metadata": {
        "id": "5gCcpXswVAxk"
      },
      "outputs": [],
      "source": [
        "example_environment = tf_py_environment.TFPyEnvironment(\n",
        "    suite_gym.load('CartPole-v0'))"
      ]
    },
    {
      "cell_type": "code",
      "execution_count": null,
      "metadata": {
        "id": "D4DHZtq3Ndis"
      },
      "outputs": [],
      "source": [
        "time_step = example_environment.reset()"
      ]
    },
    {
      "cell_type": "code",
      "execution_count": null,
      "metadata": {
        "colab": {
          "base_uri": "https://localhost:8080/"
        },
        "id": "PRFqAUzpNaAW",
        "outputId": "4d73a581-6611-4747-fe22-92968e756af0"
      },
      "outputs": [
        {
          "data": {
            "text/plain": [
              "PolicyStep(action=<tf.Tensor: shape=(1,), dtype=int64, numpy=array([0])>, state=(), info=())"
            ]
          },
          "execution_count": 53,
          "metadata": {},
          "output_type": "execute_result"
        }
      ],
      "source": [
        "random_policy.action(time_step)"
      ]
    },
    {
      "cell_type": "markdown",
      "metadata": {
        "id": "94rCXQtbUbXv"
      },
      "source": [
        "## Metrics and Evaluation\n",
        "\n",
        "The most common metric used to evaluate a policy is the average return. The return is the sum of rewards obtained while running a policy in an environment for an episode. Several episodes are run, creating an average return.\n",
        "\n",
        "The following function computes the average return of a policy, given the policy, environment, and a number of episodes.\n"
      ]
    },
    {
      "cell_type": "code",
      "execution_count": null,
      "metadata": {
        "id": "bitzHo5_UbXy"
      },
      "outputs": [],
      "source": [
        "\n",
        "def compute_avg_return(environment, policy, num_episodes=10):\n",
        "\n",
        "  total_return = 0.0\n",
        "  for _ in range(num_episodes):\n",
        "\n",
        "    time_step = environment.reset()\n",
        "    episode_return = 0.0\n",
        "\n",
        "    while not time_step.is_last():\n",
        "      action_step = policy.action(time_step)\n",
        "      time_step = environment.step(action_step.action)\n",
        "      episode_return += time_step.reward\n",
        "    total_return += episode_return\n",
        "\n",
        "  avg_return = total_return / num_episodes\n",
        "  return avg_return.numpy()[0]\n",
        "\n"
      ]
    },
    {
      "cell_type": "markdown",
      "metadata": {
        "id": "_snCVvq5Z8lJ"
      },
      "source": [
        "Running this computation on the `random_policy` shows a baseline performance in the environment."
      ]
    },
    {
      "cell_type": "code",
      "execution_count": null,
      "metadata": {
        "colab": {
          "base_uri": "https://localhost:8080/"
        },
        "id": "9bgU6Q6BZ8Bp",
        "outputId": "ba80b9c5-bdb7-425c-e825-940aa4d396b2"
      },
      "outputs": [
        {
          "data": {
            "text/plain": [
              "24.0"
            ]
          },
          "execution_count": 55,
          "metadata": {},
          "output_type": "execute_result"
        }
      ],
      "source": [
        "compute_avg_return(eval_env, random_policy, num_eval_episodes)"
      ]
    },
    {
      "cell_type": "markdown",
      "metadata": {
        "id": "NLva6g2jdWgr"
      },
      "source": [
        "## Replay Buffer\n",
        "\n",
        "In order to keep track of the data collected from the environment, we will use [Reverb] easy-to-use replay system by Deepmind.\n",
        "\n"
      ]
    },
    {
      "cell_type": "code",
      "execution_count": null,
      "metadata": {
        "id": "vX2zGUWJGWAl"
      },
      "outputs": [],
      "source": [
        "table_name = 'uniform_table'\n",
        "replay_buffer_signature = tensor_spec.from_spec(\n",
        "      agent.collect_data_spec)\n",
        "replay_buffer_signature = tensor_spec.add_outer_dim(\n",
        "    replay_buffer_signature)\n",
        "\n",
        "table = reverb.Table(\n",
        "    table_name,\n",
        "    max_size=replay_buffer_max_length,\n",
        "    sampler=reverb.selectors.Uniform(),\n",
        "    remover=reverb.selectors.Fifo(),\n",
        "    rate_limiter=reverb.rate_limiters.MinSize(1),\n",
        "    signature=replay_buffer_signature)\n",
        "\n",
        "reverb_server = reverb.Server([table])\n",
        "\n",
        "replay_buffer = reverb_replay_buffer.ReverbReplayBuffer(\n",
        "    agent.collect_data_spec,\n",
        "    table_name=table_name,\n",
        "    sequence_length=2,\n",
        "    local_server=reverb_server)\n",
        "\n",
        "rb_observer = reverb_utils.ReverbAddTrajectoryObserver(\n",
        "  replay_buffer.py_client,\n",
        "  table_name,\n",
        "  sequence_length=2)"
      ]
    },
    {
      "cell_type": "markdown",
      "metadata": {
        "id": "ZGNTDJpZs4NN"
      },
      "source": [
        "For most agents, `collect_data_spec` is a named tuple called `Trajectory`, containing the specs for observations, actions, rewards, and other items."
      ]
    },
    {
      "cell_type": "code",
      "execution_count": null,
      "metadata": {
        "colab": {
          "base_uri": "https://localhost:8080/"
        },
        "id": "_IZ-3HcqgE1z",
        "outputId": "91509d90-4ec4-4e8b-d3d8-4c471328f99f"
      },
      "outputs": [
        {
          "data": {
            "text/plain": [
              "Trajectory(\n",
              "{'action': BoundedTensorSpec(shape=(), dtype=tf.int64, name='action', minimum=array(0), maximum=array(1)),\n",
              " 'discount': BoundedTensorSpec(shape=(), dtype=tf.float32, name='discount', minimum=array(0., dtype=float32), maximum=array(1., dtype=float32)),\n",
              " 'next_step_type': TensorSpec(shape=(), dtype=tf.int32, name='step_type'),\n",
              " 'observation': BoundedTensorSpec(shape=(4,), dtype=tf.float32, name='observation', minimum=array([-4.8000002e+00, -3.4028235e+38, -4.1887903e-01, -3.4028235e+38],\n",
              "      dtype=float32), maximum=array([4.8000002e+00, 3.4028235e+38, 4.1887903e-01, 3.4028235e+38],\n",
              "      dtype=float32)),\n",
              " 'policy_info': (),\n",
              " 'reward': TensorSpec(shape=(), dtype=tf.float32, name='reward'),\n",
              " 'step_type': TensorSpec(shape=(), dtype=tf.int32, name='step_type')})"
            ]
          },
          "execution_count": 57,
          "metadata": {},
          "output_type": "execute_result"
        }
      ],
      "source": [
        "agent.collect_data_spec"
      ]
    },
    {
      "cell_type": "code",
      "execution_count": null,
      "metadata": {
        "colab": {
          "base_uri": "https://localhost:8080/"
        },
        "id": "sy6g1tGcfRlw",
        "outputId": "45aaba0d-c660-452a-efc0-77ace5896375"
      },
      "outputs": [
        {
          "data": {
            "text/plain": [
              "('step_type',\n",
              " 'observation',\n",
              " 'action',\n",
              " 'policy_info',\n",
              " 'next_step_type',\n",
              " 'reward',\n",
              " 'discount')"
            ]
          },
          "execution_count": 58,
          "metadata": {},
          "output_type": "execute_result"
        }
      ],
      "source": [
        "agent.collect_data_spec._fields"
      ]
    },
    {
      "cell_type": "markdown",
      "metadata": {
        "id": "rVD5nQ9ZGo8_"
      },
      "source": [
        "## Data Collection\n",
        "\n",
        "Now execute the random policy in the environment for a few steps, recording the data in the replay buffer.\n"
      ]
    },
    {
      "cell_type": "code",
      "execution_count": null,
      "metadata": {
        "colab": {
          "base_uri": "https://localhost:8080/"
        },
        "id": "wr1KSAEGG4h9",
        "outputId": "5083e430-68b7-41cf-e040-20a0ffac5a33"
      },
      "outputs": [
        {
          "data": {
            "text/plain": [
              "(TimeStep(\n",
              " {'discount': array(1., dtype=float32),\n",
              "  'observation': array([-0.04433946, -0.23497562,  0.10145646,  0.4120321 ], dtype=float32),\n",
              "  'reward': array(1., dtype=float32),\n",
              "  'step_type': array(1, dtype=int32)}),\n",
              " ())"
            ]
          },
          "execution_count": 59,
          "metadata": {},
          "output_type": "execute_result"
        }
      ],
      "source": [
        "\n",
        "py_driver.PyDriver(\n",
        "    env,\n",
        "    py_tf_eager_policy.PyTFEagerPolicy(\n",
        "      random_policy, use_tf_function=True),\n",
        "    [rb_observer],\n",
        "    max_steps=initial_collect_steps).run(train_py_env.reset())"
      ]
    },
    {
      "cell_type": "markdown",
      "metadata": {
        "id": "84z5pQJdoKxo"
      },
      "source": [
        "The replay buffer is now a collection of Trajectories."
      ]
    },
    {
      "cell_type": "markdown",
      "metadata": {
        "id": "TujU-PMUsKjS"
      },
      "source": [
        "The agent needs access to the replay buffer. This is provided by creating an `tf.data.Dataset` pipeline which will feed data to the agent.\n",
        "\n",
        "Each row of the replay buffer only stores a single observation step. But since the DQN Agent needs both the current and next observation to compute the loss, the dataset pipeline will sample two adjacent rows for each item in the batch (`num_steps=2`).\n"
      ]
    },
    {
      "cell_type": "code",
      "execution_count": null,
      "metadata": {
        "colab": {
          "base_uri": "https://localhost:8080/"
        },
        "id": "ba7bilizt_qW",
        "outputId": "a7cb5c41-6480-4b58-ee8d-990b312f8b1a"
      },
      "outputs": [
        {
          "data": {
            "text/plain": [
              "<_PrefetchDataset element_spec=(Trajectory(\n",
              "{'action': TensorSpec(shape=(64, 2), dtype=tf.int64, name=None),\n",
              " 'discount': TensorSpec(shape=(64, 2), dtype=tf.float32, name=None),\n",
              " 'next_step_type': TensorSpec(shape=(64, 2), dtype=tf.int32, name=None),\n",
              " 'observation': TensorSpec(shape=(64, 2, 4), dtype=tf.float32, name=None),\n",
              " 'policy_info': (),\n",
              " 'reward': TensorSpec(shape=(64, 2), dtype=tf.float32, name=None),\n",
              " 'step_type': TensorSpec(shape=(64, 2), dtype=tf.int32, name=None)}), SampleInfo(key=TensorSpec(shape=(64, 2), dtype=tf.uint64, name=None), probability=TensorSpec(shape=(64, 2), dtype=tf.float64, name=None), table_size=TensorSpec(shape=(64, 2), dtype=tf.int64, name=None), priority=TensorSpec(shape=(64, 2), dtype=tf.float64, name=None), times_sampled=TensorSpec(shape=(64, 2), dtype=tf.int32, name=None)))>"
            ]
          },
          "execution_count": 61,
          "metadata": {},
          "output_type": "execute_result"
        }
      ],
      "source": [
        "# Dataset generates trajectories with shape [Bx2x...]\n",
        "dataset = replay_buffer.as_dataset(\n",
        "    num_parallel_calls=3,\n",
        "    sample_batch_size=batch_size,\n",
        "    num_steps=2).prefetch(3)\n",
        "\n",
        "dataset"
      ]
    },
    {
      "cell_type": "code",
      "execution_count": null,
      "metadata": {
        "colab": {
          "base_uri": "https://localhost:8080/"
        },
        "id": "K13AST-2ppOq",
        "outputId": "ace98f05-d3c3-4eb9-8d0f-3b39fece5a89"
      },
      "outputs": [
        {
          "name": "stdout",
          "output_type": "stream",
          "text": [
            "<tensorflow.python.data.ops.iterator_ops.OwnedIterator object at 0x7df411360df0>\n"
          ]
        }
      ],
      "source": [
        "iterator = iter(dataset)\n",
        "print(iterator)"
      ]
    },
    {
      "cell_type": "markdown",
      "metadata": {
        "id": "hBc9lj9VWWtZ"
      },
      "source": [
        "## Training the agent\n",
        "\n",
        "Two things must happen during the training loop:\n",
        "\n",
        "-   collect data from the environment\n",
        "-   use that data to train the agent's neural network(s)\n",
        "\n",
        "This example also periodicially evaluates the policy and prints the current score.\n",
        "\n",
        "The following will take ~5 minutes to run."
      ]
    },
    {
      "cell_type": "code",
      "execution_count": null,
      "metadata": {
        "colab": {
          "base_uri": "https://localhost:8080/"
        },
        "id": "0pTbJ3PeyF-u",
        "outputId": "2a3a1ba1-3968-42cc-da0f-a7d7f6dc154f"
      },
      "outputs": [
        {
          "name": "stderr",
          "output_type": "stream",
          "text": [
            "WARNING:tensorflow:From /usr/local/lib/python3.10/dist-packages/tensorflow/python/util/dispatch.py:1176: calling foldr_v2 (from tensorflow.python.ops.functional_ops) with back_prop=False is deprecated and will be removed in a future version.\n",
            "Instructions for updating:\n",
            "back_prop=False is deprecated. Consider using tf.stop_gradient instead.\n",
            "Instead of:\n",
            "results = tf.foldr(fn, elems, back_prop=False)\n",
            "Use:\n",
            "results = tf.nest.map_structure(tf.stop_gradient, tf.foldr(fn, elems))\n"
          ]
        },
        {
          "name": "stdout",
          "output_type": "stream",
          "text": [
            "step = 200: loss = 13.394308090209961\n",
            "step = 400: loss = 19.674219131469727\n",
            "step = 600: loss = 120.4476547241211\n",
            "step = 800: loss = 35.59233856201172\n",
            "step = 1000: loss = 269.1929016113281\n",
            "step = 1000: Average Return = 85.0999984741211\n",
            "step = 1200: loss = 192.31109619140625\n",
            "step = 1400: loss = 16.367103576660156\n",
            "step = 1600: loss = 55.0667724609375\n",
            "step = 1800: loss = 950.912841796875\n",
            "step = 2000: loss = 409.0748596191406\n",
            "step = 2000: Average Return = 195.10000610351562\n",
            "step = 2200: loss = 42.5493049621582\n",
            "step = 2400: loss = 73.41759490966797\n",
            "step = 2600: loss = 52.868690490722656\n",
            "step = 2800: loss = 125.35369873046875\n",
            "step = 3000: loss = 112.90510559082031\n",
            "step = 3000: Average Return = 200.0\n",
            "step = 3200: loss = 2825.81689453125\n",
            "step = 3400: loss = 1198.1141357421875\n",
            "step = 3600: loss = 697.4395751953125\n",
            "step = 3800: loss = 6286.83984375\n",
            "step = 4000: loss = 192.83486938476562\n",
            "step = 4000: Average Return = 194.6999969482422\n",
            "step = 4200: loss = 148.34005737304688\n",
            "step = 4400: loss = 764.1880493164062\n",
            "step = 4600: loss = 2596.1259765625\n",
            "step = 4800: loss = 396.2806396484375\n",
            "step = 5000: loss = 269.82269287109375\n",
            "step = 5000: Average Return = 200.0\n",
            "step = 5200: loss = 1516.617431640625\n",
            "step = 5400: loss = 206.57872009277344\n",
            "step = 5600: loss = 7556.54296875\n",
            "step = 5800: loss = 19876.267578125\n",
            "step = 6000: loss = 1525.0858154296875\n",
            "step = 6000: Average Return = 175.1999969482422\n",
            "step = 6200: loss = 1074.1510009765625\n",
            "step = 6400: loss = 566.3845825195312\n",
            "step = 6600: loss = 2274.077392578125\n",
            "step = 6800: loss = 313.05108642578125\n",
            "step = 7000: loss = 253.2359619140625\n",
            "step = 7000: Average Return = 200.0\n",
            "step = 7200: loss = 1640.822998046875\n",
            "step = 7400: loss = 1575.5860595703125\n",
            "step = 7600: loss = 498.7499694824219\n",
            "step = 7800: loss = 478.1965637207031\n",
            "step = 8000: loss = 921.9310302734375\n",
            "step = 8000: Average Return = 182.5\n",
            "step = 8200: loss = 474.39642333984375\n",
            "step = 8400: loss = 559.8157958984375\n",
            "step = 8600: loss = 25327.703125\n",
            "step = 8800: loss = 19675.353515625\n",
            "step = 9000: loss = 245.180908203125\n",
            "step = 9000: Average Return = 196.0\n",
            "step = 9200: loss = 1382.0888671875\n",
            "step = 9400: loss = 1544.8287353515625\n",
            "step = 9600: loss = 642.5855712890625\n",
            "step = 9800: loss = 1576.447509765625\n",
            "step = 10000: loss = 1328.14794921875\n",
            "step = 10000: Average Return = 196.0\n",
            "step = 10200: loss = 3649.01318359375\n",
            "step = 10400: loss = 1684.54052734375\n",
            "step = 10600: loss = 3875.40380859375\n",
            "step = 10800: loss = 1335.941162109375\n",
            "step = 11000: loss = 205513.515625\n",
            "step = 11000: Average Return = 200.0\n",
            "step = 11200: loss = 4067.16259765625\n",
            "step = 11400: loss = 1604.605224609375\n",
            "step = 11600: loss = 819.288330078125\n",
            "step = 11800: loss = 3328.4501953125\n",
            "step = 12000: loss = 4136.494140625\n",
            "step = 12000: Average Return = 200.0\n",
            "step = 12200: loss = 2014.381591796875\n",
            "step = 12400: loss = 3307.9169921875\n",
            "step = 12600: loss = 3241.1767578125\n",
            "step = 12800: loss = 4979.748046875\n",
            "step = 13000: loss = 3930.51220703125\n",
            "step = 13000: Average Return = 200.0\n",
            "step = 13200: loss = 6827.2412109375\n",
            "step = 13400: loss = 999.2423095703125\n",
            "step = 13600: loss = 11943.37109375\n",
            "step = 13800: loss = 1072.7010498046875\n",
            "step = 14000: loss = 2194.24560546875\n",
            "step = 14000: Average Return = 200.0\n",
            "step = 14200: loss = 1791.0413818359375\n",
            "step = 14400: loss = 14195.48046875\n",
            "step = 14600: loss = 10061.7685546875\n",
            "step = 14800: loss = 7678.9716796875\n",
            "step = 15000: loss = 116280.359375\n",
            "step = 15000: Average Return = 200.0\n",
            "step = 15200: loss = 1673.996826171875\n",
            "step = 15400: loss = 119769.890625\n",
            "step = 15600: loss = 1274.787353515625\n",
            "step = 15800: loss = 13586.6767578125\n",
            "step = 16000: loss = 4062.8544921875\n",
            "step = 16000: Average Return = 200.0\n",
            "step = 16200: loss = 13955.541015625\n",
            "step = 16400: loss = 23468.5703125\n",
            "step = 16600: loss = 3875.392578125\n",
            "step = 16800: loss = 2054.392578125\n",
            "step = 17000: loss = 13822.7236328125\n",
            "step = 17000: Average Return = 200.0\n",
            "step = 17200: loss = 816412.875\n",
            "step = 17400: loss = 755312.75\n",
            "step = 17600: loss = 4351.16162109375\n",
            "step = 17800: loss = 5686.41357421875\n",
            "step = 18000: loss = 43552.171875\n",
            "step = 18000: Average Return = 200.0\n",
            "step = 18200: loss = 583246.8125\n",
            "step = 18400: loss = 600820.625\n",
            "step = 18600: loss = 3207.513671875\n",
            "step = 18800: loss = 1078281.25\n",
            "step = 19000: loss = 2815.59130859375\n",
            "step = 19000: Average Return = 200.0\n",
            "step = 19200: loss = 10755.802734375\n",
            "step = 19400: loss = 2062.95263671875\n",
            "step = 19600: loss = 5211.48193359375\n",
            "step = 19800: loss = 4876.130859375\n",
            "step = 20000: loss = 36128.54296875\n",
            "step = 20000: Average Return = 200.0\n"
          ]
        }
      ],
      "source": [
        "\n",
        "try:\n",
        "  %%time\n",
        "except:\n",
        "  pass\n",
        "\n",
        "# (Optional) Optimize by wrapping some of the code in a graph using TF function.\n",
        "agent.train = common.function(agent.train)\n",
        "\n",
        "# Reset the train step.\n",
        "agent.train_step_counter.assign(0)\n",
        "\n",
        "# Evaluate the agent's policy once before training.\n",
        "avg_return = compute_avg_return(eval_env, agent.policy, num_eval_episodes)\n",
        "returns = [avg_return]\n",
        "\n",
        "# Reset the environment.\n",
        "time_step = train_py_env.reset()\n",
        "\n",
        "# Create a driver to collect experience.\n",
        "collect_driver = py_driver.PyDriver(\n",
        "    env,\n",
        "    py_tf_eager_policy.PyTFEagerPolicy(\n",
        "      agent.collect_policy, use_tf_function=True),\n",
        "    [rb_observer],\n",
        "    max_steps=collect_steps_per_iteration)\n",
        "\n",
        "for _ in range(num_iterations):\n",
        "\n",
        "  # Collect a few steps and save to the replay buffer.\n",
        "  time_step, _ = collect_driver.run(time_step)\n",
        "\n",
        "  # Sample a batch of data from the buffer and update the agent's network.\n",
        "  experience, unused_info = next(iterator)\n",
        "  train_loss = agent.train(experience).loss\n",
        "\n",
        "  step = agent.train_step_counter.numpy()\n",
        "\n",
        "  if step % log_interval == 0:\n",
        "    print('step = {0}: loss = {1}'.format(step, train_loss))\n",
        "\n",
        "  if step % eval_interval == 0:\n",
        "    avg_return = compute_avg_return(eval_env, agent.policy, num_eval_episodes)\n",
        "    print('step = {0}: Average Return = {1}'.format(step, avg_return))\n",
        "    returns.append(avg_return)"
      ]
    },
    {
      "cell_type": "markdown",
      "metadata": {
        "id": "68jNcA_TiJDq"
      },
      "source": [
        "## Visualization\n"
      ]
    },
    {
      "cell_type": "markdown",
      "metadata": {
        "id": "aO-LWCdbbOIC"
      },
      "source": [
        "### Plots\n",
        "\n",
        "\n",
        "One iteration of `Cartpole-v0` consists of 200 time steps. The environment gives a reward of `+1` for each step the pole stays up, so the maximum return for one episode is 200. The charts shows the return increasing towards that maximum each time it is evaluated during training."
      ]
    },
    {
      "cell_type": "code",
      "execution_count": null,
      "metadata": {
        "colab": {
          "base_uri": "https://localhost:8080/",
          "height": 473
        },
        "id": "NxtL1mbOYCVO",
        "outputId": "3fa0ac7a-09b4-4595-ec0e-dc8abbf25e3d"
      },
      "outputs": [
        {
          "data": {
            "text/plain": [
              "(0.6050004005432132, 250.0)"
            ]
          },
          "execution_count": 65,
          "metadata": {},
          "output_type": "execute_result"
        },
        {
          "data": {
            "image/png": "[encoded data removed]",
            "text/plain": [
              "<Figure size 640x480 with 1 Axes>"
            ]
          },
          "metadata": {},
          "output_type": "display_data"
        }
      ],
      "source": [
        "\n",
        "\n",
        "iterations = range(0, num_iterations + 1, eval_interval)\n",
        "plt.plot(iterations, returns)\n",
        "plt.ylabel('Average Return')\n",
        "plt.xlabel('Iterations')\n",
        "plt.ylim(top=250)"
      ]
    },
    {
      "cell_type": "markdown",
      "metadata": {
        "id": "M7-XpPP99Cy7"
      },
      "source": [
        "### Videos"
      ]
    },
    {
      "cell_type": "markdown",
      "metadata": {
        "id": "9pGfGxSH32gn"
      },
      "source": [
        "Lets look at an agent actually performing a task in an environment.\n",
        "\n",
        "First, create a function to embed videos in the notebook."
      ]
    },
    {
      "cell_type": "code",
      "execution_count": null,
      "metadata": {
        "id": "ULaGr8pvOKbl"
      },
      "outputs": [],
      "source": [
        "def embed_mp4(filename):\n",
        "  \"\"\"Embeds an mp4 file in the notebook.\"\"\"\n",
        "  video = open(filename,'rb').read()\n",
        "  b64 = base64.b64encode(video)\n",
        "  tag = '''\n",
        "  <video width=\"640\" height=\"480\" controls>\n",
        "    <source src=\"data:video/mp4;base64,{0}\" type=\"video/mp4\">\n",
        "  Your browser does not support the video tag.\n",
        "  </video>'''.format(b64.decode())\n",
        "\n",
        "  return IPython.display.HTML(tag)"
      ]
    },
    {
      "cell_type": "markdown",
      "metadata": {
        "id": "9c_PH-pX4Pr5"
      },
      "source": [
        "Now iterate through a few episodes of the Cartpole game with the agent. The underlying Python environment (the one \"inside\" the TensorFlow environment wrapper) provides a `render()` method, which outputs an image of the environment state. These can be collected into a video."
      ]
    },
    {
      "cell_type": "code",
      "execution_count": null,
      "metadata": {
        "colab": {
          "base_uri": "https://localhost:8080/",
          "height": 539
        },
        "id": "owOVWB158NlF",
        "outputId": "a9433055-2680-40a0-ec74-2f77fb2b3a92"
      },
      "outputs": [
        {
          "name": "stderr",
          "output_type": "stream",
          "text": [
            "WARNING:root:IMAGEIO FFMPEG_WRITER WARNING: input image is not divisible by macro_block_size=16, resizing from (400, 600) to (400, 608) to ensure video compatibility with most codecs and players. To prevent resizing, make your input image divisible by the macro_block_size or set the macro_block_size to None (risking incompatibility). You may also see a FFMPEG warning concerning speedloss due to data not being aligned.\n"
          ]
        },
        {
          "data": {
            "text/html": [
              "\n",
              "  <video width=\"640\" height=\"480\" controls>\n",
              "    <source src=\"data:video/mp4;base64,AAAAIGZ0eXBpc29tAAACAGlzb21pc28yYXZjMW1wNDEAAAAIZnJlZQAA0OdtZGF0AAACrgYF//+q3EXpvebZSLeWLNgg2SPu73gyNjQgLSBjb3JlIDE2MyByMzA2MCA1ZGI2YWE2IC0gSC4yNjQvTVBFRy00IEFWQyBjb2RlYyAtIENvcHlsZWZ0IDIwMDMtMjAyMSAtIGh0dHA6Ly93d3cudmlkZW9sYW4ub3JnL3gyNjQuaHRtbCAtIG9wdGlvbnM6IGNhYmFjPTEgcmVmPTMgZGVibG9jaz0xOjA6MCBhbmFseXNlPTB4MzoweDExMyBtZT1oZXggc3VibWU9NyBwc3k9MSBwc3lfcmQ9MS4wMDowLjAwIG1peGVkX3JlZj0xIG1lX3JhbmdlPTE2IGNocm9tYV9tZT0xIHRyZWxsaXM9MSA4eDhkY3Q9MSBjcW09MCBkZWFkem9uZT0yMSwxMSBmYXN0X3Bza2lwPTEgY2hyb21hX3FwX29mZnNldD0tMiB0aHJlYWRzPTMgbG9va2FoZWFkX3RocmVhZHM9MSBzbGljZWRfdGhyZWFkcz0wIG5yPTAgZGVjaW1hdGU9MSBpbnRlcmxhY2VkPTAgYmx1cmF5X2NvbXBhdD0wIGNvbnN0cmFpbmVkX2ludHJhPTAgYmZyYW1lcz0zIGJfcHlyYW1pZD0yIGJfYWRhcHQ9MSBiX2JpYXM9MCBkaXJlY3Q9MSB3ZWlnaHRiPTEgb3Blbl9nb3A9MCB3ZWlnaHRwPTIga2V5aW50PTI1MCBrZXlpbnRfbWluPTI1IHNjZW5lY3V0PTQwIGludHJhX3JlZnJlc2g9MCByY19sb29rYWhlYWQ9NDAgcmM9Y3JmIG1idHJlZT0xIGNyZj0yNS4wIHFjb21wPTAuNjAgcXBtaW49MCBxcG1heD02OSBxcHN0ZXA9NCBpcF9yYXRpbz0xLjQwIGFxPTE6MS4wMACAAAACF2WIhAA3//72rvzLK0cLlS4dWXuzUfLoSXL9iDB9aAAAAwAAAwAAJuKiZ0WFMeJsgAAALmAIWElDyDzETFWKgSuPvzxGbiE4GSGyy+WKXukgApC9x6os48iPrYZIAD5RFAoaG35QmYq7YRVtzHjHpB5zpdl+3pQ2bl0zKxXHtJtA4Z79Dd6XWzoWnZuSR3mC77WSkpp3EHhhnGPwoPJv2uNDZD+w0UB50i024PxfyntC0VjBIuY9Pllq5QeyWp6sv3xp6PwowmNVLvbjgTUcYiYV/+uOmVp4MxxZZLOm6raGR3/nD1pC+p24JXAR0EHQm/AWflvpkdbgITulwfN7uDamCMpxq0fPToCUlZ4coG+wftBlfRd+q92jvNY5+VXstSgB0fu3svgAKtkLytZtJOMr7uytMYJ0/gDBTzb1/YCJtasqbHSuny0b/shlolGyzdcBOV8NHqSjSJFmgX+71dKDDQ9WZhLcXxb8FpI47k7de/TQQox77zKrgNJwcvk/RI5aGgPSsPkIB/cT+SyEeooikfu1AfYj8q2UbKUgk4t89HqX8KmmJVzqQl1vPRzKnIMBWU8S0VFsy4fgjbr92L+KB1B8Jgxq5ja46I74dXbIiI3d1EaPXHUMZzG94SAh0VA1paWYu6oxI5OGHrjeFTktW4tDQ2erK01si1NLTsPpE/A3yy8ssxzZTIhYCCHcgAAAAwAAKyEAAACBQZokbEN//oywAABGfiX/YAnqtGi0pU9pHJ/7GiJRfb053bsdwK4lQg+Q6XAabJoqNzywU4HycB0dgn6n65cqrIz5dLMGxft8DIsfvIp2Ee9Xkks+zQnw2xwtYX7aEC3RDtnCeHA1e5BeJywzsfulVXBBr/kVjCvE545w8HqygM1wAAAAI0GeQniFfwAAFr5LsEJz9psGdPBArbPyCgWiSEq9gPgJq0JtAAAAFAGeYXRCfwAAAwADtRXJfpS86xegAAAAMAGeY2pCfwAAI7HMCY1Zhh96gAjNp6s7e5uHSfi66DfAATHWAfCHAv4Byy6YrgxnwQAAAFZBmmhJqEFomUwIb//+jLAAABoFbhrq1NFVLpzaBPVUHPlQMN4K23mH56aGFKE0FGmo+glNoBZDADdc9cuu/9n/wAaecIDtBFiN1W6MlD39T+Yjw+kVgQAAACNBnoZFESwr/wAACC/yA0wOVoy0rsLUiM5XHuYb1pW897FzZwAAABUBnqV0Qn8AAA0uFAS88fyoXomQk+EAAAAdAZ6nakJ/AAANNJ+XxwNNxWtSV0dPF1RfdE7InJAAAABQQZqsSahBbJlMCG///oywAAADABQVI8DMErr+sMNZh+ACuJovlVGmmV6n4jK3f0BXj9xFNyW2NE2PbWjs7JP6ml0nerIGwybKlxRMKGEYyswAAAAaQZ7KRRUsK/8AAAMABnJoH330+Hi+vCLphWEAAAAOAZ7pdEJ/AAADAAADAakAAAAYAZ7rakJ/AAADAAo+eQzBQPX+9kE3y+VAAAAAa0Ga8EmoQWyZTAhv//6MsAAAGeEHHW3S4Ah72HVvR16Aacuq+cPGTfktLQgEgUN5T52TwWr2c8IhCUx0a/7fkD9AtelArDxkOCBxTBFDtxnEYN+SEMoCRDmKxdScdCV1MNhv2cvKtnrJy4uBAAAAJkGfDkUVLCv/AAAILAy0vH3bMnCAtHVWptlkSsW9kkskL3G0NeFZAAAALAGfLXRCfwAADTewViP2FTsNz/JrLTHxlXxHyRC/gcLWhGARWY/Qv7oScNhXAAAADwGfL2pCfwAABPs1CgCggAAAAEJBmzNJqEFsmUwIb//+jLAAAEQC9/mg6UfW0e5h+cO54gmPcvEbDAGMJD+ZJJGUY59wBvCZ31i2cMV0GO82takcyqwAAAA2QZ9RRRUsK/8AABYlVzCCqo0A10quf9QlCfAChVmRbwY8EM5e1eARXXRCqN6Mt5CVLLE2+OSBAAAAKgGfcmpCfwAADTSdq2Nq0iwfWkx12AAvKDZ3EG+IAQpX4bbChSXb3BY3oAAAALBBm3dJqEFsmUwIb//+jLAAAEQUXVimpHuyl8CqDQAj+rOtJrUzaRnbCwZZBy0Er8TWIWAiQ0coXAwoe8dQ/TFguqexMXzLa0ugz+l1O7y3zeM33SqP5Q4LEih76ZOszFJMZn4F1w71gqK78+qnTemTsmF5DWUIHxE5Glel0kZlso1T327QuWFNE+FvhURwYiUgJxwQBC6b62VzO229YjVS01oluR1pDvC7Bir9EXbN8AAAAClBn5VFFSwr/wAAFixNAZ8gVGLGiLlRohHMd5NhUXQjmCgw6TFC8IlN6QAAABsBn7R0Qn8AAAT4W3mSx9ohKLqdmedQJQfR3FgAAAAlAZ+2akJ/AAAisiaiA/Y/4uGoEWLjk+d0FH7JFp40U37tMMiOWQAAAHNBm7tJqEFsmUwIb//+jLAAAEQC9m+Wu6q2ON34SRPwj77lvmJwPcvRgBP2dfdk13hvhoLAhQNrPOagyAsjq3iL2jbR0WuXF3wGxVAMN3CyzYQWGFdiErpfne6qpjNWxL1pDqbI2XZ3Nqc/mCcYwETChcjxAAAAKkGf2UUVLCv/AAAWLEPN+Mf5uFL02Nb4eC2cr8N0zmCNC6AjPCjO37XcFgAAACwBn/h0Qn8AAAUcW3m2bENE/kTCmTSewO+/AngBB7kcNYz+xBmEtW1mVV4TYQAAACcBn/pqQn8AACKyLTkXlTDdEpM7mW8XraMOa6toIWx4NT53r+tJHLAAAAB/QZv/SahBbJlMCG///oywAABEEMFJDg1rsPDJs7d+EkTbT7Og+V1ZGC1JAgzoWS6zCQlG4TPv5GYbMRFmWqKUatq7W2R5ofjdZx7XsMQUD6N3wVJCNFOlzCH8a4yBpzth6QRqi+94dUvvsFTuExHhcZ/x2LW6GwZsigfBnhi95wAAAC5Bnh1FFSwr/wAAFiMsA6Lr0OauD58aggrM30ItGFFHV0tbBPnsuNeACTPlIJj5AAAAFAGePHRCfwAADN4S8+DWSSJDhgQ8AAAAOQGePmpCfwAAIrHMCW+YK3aAC3gGItLCjcl2cgYZ2PYwzRNrJFIc9nemEwk22ukg6+qCCvIfTekNgAAAAF9BmiJJqEFsmUwIb//+jLAAAEQC9vJ6BJ1Wc3uZ0Yx09DdJIIPG/aObY5TR5JduwyRBeL+WAAqLIj/Fwn7R6v/9zYylAMub8hkDkjgMnLcLSv18to/uvKeraZAv+NERgQAAACdBnkBFFSwr/wAAFixDzbcVdEOXkRpXTonWjd89o6aCa/RwhsxobegAAAAWAZ5hakJ/AAAiscwJb6lvshWW2ywy4QAAAEdBmmZJqEFsmUwIb//+jLAAAEQQwUgLWKKwMYBryGb+T64JsowAGpUXh+Mc48Yl335DBzyl/7RDwYbS4pYl7/XK7sIj3Vg2QAAAAChBnoRFFSwr/wAAFixDzbcWgoOsZQpsbazdudVIcy4qPEzYOeHJ4gt7AAAAGgGeo3RCfwAABPhbeZJPdykkibgxIGysTC4LAAAAIgGepWpCfwAAIrHMCW+pc7HxyRee60sJQIT3zyijhB6+rvUAAABRQZqqSahBbJlMCG///oywAABEJUZgFtodIcrd65e4GHB/2B5EUs5swzH+jf+/iY2tzD3TcFfZmpAI9YZLvtjKf+oopz1IlaQDSmzjNkdtO7+TAAAALkGeyEUVLCv/AAAWLEPNsr7EZYy1srq7ABdQXtbm1h68YYj8mDajX4lRBbpHag4AAAAfAZ7ndEJ/AAAE1YcGepVnDgzelFC4/9v+uvfT+2yFgAAAABUBnulqQn8AACKxzAlvqW+yFVKxgbcAAAA4QZruSahBbJlMCG///oywAABEAgV5PQJOqwbz3Owzn43geNy5kjACwzyXVj4vqXuh3c03npvfZJ4AAAAjQZ8MRRUsK/8AABYjK7UFuRwv5dDXsZLuUW9IFUj0+VrFd6AAAAAiAZ8rdEJ/AAAiq/hbeBQLb1ULutneDI54/zsJKsRep0u0EQAAACIBny1qQn8AACK/BCcLSHJ4Tbbh2EbAA3uKK3ZDLR1ydH3TAAAAUkGbMkmoQWyZTAhv//6MsAAARAL28taARRLaRmXlQpt2INPdlCroHiXUkLtVUT3acqzEN6J1SGoknrg67tirspkCf8YFfxfpC8g3DVUjVV3ATdEAAAAjQZ9QRRUsK/8AABYsQ823FcysmUk+B0KLtWRGo4IkKi1gx9oAAAAQAZ9vdEJ/AAADAAF0Fv4rgAAAAB4Bn3FqQn8AACKxzAlvwcObQjBlmU4WM8lrInvaJ00AAABUQZt2SahBbJlMCG///oywAABEEMFcv8/EKjon15eKqcnfVfJm978iAL/cs9VdIvL7m6kFvU++rePULmw6hLLStg0b2u4hN0H8fmwbWWI1USMMsFKtAAAAHUGflEUVLCv/AAAWJSs3a1peuKKDwjCwOdzHmodMAAAAHAGfs3RCfwAAIsMXaKmlU9T7wgmOsBgt1uuwQsEAAAAOAZ+1akJ/AAADAAADAakAAAAzQZu6SahBbJlMCG///oywAABEALqzJZrUDmMSP2j/XnjTIHooVGF2vABvqJdwKoausF07AAAAJ0Gf2EUVLCv/AAAWIyu1BbkcL+V7icqoOLD4P1cOSY2uLo3vFJwgowAAACwBn/d0Qn8AACKr+Ftz6D0M7hOwr1qYU8hJ/G4pAMXc0lLHLzBoAcxfxnW3oAAAACkBn/lqQn8AACK/BCcMoSx+yomzUZmP4oAewSTJPcN0LMEVG0lMAKYaqQAAAD9Bm/5JqEFsmUwIb//+jLAAAEQC9psvzB9FetIv903ininMLoAC5UhJ6itf9tM1EDY8sWN08j/O0VDQUGay5/YAAAAlQZ4cRRUsK/8AABYlKzVMBKxI4ac5UE0yu5LtFasjimxz6c/24QAAABcBnjt0Qn8AACLDF2ippVPU+8aKZ+UQFQAAACEBnj1qQn8AAAMB1fG/+YlnEb/4LAzZui+dmEX9T8Mv3oAAAACKQZoiSahBbJlMCG///oywAABEFF1FI2tv+ABolrlMChoTUR4VZCjw8sL2TRnc7rCEoiPhzSBWQqNE7bNJK4Vm426FZyrGaa8/DNfdGsdvVpzyk7G1NIbB/DqNivnpZINHKsCF9sNLHTuEHvTqSZXQMbUAJWnbBxEfgCZAfEkzShqHvW9Eo5qu0UTwAAAAKkGeQEUVLCv/AAAWJSs3a1peqjRhkQwS5Q/BhWGeiJgL6v3/JrkpHvROOQAAACgBnn90Qn8AACKr+FixCWZw6tWA3sjvoQsfhgSQJPZ0vFCSUqnU3xNwAAAAGwGeYWpCfwAAAwHPzUaYu4mr9S2lIwj+dUp0RwAAADlBmmRJqEFsmUwUTDf//oywAABEAgUsiMajd32PUUPGYg8I0yIeIiKq03gG02cCf+Y3iCMn8kcspHwAAAAbAZ6DakJ/AAAiscwJb6lvshO/JkdNOE9gK4F5AAAASUGaiEnhClJlMCG//oywAABCEMF/LGhYrjl/xMse0vtcHsQBW9x+58M4FMPxef440Vkd0DWN4uqFDM/KzpUsmC5vgXIk4gVo//EAAAApQZ6mRTRMK/8AABWVWFWKXgfG7yyqguft6kdGjRoT32jsBoN9iVKxqkEAAAAkAZ7FdEJ/AAAhrDkFbBp9dfZBJ4f+M/HTZuFXAVfgQmYZnLPhAAAAGgGex2pCfwAAAwHPzUaYmd4TW4qLigbVhBcqAAAAJEGaykmoQWiZTBTw3/6MsAAAQgL3+aDmPmuQwYUNypocvnXz4AAAABkBnulqQn8AACGyKwcTOOGnCtQLezao0DZhAAAAf0Ga7EnhClJlMFLDf/6MsAAAQhDBV5XlVXHyR3nA04295UssyPIFSXxM4+VW+0CqGeI/kjv4UpP4L6MosLp5AS08g7YraDrSCwxN3s4iBjyxyCQbS9BBizvToytmidSOuSG1VdVY8011fbXbsU3FFNrnLNJiul2w9I9oS52fLZAAAAAuAZ8LakJ/AAAhscwIzjy8tp7QwKI0VmpVt+9mi6RsNuqDQ3ROmWv+DiYkmcoxxwAAAE5BmxBJ4Q6JlMCG//6MsAAAQgL28noEnVYN6FKgA+dqVtjUHvuqys48XdkxW5o3LjwPc2qBm0xDy5wyFsviVI/GbXiwirKctNbUCIQmZ58AAAAwQZ8uRRU8K/8AABWcQ823WvOBrsAA3UDTaQSQBxpdo8UiYDULtB5RRjuCAklyqWIrAAAAHAGfTXRCfwAAAwHPih4CE1hvpAxNtqwgeUSY1yUAAAAWAZ9PakJ/AAAhscwJb6lvshVShawUEAAAAEhBm1RJqEFomUwIb//+jLAAAEIQwUgLWKKwWF4OuJJceukwrHy75BAC4DzYf36rNTXaOF3ILHDIGVq+E4TGpSkYZQ32HN6Tc0AAAAApQZ9yRREsK/8AABWVKzdrWWaIuQFjKRBN90zOWDoeVeXVkYKp/9gnlx0AAAAmAZ+RdEJ/AAAhq/hbeBFZ6jVf3wgAcYhhT4HwvxqlG8ceOit7+CAAAAAbAZ+TakJ/AAAEt+NZ5wbkaoJIG+jw6CRwkZO2AAAAW0GbmEmoQWyZTAhv//6MsAAAQgIFeT0CTqsG89zsM5+rjCOlb9LW/a9AFMUeupJtyc5Fi2kt6gQ3AgPYNI6cGPSy5ukPZWcr7Ya9mqE7aUiCtz+958popK4dUEEAAAAlQZ+2RRUsK/8AABWTK7UFuRw4oLhv/F50oJwYgYFcHFDEgXklGAAAABcBn9V0Qn8AACGr+Ft4Ep1oI4glyJYgYQAAACMBn9dqQn8AACG/BCcSyWzo1MvzyMYGdEFgXJM7i9wZmjtyQQAAAEhBm9xJqEFsmUwIb//+jLAAAEIC9vJ6BJ1WDMsm8O0y3dYXdqjaAKZ0vfHyyLCoOrLIu6MBQDMaSgkbT21ta54aN7DwGaxfQvUAAAAhQZ/6RRUsK/8AABWVKzdrWWaIvjecyax0o0ckvYGewPHBAAAAKQGeGXRCfwAAIcMXaKmk9CIa/u1uKDHkpd2P3OOXvVe9WYxNumSvj7jgAAAAEAGeG2pCfwAAAwABa81DC4EAAAA5QZoASahBbJlMCG///oywAABCAgV5PQJOqwbz3Owzn45sSgBYfc+rnuRabUQCFpWTv/r56hnSOIMxAAAAJ0GePkUVLCv/AAAVkyu1BbkcOKC4b/xedKCcGI1phkjkuG6NCvXjgAAAACMBnl10Qn8AACHDF2iLKBnk9bPsK7+cq490YPNBcQobHZJccAAAAB0Bnl9qQn8AACG/BCcSyWmauFZTHyo7fi+tjQSUYQAAAF1BmkRJqEFsmUwIb//+jLAAAEIC9tZLmrXD5TpZ7qGLg0jvdgBO7Ff1t18hGC/nkW8HakrdZoKvNn+RYKl4VlqGr3Z1WPq4soCW0U2vRVqaKoEG2meKur8X2WT/ccQAAAAtQZ5iRRUsK/8AABWcQ823FcnZDURigyeCgAIh3ccDNErfHTejZ46ONGmNrp3hAAAADgGegXRCfwAAAwAAAwGpAAAAKgGeg2pCfwAAIb8EJxHV4DIeALYINoQOoASyj/wpKN7+qeYCnhE0RVXZgQAAAElBmohJqEFsmUwIb//+jLAAAEIQwUg6aAfCrvI+duiQxLHI+Ipu5bXYEBYYDvSmJ9HFjCWaCXrJOXxspvU2LcklK6f4eDnUlv4RAAAAJUGepkUVLCv/AAAVnD0a40NhTaZmUzxHp80GcsY7HsNnae46jsEAAAAkAZ7FdEJ/AAAMkc6CoASynzgKo0OY2Zu+tF0mrWlBRJopzlrNAAAAGAGex2pCfwAAIbHMCW+pb7IVUpdytfSuNgAAAEdBmstJqEFsmUwIb//+jLAAAEIC9ljj0dawEkXWkElz47awgBrHVaI+r1krOekzE9z7NVREPR1qcMAtgYXiLRvMpeWRiLCKIAAAACRBnulFFSwr/wAAFZxDzbcV0TJ7vvyqz3KvScN1DQ9Ctg3KeYEAAAAWAZ8KakJ/AAAhscwJb6lvshVShawUEAAAAH5Bmw9JqEFsmUwIb//+jLAAAEJ43+Bp/e3wBibwTmWrF4uPEAm+ZjBmj00RugTGAE0mB9zhb4oD7zei3O/ALLNXiU7i25mis0I6P3vCFm2jzV2YNXthmVoKnjm/q23HrpKNVW+IOwqIg2SlTlj8QKMXjOssMYkc0CQ3+LLTwTkAAAAwQZ8tRRUsK/8AABWTZkB5voBo1feV9mgYPXwV31qAng+wIAWcDlZg9fR809B0++fBAAAAKQGfTHRCfwAAIcMXYRYaUs6IP0YAWxeh2SA5wLzI3aTY3gI7VSLG4MzBAAAAHAGfTmpCfwAAIb8EJxLJaZq4VlUW83RTpCrNa3kAAAB6QZtTSahBbJlMCG///oywAABCem8/b8ZkAlbgSYoQTKUw5AIKxsg3zX7tzlVpmUYGN4Sr3dTWvZSsRBUx20fYq0BJf2KYdcLbfYGeLSnGGTjA3moWWvCsZFeLNaR9pX2MTAUjxMv8C7MSpDl2oRXI1Z7RzhRWH9Bdm4EAAAA5QZ9xRRUsK/8AABWcQ8qQbVks0FIdBXIWvadigA+XAUhgAhgfGaD5pW0fZs6IrC/VxvoFZqe6+gY2AAAAIgGfkHRCfwAABNhi7RU0qoaezMIUMwhZrkkjfn4ba8153L0AAAAkAZ+SakJ/AAAhvwQnEslxAC/iz/z6A1agVUZbnzk0jQ5TcUCnAAAAOUGbl0moQWyZTAhv//6MsAAAQBBuxnmpscCvO0jn4MSDhHeBdyFtT/DjVr0coCf9dZQl+QN4H5UrrAAAAChBn7VFFSwr/wAAFQxOAd5AAWz8ffP3MaxsXyy2dpSEaFS7o+H0bwBxAAAAEwGf1HRCfwAABLWHzNkpxHiUcxoAAAAkAZ/WakJ/AAAgsisFsRY7D85Uy2YviYqvr6LHw+cK/ZHYDF/dAAAAaEGb2kmoQWyZTAhv//6MsAAAQBDBfyxoWK47D9kTEh50cDNtFwCa74r9TTkXF+QxrVvSljOMk6usuwWgqYeEc3nuqMOJ52TSJWjPp+FF4ZubfwwuMRtD++vodjukKjxysnuJCulhkX+hAAAAI0Gf+EUVLCv/AAAVDE5sqCSBNSke2jZAhIUeHIPyn4NaLFz4AAAAJgGeGWpCfwAAILIrBbETa7JxOQSIllDYe1o8pvkpirQdCwe1HGfBAAAAj0GaHkmoQWyZTAhv//6MsAAAQBDBVkz49VnR2BhuJekHKlmuRprsHfwBupFCEU7DGANNDzZIUtvIKmb3yHa3S1ycShHuCnt+TLGsozsUuHsEwPz6AjPOcz8ZaW4pX6wU60oH8iTrAU+vU/p6gd1c4BrSVXbPFF5FepgLl6+nqYXKouAbN5eaPw4OIq+hm85AAAAAO0GePEUVLCv/AAAVBSs3h9f1gz59YABNUvb1Lx8P0LhBHLU/ydnx5H9nOgeStnVeh8XFo+OGy0JILPKBAAAAGAGeW3RCfwAAIMMXaKmlU9T7wgrY2Z/9qwAAACkBnl1qQn8AAAS2PYDXFi8MyIcerQcIAK6i9SNdVbhR2OxqOLUymB/bpgAAAF9BmkJJqEFsmUwIb//+jLAAAEAUXUkfzvAEAA6Tqt0lKiRtkkbKfTervrtIiONbVTGuEKMLZizN5B6KJplhYULHHhXRePO5aGbHoOfBk1BB2K4ZLrJMsr9u6s9did3DUAAAAC1BnmBFFSwr/wAAFQUrN2tZZoi5AWMpEE33TM5YOh5sdEZPZdozy7HFeq9oTpkAAAAmAZ6fdEJ/AAAgq/hbeBQLXzstb5dW0803PgQ33SLMS/E23WS9B/cAAAAfAZ6BakJ/AAADAbpo7N7Vsw61yJOQt+oFji1w/NWpZwAAAFVBmoZJqEFsmUwIb//+jLAAAEACBXlrQFS7UZZb1oSNo3UuIbubZUsr2pMesU4LaVc2AJykqyMLdt1HqY2ZPiNDW/T5uIsSFtj80UJ4zTGuzZuTeJ4rAAAAJEGepEUVLCv/AAAVAyu1BbkcL+XQ17GS7l6iVrgWA3TmLcV1iwAAABoBnsN0Qn8AACCr+Ft4Ep1oI4glyN0gtuFfcQAAAB4BnsVqQn8AACC/BCcSyWmauFZTHyo7fi+uGRRy8+EAAABMQZrKSahBbJlMCG///oywAABAJW8ByBcmMn4EcoZGcF+A7NA24A5R0b83QgCJPbH2fROqjJCChrrIoCQe7eC3v8pc+aAmHAF7Y9zewQAAACVBnuhFFSwr/wAAFQUrN2tV6TmFCLcYg1iOPnXpSmSzbF1sOTFgAAAAGAGfB3RCfwAAIMMXaKmlU9T7xoX2wl8/uAAAABkBnwlqQn8AAAS2RWDgbdvxPxEZ+Si0cx6ZAAAAMkGbDkmoQWyZTAhv//6MsAAAQBRdRSNraywhTOz/69EYriGuJfjavbEQlMawnv3ItaiMAAAAHUGfLEUVLCv/AAAVBSs3a1peuKKDwjCwOdzHmoeUAAAAHQGfS3RCfwAAIMMXaKmlU9T7wgmOsBgt5Ws7vtPLAAAADgGfTWpCfwAAAwAAAwGpAAAAUkGbUkmoQWyZTAhv//6MsAAAQAL28noEnVYN8qIJ4m0bWkIBAq0AAsO9+lK+jY2ARJa2R5FTN1d5CMGjeg3RcuEkCqhGYZZ8p6y1o6A+iaGXEdsAAAAkQZ9wRRUsK/8AABUFKzdrWl64udtXyISG7PhWrrgNvaBR6J5QAAAAIQGfj3RCfwAAIMMXaKmleT26/rXoJcXTzisoIWX/dEvpgAAAABsBn5FqQn8AAAMAqGa5fHA03RBszjARVS6W6YEAAABGQZuWSahBbJlMCG///oywAABAAgW85ll7afE3Qnn/CD5FhfOhlPSbPEDv4AHJ/lw0kzqXmsFi7rbUDnXGrD/PEnNuE2K+2AAAACFBn7RFFSwr/wAAFQMrtQW5HC/l0Nexku5aCpQqMxDV82AAAAAZAZ/TdEJ/AAAgq/hbeBKdaCOIEZ6W4gF2YQAAACMBn9VqQn8AACC/BCcSyWzo2IieK3hrvzOGopbiYz57m/d0wAAAADBBm9pJqEFsmUwIb//+jLAAAEAC9ljj0dawEkXWj/XnmuCoWTeD4ACgI/BKTuSlaf8AAAAjQZ/4RRUsK/8AABUMQ823Fc2CDOPq/uFVWKR5jQrc/B13n6cAAAAdAZ4XdEJ/AAADAbq9cRUHtQMTRZ5Y9e7DyjHOHlAAAAAXAZ4ZakJ/AAAgscwJb6lvshVSl3JUhYEAAABTQZoeSahBbJlMCG///oywAABAEMFIC1iisDGAa8h0J6ADXc86vzn/zlo+LrCJKrCTC2125v4N636bOu4eviRV/GnbeUWRoM11ggJmPga+t8I2cGAAAAA0QZ48RRUsK/8AABUFKzdrWWaI3lpZupdva/vADimszscBxIY4sNOc2lcF1dGpOaOqRiGT0wAAABoBnlt0Qn8AACCr+Ft4Ep1oI4l/mgo/76JlQQAAACUBnl1qQn8AAAMBxBa/ye3kdrBy1wGtBJzP3plglN4HXwem8s2AAAAASUGaQkmoQWyZTAhv//6MsAAAQHsf3v0XEz7JQMpLPbUsXqdhw2Fa6MrUAGtYFMPg1CIHUckZBe2le8fyG13k5ZxdOlTEZLm6fcAAAAAvQZ5gRRUsK/8AABUDZkB5vqWoAWL9YOE9AecIbQxcKmRVK13QJ6Lf8+kn0+xA1gMAAAApAZ6fdEJ/AAAgq/hZ0xhbn6jErQkj9JNRt4CchLoYteiTwcorVwjLdMAAAAAYAZ6BakJ/AAAgvwQnEslpmrhWU5D8nBFxAAAAeEGag0moQWyZTAhv//6MsAAAPmH0AAGuygVnM4M1346FvbMIBqJjVWRlXuSk+qk1onYXT2TJYKBInCWOWsHnmTGSASNVEuUaSms4ALkezs/q5HaaNA4FBZVKH0xlIQjYimYwE7YcMu9gvBC1L0H6mWNf6PFwLqhCkgAAAE5BmqdJ4QpSZTAhv/6MsAAAQHpvP93umCSAUe5OVpW/7yAlCrjRsG1YeQ7L5Hi6f1YIoAo33J0T0QEFs02Xz2cFlRtIGZ026rO4e9G7MTcAAAAmQZ7FRTRMK/8AABRzLK4Ww3YcakLxCHr7qgOHQy1Fxz6Ao+5aNSEAAAAuAZ7kdEJ/AAAMGMtWIwSqUaMQAFz0DIlDeDHpE9NlufrKvOmMek/z1xteEeAAQQAAABwBnuZqQn8AACCxzAlvqW+yFUj7/AZ4WIyezH0NAAAAQ0Ga60moQWiZTAhv//6MsAAAPl3HDsnDsYWDbQpFYxeeuoD4H/b/VsH56NAUc4H85m7ltmMfh5toXr3fuutpDBvAHqQAAAAdQZ8JRREsK/8AABR1WFWKzj/YoRkX4YQGMAqajMAAAAAdAZ8odEJ/AAAfyxsPGNhPQqxgP1NKn/5Dyjjx1IEAAAAOAZ8qakJ/AAADAAADAakAAABhQZsvSahBbJlMCG///oywAAA+axsY23r/qXG/FVj2PvEmgcIUPy7nFSgx8v8QAcXX0ePDVJ111gSMGGAtIe90wMBl5SZXSccMKDnBRsLWIp0xiOuxW5yc8PLOF6bFlKdGMAAAAClBn01FFSwr/wAAFHVXfs1NiFipwKOZEME/tnLjNv7TEFkRfgqpCnMAAQAAABsBn2x0Qn8AAB+4oeZLHx/V5J8H2s/AOGT7makAAAAcAZ9uakJ/AAADAbqTtWxrLPSHKsSTpeCpTxt3QQAAAE1Bm3NJqEFsmUwIb//+jLAAAD525UU7OAvQKdV52mQ/Z8/uo0Hsz9ewzlbjH+926/D7e9y4PqK7X5YyQ7MlfBlM6cizZuMJCxj2tFYvQAAAADdBn5FFFSwr/wAAFHMr8dTHZISmRKP0dFIAWZyWBcyMAaSb/r1vHnhrll7H0LgUGGilBUOohb2gAAAAGgGfsHRCfwAAH7ih4ZqHirVf19Bls/AYXcIZAAAAJAGfsmpCfwAAH8fpbJnbW6K8l5gz8pmb9rPlsk4Gs5Wp0YZd0AAAACxBm7dJqEFsmUwIb//+jLAAAD53iArcATJ0qAjv7a0LhzV61F+yNURY+QjLsAAAAC1Bn9VFFSwr/wAAFHUrNzOEIVmlnBeP8J6UfADi2mCY5SqPEyQdH6EqIudDrukAAAAlAZ/0dEJ/AAAfyvjcyq0AJZEw/lw0KK4ije+aHwmANnjbKSc9IAAAAB0Bn/ZqQn8AAAMBupKlnuJUvitvI9oADsKTwGiXdQAAAExBm/tJqEFsmUwIb//+jLAAAD53TEG6UBI2JIy7S30rM71tnlAAceQZ7ln9Ch32FEoI0W9YjW+zIuJ1LmAj8EVk7jTcIahOGWhQ9cn9AAAAHUGeGUUVLCv/AAAUdSs3a1peuKKDwjCwOdzHmoe0AAAAIgGeOHRCfwAAH8r48qmlU9z22ubmKk0FZkQwtQiRqHFdi7sAAAAOAZ46akJ/AAADAAADAakAAAA4QZo/SahBbJlMCG///oywAAA+XcYPLV9kByuPqL/Hlz8Q9FT4ag6o6LlAQXp3hAB9mZQlz2Z5CY8AAAAtQZ5dRRUsK/8AABR1Kzo6E2Jc9+UjqdJSAFraQZlhg91eAmswJMQdNL1u7jspAAAAGQGefHRCfwAAH7h9psIU5eRU9LC9kqxt70AAAAAgAZ5+akJ/AAADAbn6OeNqxU7YDW/33i43WkbXsolJ7AIAAAAqQZpjSahBbJlMCG///oywAAA+XQpj4dGTI9Im615mK8U2Pta2WV3/yLZ9AAAAKUGegUUVLCv/AAAUcyu1BgCt1nwAtl4sFd5eBktAoBapqn4k4yYnUOBgAAAAGQGeoHRCfwAAH7h9psIU5eRSBAjSFHuV4GEAAAAXAZ6iakJ/AAAfx+lsnylpmrhWayllhtQAAAA2QZqnSahBbJlMCG///oywAAA+XcZPw6IGQMPX37RsAM/e00/Y4IqRWb2i88bEv9Vl0T7EKaZpAAAAKUGexUUVLCv/AAAUfEPKjoT5yTXPRMnsbAn1xhmX9/jDs4RLbrAkVdgrAAAAIQGe5HRCfwAAAwG5vE6omCEWG8kjJ/ob6iAiR4zYJ2nowQAAABsBnuZqQn8AAB/H6WyfKWma7DL9NDxSlz6pG7sAAAAXQZroSahBbJlMCG///oywAAADAAADA0IAAAKQZYiCAAQ//vdOvwKbRZdqA5JXCvbKpCZZuVJrAfKmAAADAAADAAADAtr0eJM75NTxNgAAAwEHAChhUxEhIBSxvCoEqKP8Ixp5ANVDdanJhZH3QASKz/3bfzcVhAdzkJHudTOlZW4+GVw/3/v9coMbC9si3Q3oLAYcNVLGDv0NqcB5/qnnVjhLfT1l0vCSH/S4TSsivLwBJbx/YFHLRD536TSAx4Nnu/+d8YZa7r0Eor8IQ5YZY2XUqeMZvlliIShiLfPM8LkLnWH0zw+R0wWD0dSESk4S6jB9ye67kOUrcGYH075ckIwcGISV0kkYrsTRLbKoD87CyEtf/cyZLTzPaa8zea/WIlaBUoTlpEcMksn3qShE9OJlom+LSHMfWAn7rd0aAUC0wXFpD44qk592qSl8sM8iVBjYBg2lkaCDdQ6n2FciaTAN1e4PP4ICjtTWKNYkp18ySllk+0uLKVGwMGXIscGwzSLtSeqgD0VAaNFIJr74Cf+phkkFILKe2xc/cdZFsVGFDEwj8DKpX8MlxjIhSVQZrGT32LHGYP8BkqHnVb5RMH29X8HhjOHIrxp1vzsDf8fnPay3YfLqTesjDio0pjjY0jN65ZJQ+I685R1kk1g2qm0GMUtEvYW+J4NLWiE9rSIoWLRQZIxeV3q2dXnaHmsvjg6uZUSxi+pDkjrQjVfnpuOCBiDt6UZdt4mF2ZKdkwNs/sGI6xhBlAYq1HgUBUTNtuDsHsZQRlwzAfmZufh8CJK1/dLPzhHqOdWe8ou9FKbkuB1IfcxOjFqwEv+27SwB/nR2Ps3oMCw9NdibgZhJG5/ZfxIAS+vXeZODdLy7MFH5LGqGSbkpGDbSuUEGdCcmYE0AAAMAAAMAAsYAAAAiQZokbEN//oywAAAar1tCQTADalwkyj1G8ft3uDXZLEAf4QAAABVBnkJ4hX8AAAhSijKq557JUjuAJeAAAAASAZ5hdEJ/AAANfhLzzQPSAM+AAAAAEAGeY2pCfwAADYSdq3UAO6EAAABNQZpoSahBaJlMCG///oywAAAZ7mZO0JFKqrjEdMteSN/qEXMB2TU5oSnYAD+Ne/qfCPb9mc3MINrx5pYB+jg0rAoBm4p48TpZSZtvakkAAAAhQZ6GRREsK/8AAAhxTHOea3P0T1F2pm7VWyCjkMy9AICBAAAAHAGepXRCfwAADX4KO2LWv7L6c+pJHiC7A0WW9mAAAAAQAZ6nakJ/AAANhJ2rdQA7oAAAAI5BmqxJqEFsmUwIb//+jLAAABoFbKBXXxeWNKJhMdybYEjWXQMHPPPQZAJQok0APpdhMSQ5YUVV2+ALBHeBcEiPjz+zSHO9lTcK8HTdSRkrZpsG7EgdUrIjsN1u2ei5AmjuF1f391S2cc2pVcDGBRCfjDC70a1frzDAmD7ncFBoxEIjywwrjjP65U1VmQqBAAAAMkGeykUVLCv/AAAIcU4xfFK3p5zTzzSLJGcI6F0GsScWgGBJ0WP2B7y20SlBFLPg4t00AAAAHgGe6XRCfwAADX4KO2fOMS1yRsGa68UoBCbjMqWMEAAAAB8BnutqQn8AAA2EjNKt1vR0EQmycZy5Yb2CCjiCIsfBAAAATkGa7kmoQWyZTBRMN//+jLAAAEQC9lj0Abk8yt2J8AUJ2yFO813PmkmX3SbkUmtUezDKPpp5j51+xgIWadjfIwj25Lfub028uQ+OatdyzAAAACUBnw1qQn8AACKxzDXK4vBFMEiZKMXQzJuVSbiTytdEgxC18+fBAAAAlEGbEknhClJlMCG//oywAABEEMFIC41HBbuhvp/qeKRABsKxBZoa8ZxNAcqzip0WypFEoQIX+4SixcspeYoZ5YNhVG99JSAN8kJvSJVZqm/P5j8rw2khDUkB/Py9A+FsXrAUQlwvk1E7/OCJ8BDjp7iERLjHItPxoaRm6kRPrSdh3dtJKeRu1y2DWR0JeGL0NIzRPmUAAABEQZ8wRTRMK/8AABYsQ9A+2kxcG3BGS9j3aKCjjgQBCrb0dCmZs2IY7c9XHnqM5siESdkr7880/cAkD0liWqqLFDu1jegAAAAiAZ9PdEJ/AAANffLMQLtjlPWsZvS+wKXtDEMmdV07MZ9t6QAAACMBn1FqQn8AACK/BC2hUTRckBqFLRvjh+UhnLe5zGopRoSGwAAAAGBBm1VJqEFomUwIb//+jLAAAAnF1X/aoYfhJv1CRSS5uAAW0M3WocjjyMOho/1q7nmCbOoy7q/ABrO9vf7gUOpc2pjVUhb7XrKfo7i8N3ZxT3KTO1BekSB1wTIcfuqP++EAAAAgQZ9zRREsK/8AAAhxT7Izeli6g3msWarEB5Ey0xKPgsEAAAASAZ+UakJ/AAANhJ2rfq6dIFlAAAAASkGbmUmoQWyZTAhv//6MsAAARAIFeT0VfAtTAKABo2+PpI9YNfpNlUs66LyDTXiLegX7j3ARfElpc7QnVtFXbUrM9U/e/ELMZTSqAAAAL0Gft0UVLCv/AAAWIyu1COem070gCBuf1aE57WhumtL6/7fOMOYOlO7JVUJ089W9AAAAIAGf1nRCfwAAIqv4W3gSnWgjiBHE7oIeMgeMfyVYtN6AAAAAGgGf2GpCfwAAIr8EJxLJaZq4VlMfKeXj7LuBAAAAWUGb3UmoQWyZTAhv//6MsAAARAL3ecy7bZ1POXqsLdxaDSU8ou5zZtYZrJd40FIFrFMGaWRWDwCYByUVNw+1i48caeXFRhffRbPBWx+cUvvCf7hIOBDVuhIEAAAALEGf+0UVLCv/AAAWLEPKUaNifNfoMOwOy33xUKZZ9ChlDzn9mqK+1nrypWaBAAAAIAGeGnRCfwAABNWHIO322YOyA9hrN7jT3WWjxQ3CrWaBAAAAGQGeHGpCfwAAIr8EJxLJaZq4VmtHUN9o6oEAAAAzQZoBSahBbJlMCG///oywAABEEMFIC1iisDGAa8hm+fwcX0AmF4+0cAOOkld69sbBfNjhAAAAJkGeP0UVLCv/AAAWJSs3a1iHBb/qJ/Vx1GDd7oQWV/Dzd8utA1vQAAAAIQGeXnRCfwAAIsMXaKmd8bcsi60RBoURCxJFjfACNWbJ0wAAABoBnkBqQn8AAAMAteYSz3Elpt7pnx6SBvAtvQAAAE5BmkVJqEFsmUwIb//+jLAAAEQC9ljj0dawEkXWj/XnmcxwpwAUD/FDFNuWtfHPWciDl7MOuBt8w7q8g88I2DVouyKM+f0oVLT0u7YmhGAAAAAdQZ5jRRUsK/8AABYlKzdrWl64ooPCMLA53Meah0wAAAAhAZ6CdEJ/AAAiwxdosjpdPUe3nItzXiiBRgwKcN8pdE+BAAAADgGehGpCfwAAAwAAAwGpAAAAY0GaiUmoQWyZTAhv//6MsAAARAIFKUWaAe1u88E3sHJAOIbuYykxbFDRVEFSj2uDp7Sr1vRunBVIDnBXc73wigsBNPegS7nxq8/OrQLSOqVS7vG/zYzUloLOxOScFRapssDEqQAAADNBnqdFFSwr/wAAFiNmQHjPZydFQAltenUiGMXYfsLjJrkvA1heOSGj5S9ZgrriyH5l8MwAAAAeAZ7GdEJ/AAAiq/hbeCeSXIoMeHv03Gr/w9zL7ut6AAAAGQGeyGpCfwAAIr8EJxLJaZq4VmspalGMBUEAAABWQZrNSahBbJlMCG///oywAABEAqnavqPxbX/aMN4pxvSnWMAJq7VVnRdUh8YUiDdfR2J8OgDiliC+4HcI0zPVbD69mehec/nH0zn1nRX/+BQYiX+NF4AAAAAlQZ7rRRUsK/8AABYsQ80csg6v05cQrzVpWIz+tmOQHFVc4jAKMAAAACIBnwp0Qn8AAATYaOER4SUg+seSN/oUTdACp/1Xlo54LqqRAAAAFQGfDGpCfwAAIrHMCW+pb7IVUrGBtwAAAFtBmxFJqEFsmUwIb//+jLAAAER43+Bp/e3v0XH+9IDuAuLRnaWs2rFo5r0RP1YmuhhG1drHK+UkJjWjS1T5LUU7PKA69mWk2A4NYa6Ui7K63LJOR4b08UbMJRNBAAAAMEGfL0UVLCv/AAAWIyu1BgECCAKKMECdDLfYlFXkd8qVz4XQBuXXvnQWlNA3TmVrewAAACIBn050Qn8AACLDF2ippXk9uv616CWwhTqv2b7V4yKSkJCwAAAAGAGfUGpCfwAAIr8EJxKwRPAKtWXOWQwTMQAAAHhBm1VJqEFsmUwIb//+jLAAAER6bz329YPXnAwd99Hc5NwhXjT8HG/G0rMpUntsD/WZIfpqRsAVvDe/6/pa6Ste4QfKmoXubmwGGJPplUHm+sqtqH8gixzjVtyFBcIKuA4MdyLHc91SGHUmLWcY6yDoqbTTt7cnrEAAAAArQZ9zRRUsK/8AABYsQ80f89a4kXgz4Cki9AleiL6vFutKP8tW+zurKsiUZwAAABoBn5J0Qn8AAAT4W3mSx4TJZ4DK/IGyXEaMqQAAACMBn5RqQn8AACKxzAlvrGqgpHc1eySNJgY+tiXXvlp3Fan7QAAAAD1Bm5lJqEFsmUwIb//+jLAAAEIQwX8saFiuOX/Evtq6MNk3OmlAf3oqH7OnAYADJH1JCp5pv6ZanzSCjbhIAAAAHUGft0UVLCv/AAAVlVhVis4/2KEZFYbKfH1+FHxtAAAAJAGf1nRCfwAAIcM6Z2ZFiR8mIIRSIff29UqzJNDvNrXeI8zqgAAAAA4Bn9hqQn8AAAMAAAMBqQAAAFlBm91JqEFsmUwIb//+jLAAAEIlHMKdJuVVcfJHeBJUOjZoZZxI+8wycONgYXNxJ3WwAGCrf63B9qXa7wmmdAcSrOk0lF+OYXg0qdGXVvmfypPU/DbxBje2nAAAADFBn/tFFSwr/wAAFZMsA5497PT2Q70XQ8S8HwZzj8s84AButGWwsfV6QKws/QsuvQuPAAAAHAGeGnRCfwAAIaw5Ba5PHz8Vpqd5cGm3jmZRC5UAAAAbAZ4cakJ/AAAhvwQnEslpmrhWVRbr/iWWCvWBAAAAdUGaHkmoQWyZTAhv//6MsAAAAwFb9g4dPQ44FrS1+2QRAf+xhEd/zTp+MBaEuIY8IIALy1rZ5lbUD83ZawTDVV6TDeotI4Cx/MKRV2Dx4u6s7xMOzmKGCnUejr5yxl4stHePGAHAzg36+DELgAuntirpQXMIoQAAAFVBmiJJ4QpSZTAhv/6MsAAAQgL8MQCXqog3DTX2k2ejMdj+lzptvjGU4rSb/K+lAM5mT2qNvrbqqliTfTiW5bjSGUOzL+S26ywkSRoGm90B2qGGv83YAAAAQ0GeQEU0TCv/AAAVnEPMu0nCrhe/9ACxaN4f3JHuzC8LAyAc9vL0yopDSZ1H9LpVpG07yjs3SITThVtikq3+EVI7EVAAAAAbAZ5/dEJ/AAAE1X8LbwJTrQRxNNTRlpmCLlGBAAAAKQGeYWpCfwAAIbHMD3X3gjhZJI1BRLka0qggwEQAsz5npVpLbK3GPjtgAAAASEGaZkmoQWiZTAhv//6MsAAAQgIFeT0HlkqADTSk5lE23fj+wAj4/IoqRhULj5ixDSj5YG0RDNuQM4XZV3XHaRD7v2f3LKRnMAAAACpBnoRFESwr/wAAFZMrtQWxOyUkr07adpGXckns0QFcZoXqX4ihrfmI7KMAAAAXAZ6jdEJ/AAAhq/hbeBKdaCOIJciWIGEAAAAdAZ6lakJ/AAAhvwQnEslpmrhWUx8qO34vrY0ElGEAAABeQZqqSahBbJlMCG///oywAABCJW8ByJ0Ar7K4wvP5Ro6pUeVPeR+N/A1V4oiW8IxiUU9d5w07QxuLrpfgPDFuLurE94cuXDFIB7HLUE33AK8PMXxV1LDVmicoDJePQgAAACdBnshFFSwr/wAAFZxDzbcWgo7/n+LKDIbEoDwSFQU8BOeXJiNlx2wAAAAOAZ7ndEJ/AAADAAADAakAAAApAZ7pakJ/AAAhscwIzjzH0xP14irzMWjpmZvdUK7s+Ip2tzSlStt9NpIAAABIQZruSahBbJlMCG///oywAABCEMFIC41Gvtz5GV6Ax05ZIAh2bTp/50O3hkGoj7zcAbx+aJSc+fyke5bQmfKEL/5fPHTZq2nSAAAAJ0GfDEUVLCv/AAAVlSs3a1lmiL/C7wJImwshMzWOosmi1H1eillZgQAAABsBnyt0Qn8AACHDF2ippc2MghoFL6oFNZbkYEAAAAAbAZ8takJ/AAAEt+NZ5wbkaoJIG+jw6CRwkZO3AAAAREGbMkmoQWyZTAhv//6MsAAAQgIFvOZZe2nxN0KIoACtaU94O4V4HecriFJXugM49K5LawuGsx3q3pjOlhLDBMwSjTZpAAAAKEGfUEUVLCv/AAAVkyu1BbkcOKC4ZHLmH/ZQJ3Dqm4iuMqsV44VaVRgAAAAYAZ9vdEJ/AAAhq/hbeBKdaCOIEZ6W74P9AAAAIQGfcWpCfwAAIbHMCW/A5b0mpvByd0Jpj4XnNa+uLUZRgAAAAFpBm3ZJqEFsmUwIb//+jLAAAEIC9tZLmnRFAAIU+nX7RrRPPl9YGI3dEGBNuKPD4LtU0fbvO+uQWYBHW8J4Kg2tmkDPt0J1BpXpTbggWE3AIB/p7LJQjHsF+MEAAAAvQZ+URRUsK/8AABWcQ823FczhCAG7qJyqzqcUmjkZWxLECukaRziW2VwGbft067MAAAAdAZ+zdEJ/AAADALEKTPmD1oRdQt6fl8ShLEzW4G4AAAArAZ+1akJ/AAAhscwJb6WTQDXxUozOtHCpGKGt4moAW2b4hZSR/M9eQNj7bQAAAEhBm7pJqEFsmUwIb//+jLAAAEIQwVVzS/s0TLko9Tvd+c8LLQA0zmpgX+CyZtP2txFMM1s7hsRLZXPLsUMdeTimejISxFI+rREAAAAvQZ/YRRUsK/8AABWVKzdttoAP7VVnsnxarIsddF8xKrvOBBhNATQNpcb7lKdhdmAAAAAcAZ/3dEJ/AAAhwxdoqaVT1PvCdpjcL9FsyNWbgQAAABwBn/lqQn8AAAMBxX/Vd7biGqFEW+iJIyDv1u44AAAAfkGb/kmoQWyZTAhv//6MsAAAQgC8dxAqf5mnT29TeuY29dVa8pXFcXCvy99qkjPLF5oRbVrlaK1fSW3fsEhkGTbdPqgst4+tXTxcAQeovyJpUhAwcxdX9njkeW/cotUPQzcOAg1Vvcm5m8R3uJnF2AiDP8pmcIaTgXkRimWMDwAAACxBnhxFFSwr/wAAFZuCq7dNulzO8GCZRrbr9EVSJ94MYToZ1C24tQF65iqpFQAAACMBnjt0Qn8AACGr+Ft4FAtfOt9dNbA/10Y9zUgOhib0yuQ4+QAAACUBnj1qQn8AACGxzAlvpZNBWWd3DUZCW4EzLoBTTcD000uf8CXhAAAAgUGaIkmoQWyZTAhv//6MsAAAQnseRz8wmvX6niySG3O+ShEE2UkZdhcNUjb26a4M5OXv4p2eRzVS1NYot76OB9PCau1gbqrMvJrOFUcV3KZPQNpuAkDLUKPorRcZE1rGiNpDL/Gu5ycpfrOCN5eoEETZLaBijyoFlvjoxcMDoo4WcAAAADRBnkBFFSwr/wAAFZMsA4GahObPAe0C0QHCDWIBIcos/M6dN/KusASGzALAK3NEekHLIONgAAAANAGef3RCfwAADN4S8ySe/UY6IcS0E/SPBKmETz2MjgDnpfFgCUOD8BHPdAGAbqWspZv7B00AAAAXAZ5hakJ/AAAhscwJb6lvshVI+87uRMwAAABdQZpmSahBbJlMCG///oywAABCem899vWD2Wfp5MRxU2wXBm+5ihUGvel7aLaL4Aak55GwES/91ityntNOawE6JvHnxAXYgEeSjB6af0IhhjyPlW2BF9yqRrNroD8gAAAAHkGehEUVLCv/AAAVlSs3a1peuKKDwjCwOEkkOCLMwQAAAB8BnqN0Qn8AACDDRxwDTVTAE026lY4Bb5YBrFV7SgHBAAAADgGepWpCfwAAAwAAAwGpAAAAP0GaqkmoQWyZTAhv//6MsAAAQAIF/Mb5re0VV49kA96hnPDGYFSmyI35vM6nlxfdYjfXQXzIkDmGo7wRt7f/KAAAACRBnshFFSwr/wAAFQMsi8RzyQKZY7k18Ym/bGwt8RSg/yeu2pAAAAAeAZ7ndEJ/AAAgrDkF4NnVQGu/feuhk9Cc3DhI9CzBAAAAEwGe6WpCfwAAILIrBxM44ak8J2AAAAB2QZrtSahBbJlMCG///oywAABAAvY/+ld8Nn1qkAhnPw1ZORKlb9JLagwBG9/hXQHpMIDLygo27kJUqEWlz1qL8zLiB9Z9yoijkMjcY/PH3QLKaZQVQBshAewWkIyyAUiIgiOEerKqSn6eSc3R9XtvlwSW3oRS/gAAACZBnwtFFSwr/wAAFQxDzbcWgoOsZQptxQCk8PQsNyheeOiHLo0EVwAAACYBnyxqQn8AACC/BCcSyJuXloXsMKshdMy2AcoYIQhmAAEGIXLpgAAAAEpBmzFJqEFsmUwIb//+jLAAAEAQwVVzS/s8SNr9E8i+MmfbPBMKFmR7J8W//BJWdPR010jLWoEy0+zRux6w2sol4k2eIeRRVJfvvQAAACpBn09FFSwr/wAAFQxDzbHhDkgQcclOTMc3ld/0cPRL+iuUZDzh2jRZw2EAAAATAZ9udEJ/AAAMPhLzJY+P6vmiRgAAABsBn3BqQn8AACCxzAlvqW+yFUj7/QYJtvmXvhsAAAA0QZt1SahBbJlMCG///oywAABAAvby1oEgAfGv2ivM3lQpt2INPdlB/dpk4j5PWh4ikARF/AAAAChBn5NFFSwr/wAAFQUrN2taXw7dfcAAF0EsbxgoN5ojb1z17mAY6g8pAAAAFwGfsnRCfwAAIMMXaKmlU9T7xot9eEO7AAAAGwGftGpCfwAAAwHEzUXVTcFWtX7sj+LIqEdLpgAAAGFBm7lJqEFsmUwIb//+jLAAAEAlpJVWoCR7QAcToPsKzpR3spbIhxlJRnlSoFgG4GTneTTQFQtOYUjxKItcKm2pef8sDGWZqgGaZ8u8a2k4Zs0zbkn4YKTgzIVXOWx97ZbwAAAAMkGf10UVLCv/AAAVBSs5dt4AAupk1G1k/j1iVrA2m54xvf48p1mq/6R8mS3ovrp7GNKLAAAAHAGf9nRCfwAAIKv4W3gSnTzOlmseq1Wy5QcDQccAAAAqAZ/4akJ/AAAEl+Pvsxp6AEsM6dwExnIPNpx/dMWSncpq582mQCw34k8pAAAASkGb/UmoQWyZTAhv//6MsAAAQAIFebvGA/xc0UajaN1LiG7m2VLK9qTHrFOC2lXNi/ogFs/zhqX+rO9jz9WoHLCvjCfyCx16h3GLAAAAKkGeG0UVLCv/AAAVAyu1BcOKAEtM7VZ1eenW83d0y4rZePvNryY+QwDcIwAAABkBnjp0Qn8AACCr+Ft4Ep1oI4gRnrLf2a0xAAAAIQGePGpCfwAAIL8EJxLJcUAjBfhsxG/kjahuIfZjC6pVgQAAAEdBmiFJqEFsmUwIb//+jLAAAEAC9vJ6BJ1WDee52Gc/VhVE1ZACgf4oPkpuwqhqn13nnmwpWnRxc37AVdCChDqvjnqvEYPLwQAAACFBnl9FFSwr/wAAFQxDzbcVzKyZST4HQorLh5xUWHkaeUAAAAAOAZ5+dEJ/AAADAAADAakAAAAbAZ5gakJ/AAAgscwJb6lvshVI+/wGKMg+d55RAAAAXUGaZUmoQWyZTAhv//6MsAAAQBDBXL/PxCo6Olo/EQH2RgABCnSAvVgaMpoELZC/eTevmHNuJsbsvFE+rCxzgpLfFDHFxJLmZqMDRMX8Gw4trgI6l1fX+oy+Jk3amAAAACZBnoNFFSwr/wAAFQUrN2tg53QoPeW7msxmCtJzIFoCvmovYFUTvQAAABUBnqJ0Qn8AACDDF2ippVPU+8goB4UAAAAiAZ6kakJ/AAAEtkVeyebpImmKIoxPjNoLrmo9KdnmgxIx3QAAAEhBmqlJqEFsmUwIb//+jLAAAEACBbzmWXtp8O28oANazh3YkT17F2D79AcjvvEuFQjLAEafgQ1lDRz/Weep5lkcP776CzQFuoEAAAAqQZ7HRRUsK/8AABUDK7UFuUFoANrVqm1VsmD7oTurijBZostJSxmgA4pAAAAAGQGe5nRCfwAAIMMXaKmlU9T7yJZnjWLoq2AAAAArAZ7oakJ/AAAgvwQnFBs+e+qgBKK8CMpRF/SMvjdlZ4c+M0RFpsrNgD+IYQAAADxBmu1JqEFsmUwIb//+jLAAAEAC9ljj0ZrSAAOk2JqkQpHqJPTmXgaOHqByIs7VICDI5imKY76o+nJybL4AAAArQZ8LRRUsK/8AABUMQ823FdBhdAAE7qJnQW8oryGPg3RHhJnQk5u2YqMEqAAAABABnyp0Qn8AAAMAAT4W/keBAAAAIQGfLGpCfwAAIL8EJwRCbvKgXVqTwCll9/40XAbQkQTXoAAAAFJBmzFJqEFsmUwIb//+jLAAAEAQwUgLWJ6nvKbwAB0mwsOB1MZyOZD3OhnrZb4B6dbPkCJaqJ9qHozvayQt8+sXnZGo90n6GnBRGhBkGT3/KuFnAAAAKUGfT0UVLCv/AAAVBSs3a2EpfdtzHIAZhNQkX9va3EaBz9l4/FQsbfV7AAAAHwGfbnRCfwAAIMMXYq9doxIiCwz24Do4mTG3tU1rXdAAAAAjAZ9wakJ/AAAEtkUNyWQAEls9Qvnjpar/lGq8c0y6dQgmjikAAAB2QZt1SahBbJlMCG///oywAABAfiXuDAJUznwrRLYETERPkBLtMsPx/7NyZ5RbACIdfJ6aijHZLqblHGTWujRJO5Kj46UZvv5AEl0ksM/e3a6zHBSVuR3tpgzTg/RjlnN4rFyeFxLkEhceHEA/I/uWDsWTyfAKvAAAADFBn5NFFSwr/wAAFP40etiMI4/Tkx7ByxMKwAfvA3lk2U55bk+nGVBD/jlKN3kXnGr1AAAAHgGfsnRCfwAAIMMXaKmgdUhzCDPCDGShPtgpRgbwMQAAACoBn7RqQn8AAB/IASeoBZAfR/hZ/D2iTFGPHgqj5yetyD69tfsqsJ5IAIAAAABIQZu3SahBbJlMFEw3//6MsAAAAwFKCzMAQ+JfcK2VWA6VMdgXq2nHw/M7Xn2a3gMwqGmdsBJ6eafmmWWenLDHgmZjsigvV/bgAAAAJgGf1mpCfwAAAwCsa3yBPMupOafsO0AJL2yetmyXizCMSjQNfXUhAAAARUGb20nhClJlMCG//oywAAA+axsYzM6QUjmjRlESv4tA6C3bi8/oAhzRrOnd4xBje+xrjW1p635u6VSG9yfAE5BFceh7MAAAAClBn/lFNEwr/wAAFHxNxCQL0crCiQ+tXObBiBMvpBdDNGIcvMonDDAHgQAAABoBnhh0Qn8AAASVhyC1yePwEwjhEIbpGwO7oAAAABMBnhpqQn8AAB+81Z8nIkPcigQ9AAAAcEGaH0moQWiZTAhv//6MsAAAPmfvKnAJqq1qAyd1MePMrfD+OQQ6KPCaHDEmvHF9lB+IrbqxwWI3GVJIORnWAHhIR+2u72ZeYKlyE2AnEqyMH1FXl3ENBJk3C7ZeuKeWyuPoQk2V/xe8bVPUR4aVRpkAAAAfQZ49RREsK/8AABR1WFWKzj+TxBoJuYMJLTMfnVUmewAAACQBnlx0Qn8AAB/LGLKPEeTK8Q2qj+7MFY2GPC45Ab+kZZIM1IEAAAAOAZ5eakJ/AAADAAADAakAAAB5QZpDSahBbJlMCG///oywAAA+XQ5I0AmnLDDVq5t1YduWnzgKHGhqfTZlNcaR8btYmET1NhjEefCT4r4ipV9zagEFCREFPTfciEy8BFugKywGD/ydYa/2fR3tKkDnrV8dg19XvEMUvlvSNhm1Mwgmr0mXbj+TWn7gwAAAACdBnmFFFSwr/wAAFHMr8dTIqmt+ChA4/9u3arOKLzSbKVOnm7+csjMAAAAeAZ6AdEJ/AAAfuKHhmoeKtV1LCdRuDfkWyQCdzvaGAAAAGAGegmpCfwAAH8fpbJ8paZq4VmspNCerYAAAAENBmodJqEFsmUwIb//+jLAAAD5dxgNqJAVLwEOjHZk+jtXJz/dj6b12ttKXElATBUdU9Djkgwd2z6lEVjCHNHqZaIvBAAAAK0GepUUVLCv/AAAUfEPNtxV0Q5OkH4l7qCexEvnHi7XaafxRAO5d6VCX7oEAAAAaAZ7EdEJ/AAAElYcgtX4+saKnuDEgbKxMLiMAAAAaAZ7GakJ/AAAfvJUYblBri49hQDtRke2bIOAAAABZQZrLSahBbJlMCG///oywAAA+Z+6I8JAAatEY1Gi9N7JAYqEOKhFHjE+UKvIGilf1uNpCjIJXb6dSASwALx33FJwyfLC7XtbpvpPm8yoitQlDL8KsQMhlJLwAAAAsQZ7pRRUsK/8AABR1KzdrYSl92vc6wNACwBQ9po9iq2FzktKXIuGQbknoq7sAAAAhAZ8IdEJ/AAAfyvjyqbORVlEBQwvAag2Yag/pKe1uNlHwAAAAHAGfCmpCfwAABJfjZ9Rh2/JQ/vlj+tqtBvvNu7oAAAAwQZsPSahBbJlMCG///oywAAA+dyeM1wMxOShTufE5DiuG8XYMskGG9W9RJRjeU9gFAAAAH0GfLUUVLCv/AAAUdSs3M4QkDahQjGpVCcSgfW9cu6AAAAAhAZ9MdEJ/AAAfyvjyqaV5Pbr+teglsIU6otqF0UHYBIlJAAAADgGfTmpCfwAAAwAAAwGpAAAAP0GbU0moQWyZTAhv//6MsAAAPl0KY+HMzIEloViDvLTt9YIb2EvsQDBUbAaWZh4iyAHHSSrBw4NRjIsLTQliwAAAACZBn3FFFSwr/wAAFHMrtQW5HK8NQkA44YpP+BkuljbujEzIPI1LtwAAACEBn5B0Qn8AAB/K+PKyOl09R9Df1y9hmGpqIrofyPUFue0AAAAXAZ+SakJ/AAAfx+lsnylpmrhWayllhtUAAAA4QZuXSahBbJlMCG///oywAAA+XcZQgEEAisisEAU8Txkn70keF3YbrNe6LqLrlvJ+Mfgx5ZUiKXEAAAAnQZ+1RRUsK/8AABR8Q823JoAAbqVJwrAiOolW2GwAqSlcizHUfcntAAAAGgGf1HRCfwAAAwG5wl5kk93K/VlM3SKtC+7YAAAAFwGf1mpCfwAAH8fpbJ8paZq4VmspZYbVAAAAX0Gb20moQWyZTAhv//6MsAAAPmful1ghZqNpHVt1hMPUOI0VHJyGPtw0oNWncVAER6Qs0WCoehFafH1iqvtT7bXdAzMCaqO2jrKDq+xBhdYk/g2m1VMKN8lyvGfx1HuxAAAAJUGf+UUVLCv/AAAUfD0a3TUBNzf69L10Oyabmpi4nqDuX/H+gu0AAAAiAZ4YdEJ/AAAL7hXCT3z9rsFDAp3C16ykvqvsGFyxfsJ7QAAAABwBnhpqQn8AAB/H6WyfKWmalvB1AnPTHEixXxlBAAAANEGaH0moQWyZTAhv//6MsAAAPl3F3jrtQOuoACC19djQ/jzqlWxUGJgJ1vvsz3AJcPmKTG0AAAAlQZ49RRUsK/8AABR8Q823Fcr1zuSdCQ4zuTssX3oqT0MPAQnXjwAAABsBnlx0Qn8AAAR1h8+PzAe6OhgAwqmcF+r1MTUAAAAYAZ5eakJ/AAAfvJUYblBri49Tb41c/uVgAAAARkGaQ0moQWyZTAhv//6MsAAAPmfuiLL/8CcAAOk1/y0OHI+qpABO4caWENEjVj7La3DqKAZhrZ9gezW6yEjOBxZ+cUmOOZ0AAAAfQZ5hRRUsK/8AABR1KzdrWl64ooPCMLA5EunFe/qrxwAAACEBnoB0Qn8AAB/K+PKppS/2Abuez0GOLv+cT3KJHfLUaxwAAAASAZ6CakJ/AAADAAgvx0swdupAAAAAUUGah0moQWyZTAhv//6MsAAAPr62ZfWMELz6dtpVwY7sdPYsfnmZF8uTpl8MAcj17su8+gqvuNTVbufc2DezguV9wXwSs2aNmG5WHAWOqYLkeQAAADRBnqVFFSwr/wAAFHYlIi9Yno/N80y/QLFb/vojNqXXJmXc408VknSjeLFoFCAMDeYD/d6BAAAAIgGexHRCfwAAH8HGrsIcVvFcX4WaCIscXIo7Pf0C7qNnF48AAAAXAZ7GakJ/AAAfF/1WxtWkWD6z8jMTjKgAAAA4QZrISahBbJlMCG///oywAAADA1MP0I+rD6nT8AGzVbxHYOtaalI2llqVusbB5Cqcm/PJTCUgFMAAAAIOZYiEABD//vdOvwKbRZdqA5JXCvbKpCZZuVJrAfKmAAADAAADAAADAtr0eJM75NTxNgAAAwEHAChhUxEhIBSxvCoEsQUOMfgdEI3IZI7IhgKjr6oDIfuO+/HuyJYbrJO5ql1ncnjuQIULezOgv2TP3pke47whIxai3OjR/TWTAZ47+wcaZHQchyKm4lCN9Nmm5HdrDCLWL5nJVPxCW6FxKzUMrYTzijBPIbbFvl8uae/4BkzFzKFQB9GG4kA1aBXJ1kbM+VEE82NY6vCrv1SqGZFAADW16kCUmejFCH7nTTnljesFEvjkOdoUbSC76QRhrU9efQTB+c85qT9Fy6XI/5NccYzkZVh2XK1ccXyP+39bOt20aT0PTpuhBr8TJVL4N/HYKZvSvXGUNaPqAIP2NmlXJtY/24Vn3BGTxEVb345PH25GdzMrZ0zvuQRvnGroF7vS/sP30lEoFcM+OL3xxfpfa6ha1qMFXh3u3hoUDwDROXQN5oUjzAsWcZrHH/c8pb/TNj6XPaHy5iwb7O0/tFYJ/778uq5wyfKOWDtjWn96/ho6ipIlpBe1rKWPn4APA4L8OMHq8x3BKoOWSwoJOv4VVoJpnpmelu1gBeI+laRAhj3pI8gxkt0J79/g5EoJb+70qaCfmHUtft2Yjnf5pgzJ9YtQYuVkt/yZA25cAvzHGsWB/gAAAwAAAwABgQAAAI5BmiRsQ3/+jLAAAEYLn24D+QJ8z0inJbBeAgPzKdyb2G40HsV59fxAehJkUv775lXdQq167x84O/uwVKC/rS8QBuQylo55qO+GqKdUZ+eWO82P7I8FJLqqMI/BkzGZAHhIPYCmToK1yTgCJka3qV85gsudeuDgkXK3iLBwIE7xmeejoKhwoKJXQsx3k47AAAAAKkGeQniFfwAAFrMsGIkRNKDTsrWuCs7LSxYq7icfuXYZ334GCMisF3c5IAAAABwBnmF0Qn8AAAUeM6ZYWujGRmyqxRZoBHzM0jkhAAAAJQGeY2pCfwAAI78EJxLJ1PiTjOMwtEqglo3rrcfGh60AIW0hVJMAAACEQZpoSahBaJlMCG///oywAAAaofLznZGTqI1XV1Le7DMriVaSrP5rACzxh9tDqt1pUMRcRw9feiAA54iCCZWjzC0wnNTpjkKLV2qevIvB+fITosE3suP3WCFh6dHJN3sSF2AwegFhIb/gijpNbo9kqP/QoLho6A1+X8NSb1ymax0FFyNZAAAAIUGehkURLCv/AAAIZ2+kLR+V54tNV9+2pThmei5Ds1bZgQAAAC8BnqV0Qn8AAA03tP7zrL60Fs/2xrztGMpUdHBNQBnW9OrlKrDuR5xXFIXpe2yngwAAAA4BnqdqQn8AAAMAAAMBqQAAAFhBmqxJqEFsmUwIb//+jLAAABqh8L+2DlCj/kX/H5PHCvAVN2CAARaLHN1NozcLSMaJbKGHRfFoCjfSN2TDi3YkzLkdl5Ko1vbewCA6pldP7R2Q97gJYJlGAAAAIEGeykUVLCv/AAAIcVAhRKTqDriuPn6xPFWgsY67+ByRAAAADgGe6XRCfwAAAwAAAwGpAAAAHQGe62pCfwAADYSX5AesGONn+9y17o8EDu//fdJMAAAAUkGa8EmoQWyZTAhv//6MsAAAAwAUFUB/glUn7RXWxwBSptFA6ZXKAxNnqU0O+vOxJt8e+RoDakuJKWyyvl75XrxlhqauvnxWC6UNOl7JWYHFFQcAAAAZQZ8ORRUsK/8AAAMABnJoH33w8OkszaGnqwAAAA4Bny10Qn8AAAMAAAMBqQAAABcBny9qQn8AAAMACj55DMFA9f72Qec9UQAAADpBmzRJqEFsmUwIb//+jLAAAEYC93nMsvbT5k3f/UsiAAn7IGuZVclmrSr1pbldoig3f7JwUQ5GfpcfAAAAK0GfUkUVLCv/AAAWvEPMx8wliFFzFEl4SXuMikIjkK9UEdd7EJJrLl/FMGEAAAAZAZ9xdEJ/AAANhd0za7PUJjyOwbuCE6sUEQAAABkBn3NqQn8AACOxzAlvqW+yA+z4ZzaGmRvRAAAAeUGbeEmoQWyZTAhv//6MsAAAGqKd4Wkd875C/GmyAHAqw2veHYBZMPinmzQ0EaF13QJDB20L3wyR21uMFJXV4Nf/peHmHA0IaJXImNB45LF3w+WhaGcjkZYzIoi10e5cxK+26NYeJN8kn5dw4VgVsnRAVGMPzu2cekEAAAAoQZ+WRRUsK/8AAAgsDLYRfmPIutMZXw5G6clkPWxez2yTX//FgAPdswAAAB0Bn7V0Qn8AAAUfy+0JXjR0BwKuEPtAVXAc9qZAQAAAABoBn7dqQn8AAA1/1i6wlFkDsJMw0KPGN/V5JwAAAD5Bm7xJqEFsmUwIb//+jLAAAEYDFa/K9g1qidWKALPtddrRHsX6gxjFnMuhJwlyKaPqErBG+jyxirHuIg56wAAAAB5Bn9pFFSwr/wAAFrUrN2taXriig8IwsDncx4wFMKwAAAAcAZ/5dEJ/AAAjwxdoqaVT1PvCCY6wGC3W67BAQQAAAA4Bn/tqQn8AAAMAAAMBqQAAAElBm/9JqEFsmUwIb//+jLAAAEZ/vgyGl0O6GJSfJebK8bWg+vSzaMvfYY6u+iR046QF/+UdQcKAbcwNiAq8g/HXnvV/U61cbZIxAAAAN0GeHUUVLCv/AAAWLFCyQ3LQ1mdU6FRU3ANaE09PZFs5O+2sT23DiRr6AOtJbDAVFh+NmFJs4LAAAAAdAZ4+akJ/AAAivx+MN7qbitafYO+mbnTCR6xVmfAAAACRQZojSahBbJlMCG///oywAABEEMF/LGoaN+FvBOeOwRqwAtctctUG7lmi+pYdP8KwuDT10r1BRUO3sw9pNaXQZ/S6nd5IYO6aJrlA8xvjGBX6tzWjENJ0pdDKSy3/DgMR6mMPoPDxt5aQtp9Uw9Wkl0WHcsWxB4B8DyjJAufUBbPp+tInfBHga65C4FWa8bBsgQAAACtBnkFFFSwr/wAAFiVY8qUW0Za2IHixlai2jATcxwoO724mNeVQ9jzDruHcAAAAIAGeYHRCfwAAIsM8uht6cW4PoS99haP3Xq0c6hR95regAAAAHQGeYmpCfwAABPs01bGTDAMB5nb5SrdIX8zDyxWBAAAASUGaZ0moQWyZTAhv//6MsAAARAL3+aDmPm+3z8Iwbx5a7qvak3TOEpjfiwAMNMwSmSRxX86N82HG84k8PDTUAgIwbeUWFWZuDhIAAAAeQZ6FRRUsK/8AABYlWFWKzj8fzrtRVt4D/cSWGtBZAAAAIgGepHRCfwAAIsM+DnfrN74P0b6uVDHrrKkpx/wNKWXNDYEAAAAQAZ6makJ/AAADALFmoUCPgAAAAINBmqtJqEFsmUwIb//+jLAAAEQUXUn0taFV9oMghJY19uhI2tBdTIhsRQzoK2M+8pzUFbMq9EdNp+ATGO4cqyGGddEred//JJjhagCHKeO0qdukVscr7QgBTEYoKj723owoN7f/KOMRy2eUrmktWgETz7/rDKACK6CgEos8m6zWvNE4YQAAACVBnslFFSwr/wAAFiVYVcILafu23kIDJQ8oZ6UennmXlZUtfIQ2AAAALQGe6HRCfwAAIqw60N6vbCoAW3V1PmOWDZryV4zMGAQhEkmM2fY82NR3PjNt6QAAABwBnupqQn8AAAT5PlzebtWmggv/aY60CHKh8kNhAAAAiEGa7kmoQWyZTAhv//6MsAAARCXd8Q5S5XYYyWxfF4FUAJTUjGR50SXXcA0KSSln46W30H8VWOey2zlFd98b3+BTqiTxHdV4n60SU58dVWfnLjoSzAILaOjQlmPLgNQEY1fH9NkDU4yXly422vlCHR1P1JLYLMYjDh+uylWpjRXIjvGF1JKMLYAAAAA0QZ8MRRUsK/8AABYlKzczhB/3mk5z1HQXkWcAA3ONQ+jk4dd0WyM4K6jVVlYHX28DFrGLlQAAAB8Bny1qQn8AAAzknau9txDVBJAOQ9vAJcL6zu5NlDFhAAAAREGbMkmoQWyZTAhv//6MsAAARAIFeWtAVJ2BrMvOGUPMTGf9s/zlb1bsfEJ5TcERjP2wXHtIneI6czCSiD3JQSnbrzA0AAAAJ0GfUEUVLCv/AAAWIyu1BbsYlKQbdTZ9CBC+OL8Rurk+E2yMjjSGwQAAAB0Bn290Qn8AACKr+Ft4Ep1oI4gRnroCxm9WWMnBYAAAABcBn3FqQn8AACK/BCcSyWmauFZrKWWGXQAAAEpBm3ZJqEFsmUwIb//+jLAAAEPyjj8YiZYdI/dJsPSritrNQLmqh7VWx9pAMSzzf8liKNN/oAtaBpHVtnjKvrudrz9xVggKtho3wQAAACVBn5RFFSwr/wAAFixDzbHhDkgQcaX72Im8Zw48kWlZWibkqSbBAAAAGwGfs3RCfwAAAwHbsbCUqUTuDbgSXxXnHNT9OQAAABsBn7VqQn8AACKxzAlvqW+yFUj7/AYoyD53nTAAAABAQZu6SahBbJlMCG///oywAABEEMFIC1igB07XOS/N6PMMW4bnM4kkaWBDasrcqtwAWGeSZaH56JzPLE3nX2YggAAAACZBn9hFFSwr/wAAFiUrN3TQcThcgRZmQVqH+7tCdTJXSAx6PrMhYQAAABwBn/d0Qn8AACLDF2ippVPU+8IJjrAYLdbrsELAAAAAHAGf+WpCfwAABNd2QqUPh5QMDCzpOtPTNl6gk6YAAABSQZv+SahBbJlMCG///oywAABEAgV5PQJOqwb1LAPd2n+bmMXKNeAEPE8MHtcO7KB1nPcNeWWE1XibcEuGB1+HYBL0GVChM9z+ZvqokqPr+M6pnQAAACVBnhxFFSwr/wAAFiMrtQW5HC/mPpP26AbKS+NqjIKVIGT1K8+BAAAAGgGeO3RCfwAAIqv4W3buQ+6kUPvnpWVxxQ3pAAAAHgGePWpCfwAAIr8EJxLJaZqW6b16JwUxbgTlTJcybAAAAHBBmiJJqEFsmUwIb//+jLAAAEQCsIMAbe9/v9DDR6GgSJEhQLXdBE8zaE599hXEtuytXkYQLm29qGvBe7Bq6GuUsFydQDP/bJVRcZ7jVYn+XZSCEhB5zag9jXIgedJbxw1/PmALpVBRnc+mG6ageEpQAAAAKUGeQEUVLCv/AAAWJSs3M4Qn749Cb3PEUnaP+Tv4F/VMypLLUxqI0Af5AAAAGAGef3RCfwAAIsMXYq8fklEIx6tMyAkCrgAAACMBnmFqQn8AAAT5NPXhX2ssfEXImZPdGKjug+5l0qqQSfWhCwAAAEpBmmZJqEFsmUwIb//+jLAAAEQCBSk51922MtzeW1ggAX1PXWXZ6/1/w6l6qumlss5RQxEI2Sd1Q2fbnaChHgx6P0CUnnn/3sBqQQAAACxBnoRFFSwr/wAAFiMrtQW7GJSkG3U2eCHwqpoATX8KHwvM0TPIu6mqbFOBUAAAACsBnqN0Qn8AACLDF2hVERYNSp3zmAhFvxHKX2nMU3DbqrZ1hyrdCl/dLDt7AAAAGQGepWpCfwAAIr8EJxLJaZq4VZQatKiRC4kAAAA9QZqnSahBbJlMCG///oywAAAJz72Yxj9DtQueh4M+G0dH/1ufBWnIzpLLFRvG+wBSA1YvuUrI1RnlUQiVCAAAAExBmstJ4QpSZTAhv/6MsAAARAL2C2DP5aUfm4sAAZ19muvaYgVCoYi991pPUItCXhi0BQKzjYndizWpB8EWmFuJWi17FJh67KLWFaPdAAAAM0Ge6UU0TCv/AAAWLEPNtxXLZq2fCkpZTABGQXQ7hLt6Cok8NA23j2h0YCghfxsr00RybAAAABwBnwh0Qn8AAAMB2ooibDkksKhG7WjVKRfPpJ+9AAAAHAGfCmpCfwAAIrHMCW+pb7IXqAALYnf+KMg+J2EAAAB8QZsPSahBaJlMCG///oywAABEeN/gab74A0fIJvqIBmaAPT0LVzBHv+Cs3x1WY+oEVZ2qGS+2kxA30Lqh7Ij9tCegPcyfmOlux0cQCZaI4RiAWFRURFL9rdfu94MYq9HhEYLiwJeIudUdz41/wbLj2u/C0U94ydvM3Xk58AAAAEFBny1FESwr/wAAFiUrNq735JiVWX8l2KY/kA5gB2Eygce+vmcLWYyLcFiVhuBwuMG44CphzDU0drcPIApaPFKdMAAAAC4Bn0x0Qn8AACKr+Ft4Ep1oI4kKx4hQzhNXCei00MmgBA8z9ca5FiDvMWraFMmLAAAANAGfTmpCfwAADS/WMJPZSgftqcQ0N4q75T6DsH6Cv3dA2AJDxew4ZuGk7BxbvWUNjxT3CoAAAABZQZtTSahBbJlMCG///oywAABEem8932XB7LP08k0I3BsYhD4qz3m7xXeKIAAQpnsntDx64vtUrfdoE3fOlWDsxrAdszBTKDbHWwki4yWTpezP90edhJ/WliEAAAAsQZ9xRRUsK/8AABYlJuOZXGmO7RwLW/CP03nogAFs6K1pdl8OMqyFfbj/D/wAAAAXAZ+QdEJ/AAAiq/hbeBKdaCOJCckQRMEAAAAbAZ+SakJ/AAAhsisHEzjhqCchr6AmAAhL7JozAAAASkGbl0moQWyZTAhv//6MsAAAQgL2a1wL8SQiGG/qtSA6m2nJRvXz6U/y9vKN/Ie2PZIXLZKwgU+UzoTiaMrjdWmvS0iEZ6FtmgtNAAAAJEGftUUVLCv/AAAVnE5sxxKh0LrAbxq0rUaGN3cZfWjaKo8ccQAAABkBn9R0Qn8AAATYZ8HPGwn4pzMh+N0umJftAAAAFwGf1mpCfwAAIbIrBxM44agk8csDE1JwAAAAhEGb20moQWyZTAhv//6MsAAAQgIFvTXotN2GCJvQnAARC8aJCT0QJS1U9wJZxkyfgfKeIiUyXBif3EoX648r2TdNRLsWAXQuUNvdkqtKn0WCAtQYn5OnpvgEYH7Km3a/Vl0iQr4pqd8tauMt7pqu44gP0pWFkCWxzmPPq9yu+awkBgl8nQAAAEJBn/lFFSwr/wAAFZMr/2ajVIABupfgmpEpE/YwNay+qD1EXWCxb0k6MM/tslWzxlFopa6LN0WZc72CnLmMawS5A44AAAAeAZ4YdEJ/AAAhrDkFrk3Ypvv4ZY9YeLgjdDCDBv/AAAAAGwGeGmpCfwAAIb8EJxMNgCQxbZ/pbYQFsd6DlwAAAEVBmhxJqEFsmUwIb//+jLAAAAmPvZi7zaBxUg1yxwt+r96n+KAEkwkEMq7vLztAEfoO6m45FrIn2Jvy0//sFGHHKgR/xvMAAAA/QZogSeEKUmUwIb/+jLAAAEIC9lkFQHhP8tmuQFJxenvHQlFZtpaBhVUaf3Vq4V6nhI57F3VWco8TdS8MGUYRAAAAMUGeXkU0TCv/AAAVnEPNsr7EXI+mAAC2j3cXS5CqIM8g9XRrPWxtbo2MGM67oe6lC5IAAAAeAZ59dEJ/AAAMjhSadVf9YXZvUsn/AMc9zwdCb63HAAAAGQGef2pCfwAAIbHMCW+pcxITe3ZHhSYlIGEAAABUQZpkSahBaJlMCG///oywAABCQGUksVDgI2R2E1h+k2QOTHaRlU1EpIu6QQyZA6eT9c2GH2mTVTOEvVQEt0UMMOurM3WZppQUAms7VhIuviJ6BNSgAAAAKkGegkURLCv/AAAVlSs3M4QjgX00X2rlG68ZYYbqv6s5QYUbXcALmfYqqQAAACABnqF0Qn8AACGr+FoC0SILLxGLojz/LSida4q9nz8fUwAAABsBnqNqQn8AAAS3dkmsii94Hos8db8KK/TSxFQAAABMQZqoSahBbJlMCG///oywAABCAgV5a0AzrUWOHSG3QDiG7m2VLK920aD/finiVBAcWwftr2K3RZ/NSW91ypc7veoKsOlkAUU+d2VhsQAAAC5BnsZFFSwr/wAAFZMrtQXDigA2pTNJICGNHtr/UDvMSx0gsA78LLa3JJVnSB2xAAAAIwGe5XRCfwAAIav4W11XmOEjrL10GXKnQaL2hmf5i8TBiZkVAAAAFgGe52pCfwAAIbHMCW+pb7IVUoWsFBEAAABPQZrsSahBbJlMCG///oywAABCAvbyegSdVgzLJvDtMraZ6Hy3BAocQgCb3Avhiowa2sQG/q+KZHp9Zo3KYeBrOZyXgX5xsxqCx7dn0kyYQAAAADBBnwpFFSwr/wAAFZUrN222gBJdPTxXKLFRGeZ1MEljFEA29og8SrXxNWc3si8adVMAAAAXAZ8pdEJ/AAAhwxdoqaVT1PvIUK5dp6sAAAAjAZ8rakJ/AAADAc/KsU4u1LTKkTyOq9BqdN8b0krS9U3qpRgAAABhQZswSahBbJlMCG///oywAABCAgW9NegDN3vfbAy5cFafp6Wz8xEfcNfdU1jE3eZ/NzHL/8YME7VW/MhQ/qZb7Ta8OBOlFQ9mLDImc9Vf//dY55gD2nlNNtw1uBLROWxAJgAAAChBn05FFSwr/wAAFZMrtQYAztqZGlK14No4dj6tIhO5NyDcwLzXC25tAAAAGAGfbXRCfwAAIav4W3gSnWgjiCXJXN2qNgAAAB0Bn29qQn8AACG/BCcSyWmauFZTHyo7fi+tjQSUYQAAAEpBm3RJqEFsmUwIb//+jLAAAEIC9hFLROZUoDKni6P+O/MEnI4pHmJLwQBWk1MX4dq4MR/T5ywKSn6Gc4OPaZ9IzmEZhVG9Vp9fJAAAAChBn5JFFSwr/wAAFZxDyo6H4XRejAWXLbRfVjRZcXF/Vlxv6JKwfCYFAAAAJwGfsXRCfwAABNSnsBMn4RlW8/unpGsof7yAACbo5FwbjW7sajZ1UwAAACEBn7NqQn8AACG/BCcSyWzo2C9Tr0v9JiiKgH0o8pHfLs0AAAAuQZu4SahBbJlMCG///oywAABCEMFIC1iisDGAa8hoycqtj6I2gNMBamDcXYvl0QAAAB5Bn9ZFFSwr/wAAFZUrN2taXriig8IwsDncx4wFMOwAAAAcAZ/1dEJ/AAAhwxdoqaVT1PvCCY6wGC3W6opcOwAAABABn/dqQn8AAAMAAT7NQyCBAAAAekGb/EmoQWyZTAhv//6MsAAAQgL3BnfmExhyLINLcJ26lZs5VwqbSxtQH3SpqSyQgCVCAcWGAcLyJ90nfFTt5QPqIyUlRzSqZ9NxyqBxbKsGWHVm7UcR6i44Nnm6c9vhii7ERdMTx+7/pqqjzdxuU5YLoGJMfrIj47iQAAAAIUGeGkUVLCv/AAAVlSs3a1opAFvscfFTiN2YAyu5T+RqwAAAACMBnjl0Qn8AACHDF2ippXk9uv51OHqt7infNmBEL+HE/ETD4QAAACcBnjtqQn8AAAMBxefAgidsJ3TTDyRn9rPBCyNgPNmIlyWrBu97mmEAAABKQZo+SahBbJlMFEw3//6MsAAAQnjf4GoJt8AaPbfiwAd7gTHyozlDQZK4abER/eErrbxVNZHLMhht+uFuILNOSMr7UD1Th14wsHEAAAAbAZ5dakJ/AAAhscwJb6lvshVR7obg4xVC0umAAAAAVkGaQknhClJlMCGf/jhAAAD++o1oAxeF4IH1Qu4bFT+gXk93T/Rlk2q3SU8z67ZbcpH0IkAmHYmdPYy3sWaL7SwwqLo+PQ80UvXj7YTS4Ku924iAmwyAAAAAJ0GeYEU0TCv/AAAVlSbjmVxpzt2NRlhd/CiNqNklYE2+q0mWWzRpgQAAACsBnp90Qn8AACGr+Ft4Fv5LtKoEIPTIAWNE24KZwTz5C1nUmjmojUmYqodMAAAAEwGegWpCfwAAIL8aznveCbooJmAAAABIQZqDSahBaJlMCG///oywAAAJQourFcfapJg8p4t/lrC0AVueQSsM6XKYum80Wid1cCqowdbwCRvpYK5btkBCDSynuknn6u4RAAAAZkGap0nhClJlMCG//oywAABAAvf5oOY+bceyIIgUSHGnUOTt0zIAZv3GPF+xrczrqTt4/j4OKq49oP0QHOLRf//eU3clOcfclYGVBa+dfipH2zcAwO08F96EQZgHscDtRl3y97cw1AAAACJBnsVFNEwr/wAAFQxObMLJy4DcG1K0jhNCfBILqZmHlIrBAAAAKAGe5HRCfwAABLPk9F1/RqZfImMphyDoe9uWcnwAgSODZjJGxpgIqXkAAAAaAZ7makJ/AAAgsisHEzjhqCchr6AgMIMVxFYAAABzQZrpSahBaJlMFPDf/oywAABAO3dg6H1BBIFvavlSQZGqT/6xwRrtzqJNEFfA0AJJfkqFHSJhr1BZ/3QQasRqWD0P6xmf9a4/UjoBFqcZGMANP0PXL16OLQNX4qfZeYGYO4MRkAKZtlkwADprzD8vEoLGIQAAAB8BnwhqQn8AACC/BCcSyWmauFZVFvXFD1vyrPYY0QmmAAAAR0GbDUnhClJlMCG//oywAABAAvbyegSdVg3nu8MkbRfxfkAvMBAfYLIG9totEYkYAqRup+nQEbdCOCizDLvPbKi2C3t3u9AxAAAAK0GfK0U0TCv/AAAVDEPNlJIXUU+cYwMVPZv+2m4+ZifENAyJme+a2a12MNkAAAAdAZ9KdEJ/AAAMPhLz19GwE6X9EysiqUQrW6kwGGwAAAAaAZ9MakJ/AAAgscwIzjzH0xP14lularIQMCAAAABMQZtRSahBaJlMCG///oywAABAEMFIC1uD4K9eCkwd2vf4iGHhj+9Iq0MABVHkAXAeBpD2BfeAniy2yTGqllG7slnF+dtDlm55D8Nb4QAAACdBn29FESwr/wAAFQUrN2taXw7cqN8cnHgJjCu0+g8n1qrDzhZ7SKAAAAAcAZ+OdEJ/AAAgwxdoVREWDUqd85144uYw8nAJGQAAABsBn5BqQn8AAAMBxM01Dy/JOM+bNH7vGO+7zYAAAABSQZuVSahBbJlMCG///oywAABAJaSVVqAkbUe71y9tXfX1vFmhsq2CtwxEZBjlmwAIQQZvUeJJkBzUNhs6eFnUdg3zaNg1HwGB8jQKd1duOvxgvwAAAChBn7NFFSwr/wAAFQUrN2tZZoi+NmAxJHsDBhR04glxgRmiOnrlYoR9AAAAIwGf0nRCfwAAIKv4WgLRIgsxrg7VVWpXg9b3MVyIbkcR8FmBAAAAHAGf1GpCfwAAAwG5mRHnd5ZbAwqVOfh97tuJLpkAAABRQZvZSahBbJlMCG///oywAABAAgi+IBd4Z4ZxN6zDyj+Jxzdmx55VzCOekXmsPwku1sfCfrHM41Ucek7WYVtbDhza9NrDFERQg+WPoO75hN6AAAAAJ0Gf90UVLCv/AAAVC5Q3IwnE0gxAAF1PCxejlKfW0lIBMtlkhOwqtgAAABgBnhZ0Qn8AACCr+Ft4Ep1oI4glx5x1qXkAAAAaAZ4YakJ/AAAgvwQnEsrIAyvhskT7xYGmUrYAAABLQZodSahBbJlMCG///oywAABAEMFIKCARtmUlcpsI2h661og/Fkxo/YVq8Tyt86HEzn3r0ou/6C1VFLJy38/kd0SKNqu/6Ss27ZgcAAAAJEGeO0UVLCv/AAAVDEPNtxaCb+KiT9NO8BIF4raWK5aPY0FrpwAAAB0Bnlp0Qn8AAASW/sACQ1y1R5Vbre4ADQ1jYz1SrQAAABYBnlxqQn8AACCxzAlvqW+yFVKFrBSRAAAAP0GaQUmoQWyZTAhv//6MsAAAQBDBZiAdKrXF7ACy8dsSnJsJelw/h/iNSgj2W3pDZCLmzVAEGmAzvghLVmjpbgAAAB1Bnn9FFSwr/wAAFQUrN2taXriig8IwsDncx5qHlAAAACABnp50Qn8AACDDF2ippXk9uv616CXF08OFAr/LN5QrMQAAAA4BnoBqQn8AAAMAAAMBqQAAAFRBmoVJqEFsmUwIb//+jLAAAEAC9tNsgXW1OJrfERa2f6ausSJgIeTvdAJlbvLvy3s8RHyx+uun+rEJ/NhEOJCeV8N+KcyUxTQxKxnBnWRW7RAIW6AAAAAxQZ6jRRUsK/8AABUFKzdttoASOtoq1Hy1NtfPUt1hFOQTbNQ4JHmYUH3zg48EhWHCMQAAABsBnsJ0Qn8AACCr+Ft4Ep1pscJel9fJXDrbqmAAAAAfAZ7EakJ/AAADAcTNRjUlZ3t/cUji6Ye9IARrmrWPTQAAAFFBmslJqEFsmUwIb//+jLAAAEACBSk5192sBJEyKZAFaotE81ODBJjqywuMqSiqT3UXn3GO4IliGTWFuOrU2p6hpbv8y+5l9aawJXraBwNtPV8AAAAqQZ7nRRUsK/8AABUDK7UFuRwv5dDOHu7AAQ4bCtBbQzpUhv6iaKOdYupAAAAAGQGfBnRCfwAAIKv4W3gSnWgjiCXJQuYMxYEAAAAgAZ8IakJ/AAAgvwQnFBs8dEeUCZxuRnKKen+JTRmiXdMAAABVQZsNSahBbJlMCG///oywAABAAqmYEdJNnOk7AgAvnbDdAV2VwQFWckc7oxSJllB2U2xho2qwn6hI4ZP7L+GjhJ878pvXcGUo65IvLywTTi/qxbM14QAAADNBnytFFSwr/wAAFQUrOXZQfsIhACvTHrjBQwaEZ6EfvQvMp1ha46ikq5PBj3yj2S4+7zEAAAAbAZ9KdEJ/AAAgwxdlsJY0Ju8czw6r+d4ZeChgAAAAIAGfTGpCfwAABLSwvQ9Vm9MJHquEwpp+ojIG/mdAER6wAAAAZUGbUUmoQWyZTAhv//6MsAAAQHsf3v0XKG8TWwjrJebmp+ElUNHAmz+xqNI/I9fCphNuFlPi4Ha5bSs+MYHv1efYwT60UL3z6jW0wAHDo3cViEkXW5tiRgDQgrWnVQ7xl7+aS0yBAAAAIEGfb0UVLCv/AAAVBSs114VcJoa+ncfzC0eQRyUWMwAgAAAAJwGfjnRCfwAAIMMXaKmlMeW82GIgx0CuQ9G6IarCctCwZ8M7gwkQIQAAAA4Bn5BqQn8AAAMAAAMBqQAAAFtBm5VJqEFsmUwIb//+jLAAAEB6bz/d7pgkgFHuTlaVv87juREtcDXCfuHtCc+634aLG+qU+uU8LkL7xwATeU8k3WDJCYD8ouyNQS1Gq8iv37w+oSrr8AP4qbdRAAAAKUGfs0UVLCv/AAAVBSs3a1peqjRhkQyJA3J/ghDQad191pXha/2iw2zBAAAAHwGf0nRCfwAAIKv4W3gSnWgjiBGeuRorxPwX639B1IEAAAAbAZ/UakJ/AAADAbqTtWxrLPSYKFCz5sCX/LRnAAAAVUGb2UmoQWyZTAhv//6MsAAAPl0Kw16HZACBeL32A0Z6vkMSs5wKlDFtul1oKbQzM0S35rXXVq+OYAGTKBFZMDvt8r3hmPShEuMVg1GoUdfVgw8bIqAAAAAkQZ/3RRUsK/8AABRzLIvEtRhC55CX5pftXU+Y07c4DWqmpNSAAAAAFAGeFnRCfwAAH7ih5ksfH9XkhASNAAAAKwGeGGpCfwAAH8f9Vo3IfYq0AC50faLthFqYy3Swtg4KyIH806gRuROFRmAAAABkQZodSahBbJlMCG///oywAAA+Xcb70hKLYfN70V7TAqobZkhg28EOg1St4YS8bqeyF9R8nbtvkEfBzKcbpYpeMMJMdk2SPQ9XQx4nCwX10O48exajiSJUwxiVnggqkkMxtsy/gAAAAClBnjtFFSwr/wAAFHxDzbcVdEOTpB+Je+VSPBT1/mx4rQaLzCuEO/a1IQAAABABnlp0Qn8AAAMAA4kUe4mBAAAAGwGeXGpCfwAAH7zUaYmccNQTkBK7zroSBQ27oQAAAEZBmkFJqEFsmUwIb//+jLAAAD6LyLrdi+eC33qU048NkyMz1cgDiEX0HV/g7uxtPqzNOcmgEXdIcYlo65rz9hrThTRoNdrgAAAAKkGef0UVLCv/AAAUfEPNtWjjWMW6rNB/eIRpUznfa4vaAQ4rK4I/YUrugAAAACcBnp50Qn8AAAMBsDnQVBDSIViBc9W96PGzhdubJCpEwYGQLNfdd0EAAAAYAZ6AakJ/AAAfvJUYblBri49Tb45a9IbgAAAAMkGahUmoQWyZTAhv//6MsAAAPl0KY+HMzHH++EXh1738nqHqBNognOONYHFeVQln1YwwAAAAJUGeo0UVLCv/AAAUcyu1Bbkcrw1FXOfDdiEA2XOJIm0XzqtwRs0AAAAiAZ7CdEJ/AAAfyvjyqaV5Pbr+teglsIU6srNpxUarMdU9oAAAABkBnsRqQn8AAB/H6WyfKWmauFZrKWsB52zBAAAAMEGayEmoQWyZTAhv//6MsAAAAwFKCzKUCiaosIUztSz96JQE/XJmMxc1XkKtX3DbcwAAACZBnuZFFSwr/wAAAwLm8Bk1qWYA3s73cwORMEJaK4k8G4Rb5sHhswAAABQBnwdqQn8AAASX41nVGunnzCfJgQAAAlpliIIABD/+906/AptFl2oDklcK9sqkJlm5UmsB8qYAAAMAAAMAAAMC2vR4kzvk1PE2AAADAQcAKGFTESEgFLG8KgSxBHHj/OG7ISELEj7lRAZUkuRr62iMUe25Ji9kVyGi0QeForZMtcduo86bTerB4Z75/D+LexqqN7dki/f4tavlSkaEbPNCpKQF3a88fLqOZJUqYC0HlqENJ6FhRGGa7JIlBbvcm68jXjYYn8S7ziV4peJ7n1tzyeA5TFPynWMtzgRant/KPkvWpb5/tps43mJbd4HeuqvBIiou0zFaAg7EqB0BQlojzegdbY+o05EmkSxbw8Kz+eNIekl364Nuyj0oZjfHAY3WUHwZrevbMcdf4xqdYpogyUis/Lyr7RrCszz2hH8ZRcc4j0IeeRyDgyjukTRpj+RaT89OBgtJX8MmEZFFCT1Psu3umM6W5ms15HcEtJQIcKRkNvUh9SGHE96pDcKRSlV6eF3eYsE7oJD3QABHoQRhXtUb8/QVfdGKLJhKxSN4e5nG4zopOC7YSbUg5g+1j0ksaMXAL2iuTYvLi254yD7e/xW1JZz3lE7J7J7tb65SMd/IXx+rIlfqXu1J7dD1fj0TTf2Qo+XpyZmKAiUVSX6EwqMYchO6TrDMFdqNpTxfMc2raFQBTrYH5wNArW0O1fL8InHyJxZT0KiRUJ5I/Gfy8XCaYDmt7fkrh0rNEk3SIBU9ME3dk2L26Dz/mh09bn125tGMxlU2NzcCwHPECfT1ERj18M3Qgg09ZpPwxNRej80TVO5i/QpeQIFAAAADAAAE1AAAAG1BmiRsQ3/+jLAAAEYKsAIfE5aoDlIGS2DIhx7k5UG02SQcvMxrFQwILilyAUG4j3S0YVvkqRHJ6/HDbx9hTAT/GNcEPwp3LlPihTv85gJBz+Wc9UtMLankt5x4D2b63Xcj1ZRGJHOieJuLRXbhAAAAH0GeQniFfwAAFr5haYecShriZKub4WxujMQHniMlVCcAAAAPAZ5hdEJ/AAANzhPsAI2AAAAALwGeY2pCfwAAI78a+YuCWpvPdFS37ZdPP3B2Zh5/LkLYq2o44hQI7k7oQO5ZotmzAAAAlkGaZkmoQWiZTBTw3/6MsAAAChacf4EUoAKHezjQOVbOJWzOKwQactQlkYxNMp8/a7eJyhiGSup0MszgTmtFxN7RKLQ/wRPN+sM/QR/P6SLJc9e8QGhh0IBJdfBhS5nNzxEawDde3M7Sx8Mi5pbT+EGP90p9QkFF1bPox9N2PmP06MaairMM/2PNl7pOGYYwM8S/B9tH4QAAABkBnoVqQn8AAAUdPmDiZxyGK0jirqfIuYYqAAAAlkGaiknhClJlMCG//oywAABGFF1YY4IGa4WOZ1ZTiAj8TDACBfabPW++VzAQBJPSvmFu2gXu4WCbRTSIlI2c7ZEjVayuCdMTNgAATHUlOwABs0nQLEwegQ2EfzidQtPz/tlcl2V7PCQkou/Yf7sd4Yqlv47nnO3w8a0Mg2IkJYXbwKvfB4G09e5arwwSJuO92sFOxxiQeQAAADRBnqhFNEwr/wAAFrVYVa8SFSAHyjBGuT4XtExygA2iioB1bU098tXfh3VSPwnSiTCcguBAAAAAHgGex3RCfwAAI6w5BWwa8NXy0JFm4qpx3mVm38u2YQAAABgBnslqQn8AAAUaaH4KyN9bSCdlzQgxUEEAAAA+QZrOSahBaJlMCG///oywAAAKA8RfITicQb/n4XcxfrvOF4ABrZJo1aeow20xcNFJ73vERfKDgDvXvBQASpEAAAAgQZ7sRREsK/8AABa+plqnSvqT6UAQlBIViIE5hHIJRcEAAAAXAZ8LdEJ/AAAjwz4OLDZVS+XimDGOOaAAAAAVAZ8NakJ/AAAjvxrOe94JtmKtUKCAAAAALkGbEkmoQWyZTAhv//6MsAAARgLQ+koak1aqybV7KwdoDTGgAAHKGro6al0uKakAAAAXQZ8wRRUsK/8AABa8TmzC2EsLSpz8MGAAAAAOAZ9PdEJ/AAADAAADAakAAAAVAZ9RakJ/AAAjvxrOe94JtmKtUKCBAAAARkGbVkmoQWyZTAhv//6MsAAARhHAiN0hUqtuicD1BTub2tE/kX/gCB+PZugIya/T0754YQx2MzznSdNG3VH02jM8xRGdS4EAAAAhQZ90RRUsK/8AABa1WZNHRiy+KDmAJIky6Zy9vZe4lPsxAAAAFAGfk3RCfwAAI8M+DnjYT0KsA444AAAAGwGflWpCfwAABR801bGssCqUsBcQSb1GmyNCYAAAABdBm5pJqEFsmUwIb//+jLAAAAMAAAMDQwAAAB9Bn7hFFSwr/wAACHFPslhcg4Mmlnkrj2jnUoCCowYqAAAAHAGf13RCfwAABQ4RzSBTWIMnbD0NIRb4W305CYAAAAApAZ/ZakJ/AAAFHzTVsaywKpfuHakL7ZminzgAhUfAwYR0HSuWdVLWbMEAAABeQZveSahBbJlMCG///oywAABEBxuK2PFwy988XxfTlSCVbl/IsnDnooHmg8FWO4Mgfqbl8AcVwVjRf/OYQw5yHgQ0QtfZDPoV3ms049TFmzt3oWOaePnL07DSXFVl4AAAACRBn/xFFSwr/wAAAwMv7kOfrZAUrM0E8fBDE5XbIAnj0R+yfbEAAAAaAZ4bdEJ/AAADAeaxsPGNkIfs8pz6R1oLIwMAAAAVAZ4dakJ/AAAFHzTVsaywKIYRv8qAAAAAQ0GaAkmoQWyZTAhv//6MsAAACgfZnuoKsXycdmIgCgtOwWfc015f+MFlvTGX8S2gTfMhTbDyRjOX7pGCPaYoqZbshYEAAAA9QZ4gRRUsK/8AABazR7cM8H+YfTKbADa9zdAxcYVUxMaxskWEMWokb+QNH9TfTLDIYsf62wHwAA2PAcp8BgAAAB8Bnl90Qn8AACPDF2ipsmogN5YJEEkYDlqbVO1mYa2ZAAAAHgGeQWpCfwAAI78EJxLJaa1Tu9/aidFTQ+Sm4ZafpQAAADRBmkZJqEFsmUwIb//+jLAAAEYRrBEBI189eu6ZSVIms8g/QPluhHIBppVz6TpA+CUj7flQAAAAOEGeZEUVLCv/AAAWvEPNsr7EZYy1K6xyAM7Wro6TNbK+y7WpHYzLZXbeI4OwHkswNyil59fQ4J2YAAAAIQGeg3RCfwAAI7iv3FV7l8LSQsFtTykxOM2JAZg5e8FfswAAACUBnoVqQn8AACOxzAlvqWubR5OC25dE9NDEcIU8r1QWFEdtvbAYAAAAT0GaikmoQWyZTAhv//6MsAAAAwO/6OD65iAAmv3zYtOO6aKl5ZZz8pxMi7Qf+8tXdHDqZbiCGnrB+uA6ZR1IrhgotHe4mKWrj92bhTu7McEAAAAcQZ6oRRUsK/8AAAMBNYFDaZl8wcebe+n0nprxbgAAABoBnsd0Qn8AAAMB5rGw8VtG5JT0iSONPHozZwAAAA4BnslqQn8AAAMAAAMBqQAAADZBms5JqEFsmUwIb//+jLAAAEYC9vLWgKf4Dyb341aNhG1H/BiBGFv3rHxgaoSZUC5irfK4eEEAAAAaQZ7sRRUsK/8AABa8Q823FcysmUlDL7v46YEAAAAOAZ8LdEJ/AAADAAADAakAAAAWAZ8NakJ/AAAjscwJb6lvshWW2ywxoAAAABdBmxJJqEFsmUwIb//+jLAAAAMAAAMDQwAAACVBnzBFFSwr/wAAAwMv7kEEeFW0/iBgs6BJBLUboX2RR9vwS8GAAAAAGgGfT3RCfwAAAwHmsbCUqUTuDbgSXwY9FvwYAAAAGwGfUWpCfwAABR801bGTC8/rwBUNX82QRbDtwQAAADlBm1ZJqEFsmUwIb//+jLAAAEYlpJVWnMzKwvtq6IATV0nyrZ/+9sjS9gn2DZBD97EDzOd0h8P17SEAAAAhQZ90RRUsK/8AABa8Q823FhfZD3ohFQMSbOto7hQNHcQFAAAAPAGfk3RCfwAAI7iv3FV622iOABdQCy6myBgielePVsNRaRaHfW8cRJzsubfFzcWokRD7NpzwcWSvK2JtmAAAABYBn5VqQn8AACOxzAlvqWqLRpdzO+GNAAAARUGbmkmoQWyZTAhv//6MsAAAAwO8i4eXETw1z0kEWeDlixiRS5ZYnACF/0Q21l0VMKbPlhIsm1rdm2wZuzbawRVfMaXfTwAAAB9Bn7hFFSwr/wAAAwE0n7t40z5nm99J6JaHNhBjtEqAAAAADgGf13RCfwAAAwAAAwGpAAAAGQGf2WpCfwAAAwHlzUaYG3cDcAbL/cSL/g0AAAB5QZveSahBbJlMCG///oywAABGAvby1oBqz99gI/V2m3DnoZuCo/H6oNHj0uFHBBpYopsDZvCSWnS/FbrPL9dR0NTWQ+9mK6712cxPObWQ9KcXWtM9R1PXOqMmVq1GiG/F/GawTkpbPvqu8L1HdI54ZsnwUY0gduMswAAAACFBn/xFFSwr/wAAFrUrN2taXriilj10ZQbeqmFBovjI1KkAAAAZAZ4bdEJ/AAAjwxdgkKdXtd/cNFcWQTDGgQAAABcBnh1qQn8AAAMACj55DMFDmk/em07viwAAAD9BmgJJqEFsmUwIb//+jLAAAEYUXUUja2ssIUztL5IPt2q2JbIxAFbby9YEVJEvK57+BaFVjUuxgX24uO0ji4kAAAA0QZ4gRRUsK/8AABa1KzdrYcWoAblo0PNYO1PPl5Rmc8GrA+X7hNm7EnJc5JE4OAHJCBW24AAAACMBnl90Qn8AACPDF1KEUEiHodjpcFNuQw3xkggc7sc50x9swQAAAB0BnkFqQn8AAAUfMJZ6rVHkpV4+tgZ7AfZQNRC2YQAAAClBmkZJqEFsmUwIb//+jLAAAEYC9vJ6BJ2+Pi54mnahyue0n23VsBcPCAAAAChBnmRFFSwr/wAAFrxDyo6H4XRejqV/Z+iYOb92reHkNbv+pXyw+AduAAAAGgGeg3RCfwAAAwHmsbDxW0bkdbV+u8trntmBAAAAHgGehWpCfwAAI78EJxLJaa1ZMA4YtUMwG6DgjvLvZgAAAE1BmopJqEFsmUwIb//+jLAAAAoHsFzZf/f1QcsaAOXCIeRVQAppOz+5gZ+nxg5yh6hI0XAxYnmfARPDwUe/EpFce61IXwlaFpHP4CZ8VwAAACRBnqhFFSwr/wAAAwMkU+m4ItFboBmg1tWJNrcR35wvHGg5+2YAAAAaAZ7HdEJ/AAAFH8vtFTSqep95KnJKG7PaK2cAAAAbAZ7JakJ/AAADAeZ/1WxkwvQNbDGQs0Hd+7ZhAAAAQUGazkmoQWyZTAhv//6MsAAARgL63gF5K4ar4ghWopEtqm1F6mrkfPSGLPfyq/nmYW/hssfkrlznl/2oQj7Djwb1AAAAL0Ge7EUVLCv/AAAWtSs3a27+f58AA46qklvI+w53NQ8cvAzE3GmhnzCi9m5lYq2ZAAAAHQGfC3RCfwAAI8MXUoRQZKSUYMJoPYwAHtiQ9pSoAAAAHAGfDWpCfwAABR8wlnuJLTWrk+X//QG3XoM0qMAAAABNQZsSSahBbJlMCG///oywAABGAvYLUWsYvFbeD07OfYABCLUae63UWIvMQCAyF0aScMnsSm7Pm1EmZXA9o1j3wcCsGBajpHg7g+z+xkMAAAAgQZ8wRRUsK/8AABa1KzdrWWaIuQFnbkc4PR6j7nVRpAQAAAAeAZ9PdEJ/AAAjwxdoqaVTgSFvpFga339sZPlBZHJAAAAADgGfUWpCfwAAAwAAAwGpAAAAmkGbVkmoQWyZTAhv//6MsAAARhRdSR/OaEFGq1ABdQt4+x8Av+JHIOSaO3C/NUTl1Yac9xULdwtbwQbtkFV1bAuwI5If7h7zl7qoqN2TWxE/Bnxa48u4N7SSudyLvj/YPhzfbG0/OsziTE4s2QpTn83LbNXmBkr2YJVFBHJ1vAvv4XJNAcPfj9v3ub2UoEMa+Lx1Y4z6No5E+PEAAAAxQZ90RRUsK/8AABa8Q8qXbCAI484NMlB055wNOB1yG3WFox1m3ZlE2lr4+CWk96bZgQAAABwBn5N0Qn8AAAMAunoYICJRyII5zmFjCec1wI8GAAAAJQGflWpCfwAAI7HMCW8/tKwIZv3VqtIm+hE4EALcYwUp67B1xQQAAABGQZuaSahBbJlMCG///oywAABGAvaKBYJ59YAK+/EPWKF7CJZCu98XQYqgqkU+UrmCdoOWyBokqWYvKeN3b11wRoAjWuVpcwAAADVBn7hFFSwr/wAAFrUrND1UCkTRzeXn0AQ+TovMFMrn8RAy9t0o6Ese265SODcD3mx6RwC24AAAABkBn9d0Qn8AACOr+Ft4Ep1oI4gRnpPkd0UEAAAAGwGf2WpCfwAABR8wlnuJLTNXCs96Gh8AgpUyTQAAAGNBm95JqEFsmUwIb//+jLAAAEZ/viAeORBfBwJ1avMA6tC8v8B/qbceHHInYZQpGD/Pybc6lOuwGaL+8mEVz/4hcrjnel+TWaFP8laPVaG6sz2OlaqtXNwnGt/N9L8Qhuny4gQAAAAnQZ/8RRUsK/8AABa1KzQ9VAv7LDHerMFLbf/9dLXfakFIGab2zLbhAAAAHwGeG3RCfwAAI6v4W3gSjoj+LR2jgtZe6APpDM7DbcEAAAAXAZ4dakJ/AAANf9Yuqm4KsSwTNRLqTBgAAACRQZoCSahBbJlMCG///oywAABD8o4dMvAJ7l41vc6iMOvkYnxFAQSaFLMYmIJ2yoAjrdYgWM7RGYPsf9PmBBrazHtsg+aYbWqJm7CaG9VviWnOyCBTRBvN8dvIdmnwj5MkW1NvmiLdyYxPBxwfAdZn9HiV1LQ7ulFvAarQxYGnoAHN7Qv3kfHE0+lBcPMOe3oAsQAAACdBniBFFSwr/wAAFiMsrh0HXkPyMrn5sVmC2FLonb3j2AV9xalRMWAAAAAsAZ5fdEJ/AAAirEJUN8VlT+YxnJIAAti1MldPN8wgjH6IBuw7gXodGAkc7gsAAAAVAZ5BakJ/AAAivxrOe94JtmKtUKSBAAAAdUGaRkmoQWyZTAhv//6MsAAARAL3+jWco0b86DQuw120tsBX5RbTjM4RoAqxfkw3aaS1g4odHkD5Wj6Sgo6OJDdtCR8d9pzVCT8vjF8vc27vJ6fHiBaQm5rqzxWTut/QK0dQh+f2y23VsiK1mxYOlHQWtFry7AAAAChBnmRFFSwr/wAAFixL2R/KHZjKyqt2KedUkhxULbq3UYmXgfTmh4LAAAAAGgGeg3RCfwAABPhbeZLHx//GJ42Rl4AfpUFhAAAAIwGehWpCfwAAIr8YtGzyfzkdQTu50wGmt36XCVRuFJ9IXv+YAAAAZkGaikmoQWyZTAhv//6MsAAARBDBV5nWhVfaDIISWNfbhONTi+NVKy+MQJQmFHPsSdBgHXyb57fV84UyyS98iSoQC+WnhbeH2Qm2GeM47at9IdaJM+TIc7gfOTLpF+vX4jmkjUpOVQAAAChBnqhFFSwr/wAAFixDzAel3DrNN9zghKN5YAmcBG0kNQ6TJFRMY/abAAAADgGex3RCfwAAAwAAAwGpAAAAKQGeyWpCfwAAIrItORh6IArkaQAC2KWrsXjVoBzadygsOU5Aq81dSg/LAAAAZUGazkmoQWyZTAhv//6MsAAARAL2XGWm69uHzUlXxQIHzAAJ2damBKl2L8AZo7YYL/ESmssjUBCHn7Kgps9wbNyim4n+mCT5Y8JliZL4OSR4XwkuVWnVreclC9qLw1XaowMC+DuBAAAAKEGe7EUVLCv/AAAWJSs3M4QjgX00X2rlF3/elrOSlzlItBI2pdkT+YEAAAArAZ8LdEJ/AAAiwxdirn1IGlStulONvTh1zHCuDCL1IDRoDClMVhY3FMQcWAAAABIBnw1qQn8AAAMAsWaatjXYI2AAAABMQZsSSahBbJlMCG///oywAABEAgV5a0BUnYGsy8qFNuxBp7uXVut/bPzGRtHNz77VmwlR6udrB5w+XkQ+p1Bg3Usy0+1WlluoDfv5QQAAACNBnzBFFSwr/wAAFiMrtQW5HC/l0Nexku8o98klnyGZC28dMAAAACkBn090Qn8AACKr+Ft4EjQJP8NbS91hgARbHHGbYvipUgBncnNtk2P9wAAAAB4Bn1FqQn8AACK/BCcSyWmauFZTHyo7fi+uGRRy8WEAAABRQZtWSahBbJlMCG///oywAABEJaSVWYgBdggdIbdAOIbubZUsqz73gOUMWj68YMPjob5hovYyqY/cm46D8dBrvtdAsTJ7ZSBqWq0AXSQ72C5BAAAAIEGfdEUVLCv/AAAWLEPNtxXMrJlJPgdCisuHnxF8OWUHAAAAEAGfk3RCfwAAAwABdBb+K4AAAAAhAZ+VakJ/AAAiscwJb5gk0TtcH+DV9xKS/oNCGywlGAW9AAAASEGbmkmoQWyZTAhv//6MsAAARAIFgWhy1zBsx+4F4y09sQCa3e0AKJJ9IAFH+yaJbBeTi/zmpZ4MGa5R5fS3Y7yO7OF31NzhrwAAACpBn7hFFSwr/wAAFiMrtQXDigA9Obh+HOCqgu4zGc90IS2LZT1HXJnYVVgAAAAhAZ/XdEJ/AAAiq/hbeBI1QMTwjVjBhrzTXvhxhm5Vt029AAAAGAGf2WpCfwAAIr8EJxLJaZq4Vms/lSOtmQAAAFFBm95JqEFsmUwIb//+jLAAAEQC9vJ6BgIACC2iz2qnROyl1Pyw49an05K40oITmg9y6cupQ42qFXe/qZIbDgs9OSpfojxh/U0SEmDupeGi9+AAAAAjQZ/8RRUsK/8AABYsQ823FcyvAUUe7X62Hz7PIady6zg9E6cAAAAaAZ4bdEJ/AAADAduxsPFbRuR1tX67y2ue3oEAAAAgAZ4dakJ/AAAivwQnFBs8dEeTA3abwImnSIuHQDvzd70AAABzQZoCSahBbJlMCG///oywAABEEMFIWugCFXHknWEG+vXODBLZonPN7ej6rwMRKCkMW0JIWwvei+ZBtPhS73q9VOnLmtgpX8l1QQZEwlh4azvAwTSXFTwfQZ5/0PZ5BH7bejBw5xYSgjZ0Ief5S+242AytQQAAACtBniBFFSwr/wAAFiw9GuNZC34dntDfxMPdO4l6H6vt4eM3kvslHxeDN44VAAAAHAGeX3RCfwAABNWHBnqVTi+Cz6R68QkzYwoJCFkAAAApAZ5BakJ/AAAiscwIzjzFVa30RL7SzNWk7KUL+i08kqrJ+WCy4KKuGYEAAAA+QZpGSahBbJlMCG///oywAABEAqna5ggPVW1PkeJGtOq7lQsIuhRsrAVZrw3QCkAaX3cR7k/8AS456rVKjf4AAAA0QZ5kRRUsK/8AABYlKzT9l4bMt87gBwsA6Qz9JC+4Qdr5/6AH7y7mP2ddq8syQ4XokXUccAAAABgBnoN0Qn8AACKr+Ft4Ep1oI4glyK5ZjicAAAAdAZ6FakJ/AAADAdB/1Xe24hqhRFyEFnNYnbiphmAAAABLQZqKSahBbJlMCG///oywAABEAgiRgHz7X+JrMZ6d+N4fejc5THQgU3bKX3rjjToQDtWn9ZBL+yG8sgUgrBFIiBbUqD6nBFl7Ii9JAAAAKkGeqEUVLCv/AAAWIyu1BbkcL+V7eEWskcAAmp60U2BkPKWgKirplglVSAAAACYBnsd0Qn8AACKr+Ft4Ep1mFk6kkK04DpKh5gJsm127PB/Hn5NsoQAAABsBnslqQn8AACKxzAlvqW+yFVKGFGRCRXx0DpkAAAB/QZrOSahBbJlMCG///oywAABEeN/gJ/74A0e2+2qUmzB35VF4oShhADgIrR6x05QUwDbpMnGyzlM0RPcAAZkYCQEv4a5lhyWa6MOx3HpFfwzYhliLDzQNjOhHmGEN+xr65QPN0m/mIMrNGuPosrP4Odh3SKN0GKV0oAd39L5OfQAAAChBnuxFFSwr/wAAFiUrN2taXscNWSk//ooC8XAKyJ4GWDBHEgkuUjJBAAAAHwGfC3RCfwAAIsMXaKmlU9T7wgmOsBgYl5J79JeneykAAAAcAZ8NakJ/AAADAdB/1WxtWkWXblpYAN6NMsURgAAAAEtBmxJJqEFsmUwIb//+jLAAAER6bZ5eKQDx2fp5U16oScureLq/adPCpmB8JtGhr64MvLJQDNEYjoAjQVNdXtXPt721L2JPrVXTeV8AAAAqQZ8wRRUsK/8AABYlJuOZXLpQAsX69acDxEEPLXmcm6q9CjMi19SOyvCpAAAAGgGfT3RCfwAAIqv4W3gSnWYWT4pKiGIzAoJeAAAAIAGfUWpCfwAAIb8aznuryHQKS3xUlixuQQIV0ms+0htBAAAAWkGbVkmoQWyZTAhv//6MsAAAQiXd8xTeNUAF3fPGZCqP6M4MeM4zQX1uP4cR0NBNknssTmc2OEYlFPiPdjD4tdbYoJtws8EyPWYc3O4/8XWUS+skON3Xkm+2rQAAACNBn3RFFSwr/wAAFZxObKgkaVuBiGhgfOD5kkyq2cJGxqhyoQAAABwBn5N0Qn8AAATYaEs8d7vcSz4usijRjic2EhCpAAAAFQGflWpCfwAAIbIrBxM44agk8cEJlwAAAGpBm5pJqEFsmUwIb//+jLAAAEIC9m9zB7fPkjvhWpoACf3H0gulXKT43LzX10oJJsq2KJozLaMiRAnvXNv8u708vaCIYckAF7O/IOPBXeFH2PEpx4NVb9rRyOsNCL3XBGvme/mohVk8T/WBAAAAI0GfuEUVLCv/AAAVlSs3a1lmiLkBZy15o3WQ4wSZAKh3H6/aAAAAIQGf13RCfwAAIcMXaKmlVDT6sDD5kuoC+i+TSfMS3V73jgAAABMBn9lqQn8AAAS3VM2lbqIdwMCBAAAATkGb3UmoQWyZTAhv//6MsAAAQhRdSSK7TvsDB+q54mCu6VYGzfeze+BhXSUl0Xd6wwrpi+OFlHeoU90Rp+tzlnwCt5ihN/xrKg/Tqz5OwAAAACVBn/tFFSwr/wAAFZUrN2tcbAALaQ+lvy10x2mAl7Oh7/eyEQvHAAAADgGeHGpCfwAAAwAAAwGpAAAAQUGaAUmoQWyZTAhv//6MsAAAQgIFeWtAVJvJ2JqNo3UuIbuYnSHEBst5LVQE/m4Vjjm+vII+uO25oMUMS/GMH1eAAAAAJkGeP0UVLCv/AAAVkyu1BbkcL9DCdL3XdK5d4qsA+dkCQac06O2BAAAAIAGeXnRCfwAAIcMXaKmleTy9Kgh+X9eoPiIeuZ+FCVSAAAAAGQGeQGpCfwAAIb8EJxZaXG3q5nLla+h4aEEAAABcQZpFSahBbJlMCG///oywAABCJaFlMrEA0V3VGHSG3gDq3OWsvR7m1TRTvMPqFdQIikGRsmXlKtK2zplfOji3DdNTDaO7StcCMx5g5DJyf5Yhyd/yTTVL33+hxAUAAAAoQZ5jRRUsK/8AABWcQ823FcyvAUUe7YCCEXblp8PZ/SjSf0pHK0bjgAAAABoBnoJ0Qn8AAAMBz4oeGah4q1uplvzHtBvfkwAAACABnoRqQn8AACG/BCcSyWzo2C9Tr0v21Yx1A24kq9W6swAAAEJBmolJqEFsmUwIb//+jLAAAEIQwUgLWKKwMYBryGb5/BxfP/C29ACkgio6aCrP0klxpcCXCIZIsBtS071g5F70LswAAAApQZ6nRRUsK/8AABWcQ823FcysmUlAxcIQAmoLAXMuu1xR3Q4+G8mLEacAAAAOAZ7GdEJ/AAADAAADAakAAAAcAZ7IakJ/AAAhscwJb6lvshVI+/wGKMhu437pgQAAADJBms1JqEFsmUwIb//+jLAAAEIC9vJ6BJ1WGKPFsHOKqPq8/PgW0TL48X732qRfuMoMgQAAAB9BnutFFSwr/wAAFZUrNdeFXCxT4XHrDGxHBFksQLIxAAAAIwGfCnRCfwAAIcMXaIt1KDCAh8Dj/tV7S83HL6gNyJzjnG8dAAAADgGfDGpCfwAAAwAAAwGpAAAAWUGbEUmoQWyZTAhv//6MsAAAQgC6+Q7kZ0j77fTIMa4Z4gj0sDzmT0YAdJAov55oKSbph/bge8aeb8ZXYh4YGbPLClID0li1eBzPl65451hpffgp5XpOtJw3AAAAKEGfL0UVLCv/AAAVkyu1BbkcL+XQ3PAAIhxFfnvPSuy4b7xctC9v1ZkAAAAeAZ9OdEJ/AAAhq/hbeBKdaCOIEZ65GgQHeG+Vdc+AAAAAIQGfUGpCfwAAIb8EJxQbPHRHkwN2m8CJp0iLh0A77WrKswAAAERBm1VJqEFsmUwIb//+jLAAAEIC93nMsvbUFOl5AB+h/p8xyEVJglvY23wWC03sseb9Fl7YoY5+VphfIZ93YLMOfj46GQAAACtBn3NFFSwr/wAAFZxDzbcVzKsdS6iykXUwBFO/y02Fd63F7N1GTs3bR+HZAAAAEgGfknRCfwAAAwCxC39EoTzKgQAAACEBn5RqQn8AACG/BCcUGzx0R5QJtelAs3pOthiIhd/zazAAAABSQZuZSahBbJlMCG///oywAABCEMFIC1ideONgv4EjhD5IwHKUEQ49GO+lqTq8gKsgAsPttfEhEpqYJAkgQPwavKpWzNbIXFTeB97mxnlkARO2gAAAADBBn7dFFSwr/wAAFZxDzbdrm440a2Spv00AVuTvABz4mdhUHdOEVbiMcjIHLf3RCrEAAAAfAZ/WdEJ/AAAEtYcHGyS89OSFvtkn0TsQ+pSGaQNjpgAAABwBn9hqQn8AACG/BCcSyWmal+Y4JEziB20OJoD4AAAASEGb3UmoQWyZTAhv//6MsAAAQgL2WSZGANnGu7emjOsnZJ0XuWH0MKyhJkilcVNAMqWXe/BD/rD7dR78SJ+SCP4yXAVa7DNtgQAAADFBn/tFFSwr/wAAFZUrN+NUAWDYe/objl43MAZQM1voavBHj8lIYjxRGB/UHEOQtdWYAAAAGgGeGnRCfwAAIcMXaJzq63C6pl9klAvKWgPhAAAALAGeHGpCfwAAAwHPECgrHZy9lcESX031WNIqAEodVdIlzlXwvv2UGzdq3jphAAAAekGaAUmoQWyZTAhv//6MsAAAQn4l7gv9q+cpIOOm6Pj9SQfd1bAct4Bw2+LpFvgaukvAYJ7/OqjHZLLS1vfRwWY4+d8GxzFDODnBoHEID8u+U4KaNlnUVQGYrvFoLkW+7FaT3zIkY/z1Oa6svL3C8npfr/gTkbI1soPiAAAAOUGeP0UVLCv/AAAVjjR62I0a1DQAsX/ylSDstNBXqaQdbPUzmdYicnldhtSZDGRsRNJ/4Gi4EZoz4QAAABwBnl50Qn8AACGr+Ft4Ep1oI4kJyabaMJuwMAVMAAAALQGeQGpCfwAAIb8EK1Thdfi+ABBkIGD3AYfbYx6rRBwn1qFCfpanOJr5ievUwQAAAE1BmkRJqEFsmUwIb//+jLAAAAmAbOVLF1AW+uUHNRdz/h+s8JIDY0KHLMi0e4L+rRVul4NekABEV0/jXaCD8u+QojkVPmef2mLX9/euqwAAACVBnmJFFSwr/wAAB8ddbLn12TfPksyF48tsLs5H5Jmbb8UIsh3AAAAAHQGeg2pCfwAABNZDphf091JebD4UrBMhh6Tl+BmYAAAAPkGaiEmoQWyZTAhv//6MsAAAQAIGAIfEwtfmORSpcX+M+Ci1DDNTAKCkkJPxr+3pEI/ibCevQrE3YHZogUdxAAAAKkGepkUVLCv/AAAVAyyuHKw5mW/n091Yughc6ZWpb7St2Nukvg3gYsDQgAAAACkBnsV0Qn8AACCsQlQlE57sU99kNbZOcloAF1r+B2QiBRQ8c1Ag/mwUEQAAABQBnsdqQn8AACC/Gs58F3E1eDACigAAALtBmsxJqEFsmUwIb//+jLAAAEYB39dXMAbe5KxlV+G1xWdfgPJvh+3Ho4MgYEgqw6vgHq8CIAHi6Rhe/lXPEp9B2hPqcGlfPXgrOr2avlnJGc65yOu/tdQkSlCVUq1ner8tKqBO7X0AjnzSYDa4CmGfy6LsvLiSJ8n7K+gF041bJbBLdtGBIKZWwat1AZ1RREx69b2erXAPCQ/++AATXQVAYK+KoU3bmCgZ+iRgydVjVMK/E9eXbLf89CwXAAAAZEGe6kUVLCv/AAAWsyu1H02of5AA48oukQv9lWnAKOZWRg31PRooontLGQFcPuNw5fbMfgiiwKLHpsdG+ZifwS8h1347UaWEJ25eSDnfpwkzT4WQDUt2rS3/taOnvNPzldcHosEAAAA8AZ8JdEJ/AAAjq/jIY3ioDqqWpyVdrSInXgXrTgKEAWQUxUAC0Zz+H1CWQlBjPhdDocr/csF0TnCv+WnxAAAAHQGfC2pCfwAAI78EJxLO5+Gk3RKztP36EnHtdoHJAAAAbEGbDUmoQWyZTAhv//6MsAAAChbgX7NEekRrADOMv3p8ldkzmQsIWhDYydC3Ts/koPbHZJznjb00w8f+zS46Kf610Od/btjZf3X/fnaajtVwnNqNejrV+Wo9VJuWnrJUZGuYPxBcXFDHDWcVhQAAAKxBmzFJ4QpSZTAhv/6MsAAARiXuIU8TANy4E3CxAHFJ6aEfcgPjhNnreSLQ3yyjzzd9a9w3WvU5952O6NTv8/RNimRY8ObAMzwe8H3KjldkgKwMMXB/GNUpB6ymtZRoChweGnpUkSQxw02R/c2CvDPyoynqlOy0MOtDNz0a4hhZeWFVu62V5vfqGLNv22vsXmrMB19PLlq8umH4tw79EUkbv1X3z/QLlcD8Jt1AAAAAIUGfT0U0TCv/AAAWtSs3h6hsLrlqe5nK1qKh1jRJFTNNmQAAACkBn250Qn8AACOr+Ft4E8hBgxvvOwJJNuDSAuea/r4HLS2gd7YNu/a2YAAAABQBn3BqQn8AAA00n5g7ra+CZYCRgAAAADhBm3VJqEFomUwIb//+jLAAABoGPqxWE85CNQD0Q3foN3x4cR922CxrMXCu0qxsRV/Z/OXTmJDLZwAAABVBn5NFESwr/wAACCwMtN2BlygA+YEAAAATAZ+ydEJ/AAANLhXCiCaNcgCygQAAAA4Bn7RqQn8AAAMAAAMBqQAAAGlBm7lJqEFsmUwIb//+jLAAAAoQqsNplUvKBZ0YqQBQabjcXHs9VHkN4JfkTiuDoeSUs/mAgv8CYbeC+XhCRj49X3lHhQnRIMWzBrR2hQ8xgzQglQO06v2YlqE8wpoKc5f8WHcrdgm/KKsAAAAfQZ/XRRUsK/8AAAMDOE1oCZ0FbYMWHgEtAhV+cXUWzQAAABsBn/Z0Qn8AAAUfy+7iryukG/yjwwis+LpXTZgAAAAOAZ/4akJ/AAADAAADAakAAAAXQZv9SahBbJlMCG///oywAAADAAADA0MAAAAjQZ4bRRUsK/8AABazK7UFuRnjlBfKuf/3te/k9pCKdLbZEvAAAAAYAZ46dEJ/AAAjwxdoqaVT1PvCCry+/AtpAAAAGAGePGpCfwAAI7HMCW+pb5nblI+EtaEG1QAAABdBmiFJqEFsmUwIb//+jLAAAAMAAAMDQgAAABBBnl9FFSwr/wAAAwAAAwEHAAAADgGefnRCfwAAAwAAAwGpAAAADgGeYGpCfwAAAwAAAwGpAAAAUEGaZUmoQWyZTAhv//6MsAAAGq9HB1IYc2R3rBBJhkaO/gYAAIXv+Ok2pTPmbg5afgUnMaJfiW+EZ2JQfDewH5MAQeiFN0ZDKOXG/344Mk3jAAAAHUGeg0UVLCv/AAAIbAobTMvmDLHDLDxQdgC3XnJAAAAAGgGeonRCfwAABR/QwQESjKyRjOyme1BSh9STAAAADgGepGpCfwAAAwAAAwGpAAAAR0GaqUmoQWyZTAhv//6MsAAARiVvAcidAKrLv38mBUIe+2pLqSHRwoluXIct8ByVHUSeoqIWGCW6RtpGDVdInQpxUusms0NgAAAAKUGex0UVLCv/AAAWtSs6PhQku4oZ2FG7xZtB299oENR/pTIcKVt72CAhAAAAGAGe5nRCfwAAI6v4W3ggBSKwxU7U0j8f4AAAABsBnuhqQn8AAAUfNNUl/E5IUi2DyNMp5nSfAgMAAAAvQZrtSahBbJlMCG///oywAABGFF1JH84OQlkygpSu3WNma1CsjPZVzH3uZsoGkTEAAAAfQZ8LRRUsK/8AABa8Q823FSwSbr5hOmkltVvCrmnj/QAAACgBnyp0Qn8AAAUeFYliJ0QPBB4BSJUNkSksiNcwAWQlP7TzyrolMRQRAAAAFgGfLGpCfwAAI7HMCW+pb7IVSPvzgW0AAABIQZsxSahBbJlMCG///oywAAAKB7Bc2ZDpBwWHLJTkALURJvAuzPAEifFRrTlNTAC9/uLWESR9FSRLyrFhtpLeBhdQD3KYbuuhAAAALUGfT0UVLCv/AAADAzkxzXhv5I2d0wxR/nt5EfZwgA4wVK22cdj4uX3a96TbMQAAABYBn250Qn8AAAMACj+0PYN6CuMBseICAAAAHQGfcGpCfwAABR8wlnuJLTNXCs9/SlJj09MucMkwAAAAOkGbdUmoQWyZTAhv//6MsAAARgL28taARRLaSBI2jdQsnmkjTKR1glyxcl0Yd2Rmn1+zD7sdJAu69c8AAAAmQZ+TRRUsK/8AABa1Kzl2UJuWNYGTIA53Y+4zuDP7flpHgY8ggIEAAAAYAZ+ydEJ/AAAjq/hbeBKdvuqh6JHRGSHhAAAAGQGftGpCfwAABR0wDhuUGuLj7G1Ztzr//JMAAABVQZu5SahBbJlMCG///oywAABGFF1Ma/qHSP3SRvvySRuKTK+ryGKIbP4V0gnkiAeZJokG8Tw3IjtcOgCt73wnAdpbP80NouJqF6+p1qbpLyFT+J1BDgAAAB9Bn9dFFSwr/wAAFrUrN2taXrjucaoBxMcjplVFda2ZAAAAHAGf9nRCfwAAI8MXaKmlU9T7wgmOsBgt1uuwQEAAAAAOAZ/4akJ/AAADAAADAakAAAICZYiEABD//vdOvwKbRZdqA5JXCvbKpCZZuVJrAfKmAAADAAADAAADAtr0eJM75NTxNgAAAwEHAChhUxEhIBSxvCoEsQb2H+B0Qhf0N1qld9zuFXxiwgLBveZTxZrebi5hZH3KyGTuIBNVWsr+IymWOH++zbvGAnPbyqt95XGMzg/8SUP04Dsi1ihE0wpcn0+WeV4+ots35IUD6qqiOUnX1yLRu8ZfFrP5HMUfZwBlKSQAkPEbS2TMgVtRAG3HTk2opuDAl0ConZU6se35lUCbIgftiQGwaQdMdOSfahxKxuSJQZyzSo+koRpjJvvX2+3wE1H94jVY0sFkSS3Fl7tc6379+Tdsj6TockLBiAL0mY80Es0u+BEC4zRqtB56XrCiv6VLCF1FiA61soP+pt/O535O/qt64N/DueSZfCI0MTmLOeVv6UmAMZrobBmWtT8rNE0hbCBb5vd6wlrcMQYiy17TYRxquwxNSHtZwHDmYXceQ13oPKJeQh68Hl0+bBeeVqoZ1bgb3YgxOuRhYpCWvOoThDzLqqthAazjGwuFIcj/BJJuxnXrLcWXHnRCADlK+OK4GIYVBSgbttZ/d7EgaeWx1ZaAUez3yM/9aWSwM2t1pj8jhfhrMNbfXg7PZrJGHzV8MfVhO0VdfHlWAAMSAAA4VgAAAwAAAwAAAwAAAwACYwAAAChBmiRsQ3/+jLAAAEYKr3xoRSiqu134tAAJgTpPOi3+8oi7s1rFNtUYAAAAMUGeQniE/wAAI7HMCW+NmMe4gAnbTEZvwEGYVbikLkTaEpewGZJfqXXenai31No5+DEAAAAYAZ5hdEJ/AAAjq/hbeBKdvuqh6JHRGSHhAAAAMAGeY2pCfwAABR8wlTnk5wKNjrqBGnGWgkNfVumIqAD7CF23LFQz/UOYC/c5HIiAgAAAAEFBmmhJqEFomUwIb//+jLAAAEYCBSk51922I4Rw3hsqN6lOfnbAzLuU0Ag5s+gNS93JH5gNPQLs8zvWcAshz5pagwAAACxBnoZFESwr/wAAFrMrVO98RUAAWWQ2cYR8QtXKLj9aUlSvrPnzEJrmo+6ICAAAAB0BnqV0Qn8AACOr+Ft4Ep1oI4gRnrkaA91/82uSYQAAABkBnqdqQn8AACO/BCcSyWmauFZTHyl8pJGBAAAAOUGaqkmoQWyZTBRMN//+jLAAAAoXsPmm3kmbsqM1DHfWSFt0w2+153Wouo8VZfknoYoUvutz6Kc7UAAAABwBnslqQn8AAAUfMJZ7iS01q5QR5k6E7XWWtvBgAAAAbkGazknhClJlMCG//oywAABGf74MmCW/2hXnFdazBdjDRZj6pIJuafTG/Is4rsIHGuoN7UMwE81Yi0l1ScyrvolbVaYrFRpazdZz/u72JdMzyEd6EDyFh7cidx10shQmmb/EXohXb9sHOIB4i1BBAAAAPEGe7EU0TCv/AAAWtSs0/pS1nWN1AETBcXfz0tQWscdKcDQpsWnWaL6nPoHPMfDiqxPZyiqV9J8eAlOCwAAAACMBnwt0Qn8AACPDF2WwqejwHZ4BbElVjpiSAAy8YA9pTnJBNwAAACMBnw1qQn8AAAUbRJZ5umr5eTL56mEBoBsChaGaIvvz1lqE+AAAAGVBmxJJqEFomUwIb//+jLAAAEYUU9OVGMCSliMGciuMb4vVv+oX4t8vSSeZxEDs/4A70d9hh3fsE84FCF6Kkb4LXbhX1OvcH4rqVexUo0WRot85dtB0F06VuyPP1McuJeZsJmX10QAAACtBnzBFESwr/wAAFiVZTV1ttnLs9gADjo5N8H8IJTjfgIAhqAayJAqpXSjBAAAAFgGfT3RCfwAAIsM+DnjYT0Lqk9/VJP8AAAAcAZ9RakJ/AAAE+zTVsaywKpSvaGN6JAPDMN2OWQAAAG1Bm1ZJqEFsmUwIb//+jLAAAEZ6bz/d7pl4kKGrxzSdzIspwNFX7xxSB+wnvAC/y7BSt2zAP2O1SsbDwMLpGcWIvwwpJ9IDOXEs6le3drt//4xzOhv0WwDQ1dUG7/Qz5ga3DPCQ4D4XKFmX0taiAAAALUGfdEUVLCv/AAAWJVhUSewgBanStmVpT2vacfrc8gkk9zCwhx6jZOJhYLfnwAAAACQBn5N0Qn8AACKsOQSA6DfDLZYCmC3GkumjkhUGwfdRyAvb+fEAAAAeAZ+VakJ/AAAE6hHPLSdya3gx3dxHhJfRZjTK7sT4AAAAIUGbmEmoQWyZTBRMN//+jLAAAEQC9/mg5qJaXyeTx7QMWAAAABYBn7dqQn8AACKyKwcTOOCnzzUG/x0xAAAAoEGbvEnhClJlMCG//oywAABEAgX0VZn8Duail0lt3u6ut3HRbuioGLnnLsAIW0r+Tl2nS8XHLBX52ug6FpDzU1rRTJXQhsmNRH7mDh8F0xVm8Jvnr1XXr1jGK9g2BNerWEvpEGv1SGg3Sv6Fu2p7q4BHjvPtUAhWuTwJQZ5c3iph4JOaaXh3ob4qR0TDXvuc6gRY2O6F5PWG5bof9WP9/xUAAAA6QZ/aRTRMK/8AABYjK7UFvBobzwgBsP3ctsINxeTstHOhCAHUd6Yos4Aa2cejuTBT8VoJbbyPFOrwWQAAABkBn/l0Qn8AACKsOQWuTx9B1M2Pt5jjGkXAAAAAJwGf+2pCfwAAIr8EJxLMQXbgO4dGB4IxJs3xZOOGJcKEA4MTqGPzvQAAADxBm+BJqEFomUwIb//+jLAAAEQC9vLWgf3HYTMvKhTbsQae7l1brm9Yt2X1dbzDQWp8x6i0b9q2ff/UGakAAAAiQZ4eRREsK/8AABYsQ823FcysmUk+B0KNRyUPvlighst3oAAAAA4Bnj10Qn8AAAMAAAMBqQAAACkBnj9qQn8AACKxzAlvqW7rhYct4TAAi2OOM22zx4FGBqKxAgEraiqEVwAAAGVBmiRJqEFsmUwIb//+jLAAAEQQwUgLWLwLzWAyAVQIAQogd4udX9+k9hn0mKzSj2AgqVHcTfHxnml7cw8s8tk3mv6nG+bxJSgZh+tddNxEu3qsqb9qkjslqsGuakRiLcccmKMZ0AAAACpBnkJFFSwr/wAAFiUrNzOEI4F90R//C/INInTb3EB8yGoHjEsHTWSou6cAAAAmAZ5hdEJ/AAAiwxdoqaV5PcRejcB4fxbjCxijjtmoGzgmdjHVt6EAAAAiAZ5jakJ/AAADAdrMueNqxU7YDW/4UuFCwTQ42EdyJa83oAAAAERBmmhJqEFsmUwIb//+jLAAAEQCCL4gGPLUkh0sWqDxdNeFMYLmj2AoIDgFr/5hAhFfVmCaUWv9H3/gh/4UKE/c/AHVIQAAAC1BnoZFFSwr/wAAFiMrtQXDigA/pP3GkoXIYUWfmHG5X8iLhNuy7M964GHG+RYAAAAdAZ6ldEJ/AAAiwxdoqaVT1P7KVUsWt70MYIbCgVMAAAAeAZ6nakJ/AAAivwQnEslpmrhcw9cZ4yxh4k59E4MDAAAAPEGarEmoQWyZTAhv//6MsAAAQ/KUtcrOAdIYD+kDHyxVM9tL5iyfB2YjhuZPARqNIrDFgxqIHHOPbGRWwAAAACVBnspFFSwr/wAAFixDzbVR2bw4gDYxzq6wS28qo0OIqR2mIet6AAAAGgGe6XRCfwAAAwHaih5kk93K/VlM3SKtC+4JAAAAGwGe62pCfwAAIrHMCW+qfeRhC6XfVckk6ynjpgAAAEhBmvBJqEFsmUwIb//+jLAAAEQQwUgLjUa+3PkZ8bwL1YtiHnUOd0hEAFG/xQby+CNO4SC3aXBCb4mhneOd1wN8IxNLAJfuxt0AAAAdQZ8ORRUsK/8AABYlKzdrWl64ooPCMLA53Meah0wAAAAeAZ8tdEJ/AAAiwxdoqaVxPEbqfMtxgGMNM2IfcFSbAAAADgGfL2pCfwAAAwAAAwGpAAAAVUGbNEmoQWyZTAhv//6MsAAARAIFJWcKIDMVfT08jwrTyTIIWrS29d98onSO/IXobQ5BNWBJLXKbVQhg5RZEH0QXbRrrvx+5U7JqtpM1cGZF1sjhZFkAAAAqQZ9SRRUsK/8AABYdNkIBBJDkBIPeXiJx50a+g628rFwgwNFpCyEbZbjbAAAAIQGfcXRCfwAAIqv4W3gSnWggXEQM6DSSkfiTwkZiPGiY2AAAACMBn3NqQn8AACKxzAjOPPrPikoz1YNVF4djQkkPQt2QGZouFQAAAExBm3hJqEFsmUwIb//+jLAAAEQQwUgLWMUjgVmi7ZGH81CXLzgBc2yvC+nPr4LOfyzJh678sIIuli24iXeD0LRuP9GKEKOLEBR00M+hAAAAKEGflkUVLCv/AAAWIywDnjlgEpkSj9EtPq5LXogBNat1kH6gzc/ZO6AAAAAOAZ+1dEJ/AAADAAADAakAAAAoAZ+3akJ/AAAiscwJb8HCPNmofABxpFO1WXe/KrjkG4x55tNWl3SuCQAAAHFBm7xJqEFsmUwIb//+jLAAAEQC9pvPvsfuHyxA9RaAClt2HWABQbtMZPEwRRKcJ+N32xJhgpjrDvDkMYZiESUlnadSiIwgPVeYWE6LccD5tQAcIGfEB1WsI7wMZSnGIRQctGuvVokwUfwbrq3aJeMXgQAAACZBn9pFFSwr/wAAFiUrN2taXqo0aSa+8tlTnvC/fN3FYaVoy3XzqQAAACIBn/l0Qn8AACLDF2ippSh+6JoFgZKAV3cSGyDMKBLSQGIWAAAAHQGf+2pCfwAAAwHQf9V3tuIaoURb6Etgo5RyocqAAAAASkGb4EmoQWyZTAhv//6MsAAARH4l7gwCTUJkkOdkpbNY/1fmRAOqn1Xwev2Zkjk2l/NwBLODCKV9hpu97xidYKw5g4obSaXd7kvJAAAAMUGeHkUVLCv/AAAWIyu1BcE0IRZy7W0AKEIgCWqvS+vhYm4P0LwYrA14ALj2HIULSV8AAAAZAZ49dEJ/AAAiq/hbeBKdaCOIEaQOa6DrgAAAAC0Bnj9qQn8AACG/H4Czusq7Wsw1wcuwsrx+5So0yJIahxZk/H9Sl1sXNJjjqG0AAABYQZohSahBbJlMCG///oywAAAJwGzhdgQAXztA4y+x9LVSUrLclpNmf3HoukrZd8syXafJo3usiBfEn60TBH1VTNw/psWHVibkA1/pGCiQrZxAZG+7K7nCQAAAAEJBmkVJ4QpSZTAhv/6MsAAAQgL3+mS1UX33yFFGIwWNRUTQ72hq3+g49wnyjPABCqvbL/FVfNUHm8yoKZeOleMAz2kAAAAgQZ5jRTRMK/8AABWVWFWKzj/YoRkVhsp8ia3w0WMiOqEAAAAjAZ6CdEJ/AAAhwz4NoNVGhx6j43rKOJ4PSHUmwexCqsq6dUAAAAAOAZ6EakJ/AAADAAADAakAAAB/QZqJSahBaJlMCG///oywAABCAgVM6+o9vnl7kGVF4b7Qwq6VYOT3gVwd+3Nnb+rCoxfpkSDhhE4aaEuJZeSAETuGpzsRk1AFzDrCg8x+3FggLUAvu0cYqRN/4wfk+HeAzUmJ5fXhwbgmefzvSfsn8b01MxFMhakOIwGI6nUd4AAAACxBnqdFESwr/wAAFZMsA6KCsPWyzsSmtRaBuB48aE5Q+Qt+wiQo5MkdCf39oQAAACUBnsZ0Qn8AACGsOQYF+86eP0jf26FrE1su/go6XwoOKPsakOVBAAAAKAGeyGpCfwAAIb8EJxLMQZ4oL2xwe9j2iwlJaUcQNam+6XnazpFzJlQAAABNQZrNSahBbJlMCG///oywAABCAvbzd5EO6//35BAFPE8KXdKHGA7Ns7apBIeOwAfIIb5ssuuxPo7kSOA6FyHi/W3+znLMGFJ3yuwCPMAAAAAgQZ7rRRUsK/8AABWcQ823FcysmUk+B0KKy4efEWHYh20AAAAOAZ8KdEJ/AAADAAADAakAAAAiAZ8MakJ/AAAhscwIzjzH0xP14lulaeLYLdfTsiOjjblRFQAAAFxBmxFJqEFsmUwIb//+jLAAAEIQgrH2r4CpN5QrEKTVlsZs8jkZLEHTGkLmkrxLTZhhAAt3BYioPRnwJlsjSUXbbmVOlDxZ/CcvLiTFl7qDQhf7g7zIUdzREmi6cAAAACpBny9FFSwr/wAAFZuUNyMJsoKKHCb+IY1yMorTCjHvgJIFF7CWJYg/lGEAAAAlAZ9OdEJ/AAAhwxdoVREWDUqd85vjy77Tt4EUzbFgLGjv3X+uOQAAABYBn1BqQn8AACG/BCcSyWmauQ6cVgnZAAAAPEGbVUmoQWyZTAhv//6MsAAAQiVvdFjXJ4QX7Aj13tfQIAQR5ywGnbE+MxettcW6fsXuZtKVh2BehvP4gQAAAChBn3NFFSwr/wAAFZxDzZNVcLIXTjtgWFncg35Cu0s/Aa7gDoxXekioAAAAHgGfknRCfwAAAwHK8b/5iWcjz1k5zithAck/VUXvkwAAABcBn5RqQn8AACG/BCcSyWmauFZrOwDWgQAAAE5Bm5lJqEFsmUwIb//+jLAAAEIQwUgLWKKwMYDm9eHMks2wgCFrHPo/XR1s4a85i2io7hIxg4VYbeOvkNvFbLYg5aNgg8oQS++HxWC0dKgAAAAnQZ+3RRUsK/8AABWcQ82VEIoTnmwcdE7anf7qcIPvO3o8AoteS4fAAAAAIwGf1nRCfwAABNWHIEQnPBUU/gQWHNpE1lAgKQT+E68Sa/kxAAAAFwGf2GpCfwAAIbHMCW+pb7IVUrLRhHNNAAAAUkGb3UmoQWyZTAhv//6MsAAAQhDBXL/PxXs1qmyZqxbe3NOS04Ltz0oAAJ7cCNzRh+z46vp/vkdg11874FGvSyhlcDnVx7TJY/8S+6TYWmZR/OkAAAAsQZ/7RRUsK/8AABWcQ8222XiVyYEXISQisw2Ww5IV79pk9Ns4yGKX/s8I8IAAAAAbAZ4adEJ/AAAEtYcgtd62HWCf4rFPajFgGw7gAAAAIgGeHGpCfwAAIbHMCW+pb7KoFu29WcKjumDxB5G7ghSWzysAAABVQZoBSahBbJlMCG///oywAABCEMFcv8/EKjon15eKqcqfWn3UlLr/cXC+EFbeQAGxTTMHnb33mpNDtzbIxMUkL6ij8DvyzpKOXrfJdHaYeAx4o/3tlAAAACpBnj9FFSwr/wAAFZUrNzOEJDC6j26Xlqxuz9pca3atjbb36LUoloZALSAAAAAqAZ5edEJ/AAAhq/hZ0zyCmW+O7TLzmHyXyPIaBNR9q3drxnfZaGS9w61NAAAAHAGeQGpCfwAABLd2SayKL1iTkxdkPC4osH0KIYsAAAA8QZpFSahBbJlMCG///oywAABCAgW9FWgHwq7yPoTibAaoUD3T2l1LsDKhfACPnPXLHaN5HB2Z3zfUKKuBAAAAJEGeY0UVLCv/AAAVkyu1Ba/yTGMdoSJb7I3W7u3C+4GLgFgVYQAAABwBnoJ0Qn8AACGr+Ft4Ep1oI5AMWgBW6oi1rwQ8AAAAJAGehGpCfwAAIbHMCM482kqPg5QjHLfMfdngq/9YAXMZwOJrMQAAADRBmolJqEFsmUwIb//+jLAAAEIC9ljj0dawEkXWj/XnmuCoWXQoAFO1lI8iVW8oz2L0ko2wAAAAI0Gep0UVLCv/AAAVnEPNtxXMrKPOffF18Trxh0krA8JSfFazAAAAGwGexnRCfwAAAwHFsbEWNriPXqZ+A22x/jBh3QAAAB0BnshqQn8AACGxzAjUy0AC6HtTXFzKuK22vqCaYAAAAINBms1JqEFsmUwIb//+jLAAAEIQwUgLWKKwMYBryTedJsT1jFvgmhwwAZ13CjjY30LbAybMJGxpKnWMbpYCaC+cUvTqfG3oRfcVFLXjJIg/yxRaQLUQwwudqDctrjPXBXSWGn2zXaN4E31P94WB+EjuCOHNjo6U6AIjFNxGl2rAtz/cIAAAADFBnutFFSwr/wAAFZUrN2taXqo0Wlv8JrAEQW3EMrD51oaORgZaAsI/4gCBXRnvHo7BAAAAIgGfCnRCfwAAIcMXaKmlU9wM4SRm/TxarK6uIFA485GfbDsAAAAdAZ8MakJ/AAADAcWAEvjgabitdUKW+VtHnv7aZ8EAAABZQZsRSahBbJlMCG///oywAABCem8932XB65Z21zegeCGEl+ZS76rV6TywwLdVgR6D6NAF/uG32RpTrEYl/HDDrK2rfwfczYonMT62M8sYGQMnCrTtGQ5deIcAAAA2QZ8vRRUsK/8AABWTK7UCt9WwXicWMwAtnjp75e2fnktncPOBoN3EfZiUUtmnGEnxgPV+fYRXAAAAGgGfTnRCfwAAIav4W3gSnWgjiBGek/hg2VUhAAAAKAGfUGpCfwAAIL8fjDe6m4r4AzaAEl0WB7bOyEcycxB9pqsAAzaVN/cAAABCQZtVSahBbJlMCG///oywAABAAvf6NZxrrFtv5ETyv5XxpUAPn4coCEAGi8NXEcYqs8c+KKmr2ltu9gMw9WnWwBzJAAAAH0Gfc0UVLCv/AAAVDE5swthLC0qeNO9hY2COJ5XTnOwAAAAOAZ+SdEJ/AAADAAADAakAAAAiAZ+UakJ/AAAgsisFsRY7D85Uy2YviYqvr6I55gCzT+fizQAAAFFBm5lJqEFsmUwIb//+jLAAAEAQwX8saFiuOX/Evtq6MfNAIoeDlgBCnudsLK/P6X5HihBD6yN+DZNZnq/GbQ/vr6ABzLoys9tC1maZWDQFUxgAAAAsQZ+3RRUsK/8AABUMTnEQABuo1VijArqAvdcdVPdJ8lS61J+qgaZrtokn1z4AAAAfAZ/WdEJ/AAAMReuIr3zcqqYuA/eDbUucqkwoEw8rpwAAABgBn9hqQn8AACCyKu6puC9qtHJsw52AzakAAABUQZvcSahBbJlMCG///oywAABAJd3wp0J2+cpu27VhK3u5v4qYcIkxAG89QC69WrEtyAoPlvhMzRpkvCEEmAx+Do7JR0S71avhO6s2Hpe/aE2nFQT1AAAAKkGf+kUVLCv/AAAVBSs3dNBxJ6IxBZQiX38Gs0hcNaqkuXEDDlRiVbPzPgAAABwBnhtqQn8AAAMBxM1GmBt3A7YC6pKOYHuAXZmAAAAAWUGaAEmoQWyZTAhv//6MsAAAQAIFeT0O3TCgPHy0QVABOqamrPSDnfw6mz8X2OEpk+JA6GrHxRKbABt8s7Pq60oE7OeM98NYQYzdx0sA+ofPPz/V5hg7mD6xAAAAKEGePkUVLCv/AAAVAyu1BbkcL9/ZkaIIfvM+9ff2arZay7W1VOpO/pgAAAAlAZ5ddEJ/AAAgwxdojTpeV17t/VGDl5fjPfuVKbzikjUmQTzMNgAAABsBnl9qQn8AACC/BCQTyy1FpIi3jjfuMs1jAkcAAABPQZpESahBbJlMCG///oywAABAJaSVVp3DjR/mE8sgyQEfNcY8Cj3PgJmUgA4tS9jaXdkiPJF5WxJ70CBn7e+P+t9TU1KgvgH19AGCFpXA/gAAAC5BnmJFFSwr/wAAFQxDzLs/TqG5inVzlCRnze4zdlUsKJn3jePvy2scSi1CI5VhAAAAGwGegXRCfwAAAwHFsbCUqUTuDwPvYpv5/i66YQAAACUBnoNqQn8AACC/BCcSyXEANEWhuAC3jZRMP2SinXZZsoqxyfVmAAAAPEGaiEmoQWyZTAhv//6MsAAAQCVvdAGHs627vqNXcPIjqC09jigzS40AOX6gtRgw1Rsc5IEhu1fkAT/uQQAAACVBnqZFFSwr/wAAFQxDzRyMOUvhgPIUGbGJN/YVoNWdpPIRW6FmAAAAHAGexXRCfwAAAwCoejxFRAM62hbHjvgTLwQ1jzcAAAAWAZ7HakJ/AAAgvwQnEslpmtGgZlAz4QAAACxBmsxJqEFsmUwIb//+jLAAAEAQwUgLW4eooKjXVDSYtWfybzv3VBV583LVtwAAACJBnupFFSwr/wAAFQUrN2thKX2DBfsVD7AmWGYVauWsXyPgAAAAFgGfCXRCfwAAIMMXaKmlU9T7xoX1YasAAAAaAZ8LakJ/AAADAcTNRdVNwVawsrXbG6D26YAAAAAwQZsQSahBbJlMCGf//jhAAAD35X7nLmlGd0ZFEeEX0W/FIKXV0Y8K7oUsMjjfNMptAAAAI0GfLkUVLCv/AAAVAyu1Bbkcrw1FXUQAC7oF6Rv1ye6IVvmwAAAAIgGfTXRCfwAAIKv4W3gUC29jLhYd5n658z9TW8XLedPDDdMAAAAXAZ9PakJ/AAAgvwQnEslpmrhWazsA24EAAABCQZtUSahBbJlMCF///fEAAAMCac9R10ITT045px23hDqZVYDyRlEx69m6eoavVj1sStAB4P9rCZOxgRADd5E17BFNAAAALEGfckUVLCv/AAAVDEPNtxV0Q5OkC7qp3GDXJ+OBsZZfwQ1YVgy0N7Rvo4pBAAAAGgGfkXRCfwAABLWHH96SJzC98f4bEEGSFg3TAAAAHwGfk2pCfwAAIL8EJxLJbOjYUO83H7Fp0sGUGor2DXoAAAAkQZuXSahBbJlMCE///IQAAA7QaZcEiaGKrKgfBtaeeMjclBlRAAAAG0GftUUVLCv/AAAVDEPNtxXMrJlJQzL06bYKQAAAABgBn9ZqQn8AACC/BCcSyWmauFZrO56wQUgAADHdbW9vdgAAAGxtdmhkAAAAAAAAAAAAAAAAAAAD6AAAgtwAAQAAAQAAAAAAAAAAAAAAAAEAAAAAAAAAAAAAAAAAAAABAAAAAAAAAAAAAAAAAABAAAAAAAAAAAAAAAAAAAAAAAAAAAAAAAAAAAAAAAAAAgAAMQd0cmFrAAAAXHRraGQAAAADAAAAAAAAAAAAAAABAAAAAAAAgtwAAAAAAAAAAAAAAAAAAAAAAAEAAAAAAAAAAAAAAAAAAAABAAAAAAAAAAAAAAAAAABAAAAAAmAAAAGQAAAAAAAkZWR0cwAAABxlbHN0AAAAAAAAAAEAAILcAAAEAAABAAAAADB/bWRpYQAAACBtZGhkAAAAAAAAAAAAAAAAAAA8AAAH2gBVxAAAAAAALWhkbHIAAAAAAAAAAHZpZGUAAAAAAAAAAAAAAABWaWRlb0hhbmRsZXIAAAAwKm1pbmYAAAAUdm1oZAAAAAEAAAAAAAAAAAAAACRkaW5mAAAAHGRyZWYAAAAAAAAAAQAAAAx1cmwgAAAAAQAAL+pzdGJsAAAArnN0c2QAAAAAAAAAAQAAAJ5hdmMxAAAAAAAAAAEAAAAAAAAAAAAAAAAAAAAAAmABkABIAAAASAAAAAAAAAABAAAAAAAAAAAAAAAAAAAAAAAAAAAAAAAAAAAAAAAAAAAAGP//AAAANGF2Y0MBZAAe/+EAGGdkAB6s2UCYM6EAAAMAAQAAAwA8DxYtlgEABWjr5yyL/fj4AAAAABRidHJ0AAAAAAAAMeEAADHhAAAAGHN0dHMAAAAAAAAAAQAAA+0AAAIAAAAAJHN0c3MAAAAAAAAABQAAAAEAAADKAAABkwAAAlwAAANWAAAfAGN0dHMAAAAAAAAD3gAAAAEAAAQAAAAAAQAACgAAAAABAAAEAAAAAAEAAAAAAAAAAQAAAgAAAAABAAAKAAAAAAEAAAQAAAAAAQAAAAAAAAABAAACAAAAAAEAAAoAAAAAAQAABAAAAAABAAAAAAAAAAEAAAIAAAAAAQAACgAAAAABAAAEAAAAAAEAAAAAAAAAAQAAAgAAAAABAAAIAAAAAAIAAAIAAAAAAQAACgAAAAABAAAEAAAAAAEAAAAAAAAAAQAAAgAAAAABAAAKAAAAAAEAAAQAAAAAAQAAAAAAAAABAAACAAAAAAEAAAoAAAAAAQAABAAAAAABAAAAAAAAAAEAAAIAAAAAAQAACAAAAAACAAACAAAAAAEAAAoAAAAAAQAABAAAAAABAAAAAAAAAAEAAAIAAAAAAQAACgAAAAABAAAEAAAAAAEAAAAAAAAAAQAAAgAAAAABAAAKAAAAAAEAAAQAAAAAAQAAAAAAAAABAAACAAAAAAEAAAoAAAAAAQAABAAAAAABAAAAAAAAAAEAAAIAAAAAAQAACgAAAAABAAAEAAAAAAEAAAAAAAAAAQAAAgAAAAABAAAKAAAAAAEAAAQAAAAAAQAAAAAAAAABAAACAAAAAAEAAAoAAAAAAQAABAAAAAABAAAAAAAAAAEAAAIAAAAAAQAACgAAAAABAAAEAAAAAAEAAAAAAAAAAQAAAgAAAAABAAAGAAAAAAEAAAIAAAAAAQAACgAAAAABAAAEAAAAAAEAAAAAAAAAAQAAAgAAAAABAAAGAAAAAAEAAAIAAAAAAQAABgAAAAABAAACAAAAAAEAAAoAAAAAAQAABAAAAAABAAAAAAAAAAEAAAIAAAAAAQAACgAAAAABAAAEAAAAAAEAAAAAAAAAAQAAAgAAAAABAAAKAAAAAAEAAAQAAAAAAQAAAAAAAAABAAACAAAAAAEAAAoAAAAAAQAABAAAAAABAAAAAAAAAAEAAAIAAAAAAQAACgAAAAABAAAEAAAAAAEAAAAAAAAAAQAAAgAAAAABAAAKAAAAAAEAAAQAAAAAAQAAAAAAAAABAAACAAAAAAEAAAoAAAAAAQAABAAAAAABAAAAAAAAAAEAAAIAAAAAAQAACAAAAAACAAACAAAAAAEAAAoAAAAAAQAABAAAAAABAAAAAAAAAAEAAAIAAAAAAQAACgAAAAABAAAEAAAAAAEAAAAAAAAAAQAAAgAAAAABAAAKAAAAAAEAAAQAAAAAAQAAAAAAAAABAAACAAAAAAEAAAgAAAAAAgAAAgAAAAABAAAKAAAAAAEAAAQAAAAAAQAAAAAAAAABAAACAAAAAAEAAAoAAAAAAQAABAAAAAABAAAAAAAAAAEAAAIAAAAAAQAACgAAAAABAAAEAAAAAAEAAAAAAAAAAQAAAgAAAAABAAAKAAAAAAEAAAQAAAAAAQAAAAAAAAABAAACAAAAAAEAAAoAAAAAAQAABAAAAAABAAAAAAAAAAEAAAIAAAAAAQAACgAAAAABAAAEAAAAAAEAAAAAAAAAAQAAAgAAAAABAAAKAAAAAAEAAAQAAAAAAQAAAAAAAAABAAACAAAAAAEAAAoAAAAAAQAABAAAAAABAAAAAAAAAAEAAAIAAAAAAQAACgAAAAABAAAEAAAAAAEAAAAAAAAAAQAAAgAAAAABAAAKAAAAAAEAAAQAAAAAAQAAAAAAAAABAAACAAAAAAEAAAQAAAAAAQAACgAAAAABAAAEAAAAAAEAAAAAAAAAAQAAAgAAAAABAAAKAAAAAAEAAAQAAAAAAQAAAAAAAAABAAACAAAAAAEAAAoAAAAAAQAABAAAAAABAAAAAAAAAAEAAAIAAAAAAQAACgAAAAABAAAEAAAAAAEAAAAAAAAAAQAAAgAAAAABAAAKAAAAAAEAAAQAAAAAAQAAAAAAAAABAAACAAAAAAEAAAoAAAAAAQAABAAAAAABAAAAAAAAAAEAAAIAAAAAAQAACgAAAAABAAAEAAAAAAEAAAAAAAAAAQAAAgAAAAABAAAKAAAAAAEAAAQAAAAAAQAAAAAAAAABAAACAAAAAAEAAAoAAAAAAQAABAAAAAABAAAAAAAAAAEAAAIAAAAAAgAABAAAAAABAAAKAAAAAAEAAAQAAAAAAQAAAAAAAAABAAACAAAAAAEAAAoAAAAAAQAABAAAAAABAAAAAAAAAAEAAAIAAAAAAQAACgAAAAABAAAEAAAAAAEAAAAAAAAAAQAAAgAAAAABAAAGAAAAAAEAAAIAAAAAAQAACgAAAAABAAAEAAAAAAEAAAAAAAAAAQAAAgAAAAABAAAIAAAAAAIAAAIAAAAAAQAACgAAAAABAAAEAAAAAAEAAAAAAAAAAQAAAgAAAAABAAAKAAAAAAEAAAQAAAAAAQAAAAAAAAABAAACAAAAAAEAAAoAAAAAAQAABAAAAAABAAAAAAAAAAEAAAIAAAAAAQAACgAAAAABAAAEAAAAAAEAAAAAAAAAAQAAAgAAAAABAAAKAAAAAAEAAAQAAAAAAQAAAAAAAAABAAACAAAAAAEAAAoAAAAAAQAABAAAAAABAAAAAAAAAAEAAAIAAAAAAQAACgAAAAABAAAEAAAAAAEAAAAAAAAAAQAAAgAAAAABAAAKAAAAAAEAAAQAAAAAAQAAAAAAAAABAAACAAAAAAEAAAoAAAAAAQAABAAAAAABAAAAAAAAAAEAAAIAAAAAAQAACgAAAAABAAAEAAAAAAEAAAAAAAAAAQAAAgAAAAABAAAEAAAAAAEAAAoAAAAAAQAABAAAAAABAAAAAAAAAAEAAAIAAAAAAQAACgAAAAABAAAEAAAAAAEAAAAAAAAAAQAAAgAAAAABAAAKAAAAAAEAAAQAAAAAAQAAAAAAAAABAAACAAAAAAEAAAoAAAAAAQAABAAAAAABAAAAAAAAAAEAAAIAAAAAAQAACgAAAAABAAAEAAAAAAEAAAAAAAAAAQAAAgAAAAABAAAKAAAAAAEAAAQAAAAAAQAAAAAAAAABAAACAAAAAAEAAAoAAAAAAQAABAAAAAABAAAAAAAAAAEAAAIAAAAAAQAACgAAAAABAAAEAAAAAAEAAAAAAAAAAQAAAgAAAAABAAAKAAAAAAEAAAQAAAAAAQAAAAAAAAABAAACAAAAAAEAAAoAAAAAAQAABAAAAAABAAAAAAAAAAEAAAIAAAAAAQAACgAAAAABAAAEAAAAAAEAAAAAAAAAAQAAAgAAAAABAAAIAAAAAAIAAAIAAAAAAQAACgAAAAABAAAEAAAAAAEAAAAAAAAAAQAAAgAAAAABAAAKAAAAAAEAAAQAAAAAAQAAAAAAAAABAAACAAAAAAEAAAoAAAAAAQAABAAAAAABAAAAAAAAAAEAAAIAAAAAAQAACgAAAAABAAAEAAAAAAEAAAAAAAAAAQAAAgAAAAABAAAKAAAAAAEAAAQAAAAAAQAAAAAAAAABAAACAAAAAAEAAAoAAAAAAQAABAAAAAABAAAAAAAAAAEAAAIAAAAAAQAACgAAAAABAAAEAAAAAAEAAAAAAAAAAQAAAgAAAAABAAAKAAAAAAEAAAQAAAAAAQAAAAAAAAABAAACAAAAAAEAAAoAAAAAAQAABAAAAAABAAAAAAAAAAEAAAIAAAAAAQAACgAAAAABAAAEAAAAAAEAAAAAAAAAAQAAAgAAAAABAAAGAAAAAAEAAAIAAAAAAQAACgAAAAABAAAEAAAAAAEAAAAAAAAAAQAAAgAAAAABAAAKAAAAAAEAAAQAAAAAAQAAAAAAAAABAAACAAAAAAEAAAoAAAAAAQAABAAAAAABAAAAAAAAAAEAAAIAAAAAAQAACgAAAAABAAAEAAAAAAEAAAAAAAAAAQAAAgAAAAABAAAKAAAAAAEAAAQAAAAAAQAAAAAAAAABAAACAAAAAAEAAAoAAAAAAQAABAAAAAABAAAAAAAAAAEAAAIAAAAAAQAACgAAAAABAAAEAAAAAAEAAAAAAAAAAQAAAgAAAAABAAAKAAAAAAEAAAQAAAAAAQAAAAAAAAABAAACAAAAAAEAAAoAAAAAAQAABAAAAAABAAAAAAAAAAEAAAIAAAAAAQAACgAAAAABAAAEAAAAAAEAAAAAAAAAAQAAAgAAAAABAAAKAAAAAAEAAAQAAAAAAQAAAAAAAAABAAACAAAAAAEAAAoAAAAAAQAABAAAAAABAAAAAAAAAAEAAAIAAAAAAgAABAAAAAABAAAKAAAAAAEAAAQAAAAAAQAAAAAAAAABAAACAAAAAAEAAAoAAAAAAQAABAAAAAABAAAAAAAAAAEAAAIAAAAAAQAACgAAAAABAAAEAAAAAAEAAAAAAAAAAQAAAgAAAAABAAAKAAAAAAEAAAQAAAAAAQAAAAAAAAABAAACAAAAAAEAAAoAAAAAAQAABAAAAAABAAAAAAAAAAEAAAIAAAAAAQAACgAAAAABAAAEAAAAAAEAAAAAAAAAAQAAAgAAAAABAAAKAAAAAAEAAAQAAAAAAQAAAAAAAAABAAACAAAAAAEAAAgAAAAAAgAAAgAAAAABAAAKAAAAAAEAAAQAAAAAAQAAAAAAAAABAAACAAAAAAEAAAoAAAAAAQAABAAAAAABAAAAAAAAAAEAAAIAAAAAAQAACgAAAAABAAAEAAAAAAEAAAAAAAAAAQAAAgAAAAABAAAIAAAAAAIAAAIAAAAAAQAACgAAAAABAAAEAAAAAAEAAAAAAAAAAQAAAgAAAAABAAAKAAAAAAEAAAQAAAAAAQAAAAAAAAABAAACAAAAAAEAAAoAAAAAAQAABAAAAAABAAAAAAAAAAEAAAIAAAAAAQAACgAAAAABAAAEAAAAAAEAAAAAAAAAAQAAAgAAAAABAAAKAAAAAAEAAAQAAAAAAQAAAAAAAAABAAACAAAAAAEAAAoAAAAAAQAABAAAAAABAAAAAAAAAAEAAAIAAAAAAQAABAAAAAABAAAKAAAAAAEAAAQAAAAAAQAAAAAAAAABAAACAAAAAAEAAAoAAAAAAQAABAAAAAABAAAAAAAAAAEAAAIAAAAAAQAACgAAAAABAAAEAAAAAAEAAAAAAAAAAQAAAgAAAAABAAAKAAAAAAEAAAQAAAAAAQAAAAAAAAABAAACAAAAAAEAAAoAAAAAAQAABAAAAAABAAAAAAAAAAEAAAIAAAAAAQAABAAAAAABAAAKAAAAAAEAAAQAAAAAAQAAAAAAAAABAAACAAAAAAEAAAoAAAAAAQAABAAAAAABAAAAAAAAAAEAAAIAAAAAAQAACgAAAAABAAAEAAAAAAEAAAAAAAAAAQAAAgAAAAABAAAKAAAAAAEAAAQAAAAAAQAAAAAAAAABAAACAAAAAAEAAAoAAAAAAQAABAAAAAABAAAAAAAAAAEAAAIAAAAAAQAACgAAAAABAAAEAAAAAAEAAAAAAAAAAQAAAgAAAAABAAAKAAAAAAEAAAQAAAAAAQAAAAAAAAABAAACAAAAAAEAAAoAAAAAAQAABAAAAAABAAAAAAAAAAEAAAIAAAAAAQAABgAAAAABAAACAAAAAAEAAAoAAAAAAQAABAAAAAABAAAAAAAAAAEAAAIAAAAAAQAABAAAAAABAAAKAAAAAAEAAAQAAAAAAQAAAAAAAAABAAACAAAAAAEAAAYAAAAAAQAAAgAAAAABAAAKAAAAAAEAAAQAAAAAAQAAAAAAAAABAAACAAAAAAEAAAoAAAAAAQAABAAAAAABAAAAAAAAAAEAAAIAAAAAAQAACgAAAAABAAAEAAAAAAEAAAAAAAAAAQAAAgAAAAABAAAKAAAAAAEAAAQAAAAAAQAAAAAAAAABAAACAAAAAAEAAAoAAAAAAQAABAAAAAABAAAAAAAAAAEAAAIAAAAAAQAACgAAAAABAAAEAAAAAAEAAAAAAAAAAQAAAgAAAAABAAAKAAAAAAEAAAQAAAAAAQAAAAAAAAABAAACAAAAAAEAAAoAAAAAAQAABAAAAAABAAAAAAAAAAEAAAIAAAAAAQAACgAAAAABAAAEAAAAAAEAAAAAAAAAAQAAAgAAAAABAAAKAAAAAAEAAAQAAAAAAQAAAAAAAAABAAACAAAAAAEAAAoAAAAAAQAABAAAAAABAAAAAAAAAAEAAAIAAAAAAQAACgAAAAABAAAEAAAAAAEAAAAAAAAAAQAAAgAAAAABAAAKAAAAAAEAAAQAAAAAAQAAAAAAAAABAAACAAAAAAEAAAoAAAAAAQAABAAAAAABAAAAAAAAAAEAAAIAAAAAAQAACgAAAAABAAAEAAAAAAEAAAAAAAAAAQAAAgAAAAABAAAIAAAAAAIAAAIAAAAAAQAABAAAAAABAAAKAAAAAAEAAAQAAAAAAQAAAAAAAAABAAACAAAAAAEAAAYAAAAAAQAAAgAAAAABAAAKAAAAAAEAAAQAAAAAAQAAAAAAAAABAAACAAAAAAEAAAoAAAAAAQAABAAAAAABAAAAAAAAAAEAAAIAAAAAAQAACgAAAAABAAAEAAAAAAEAAAAAAAAAAQAAAgAAAAABAAAKAAAAAAEAAAQAAAAAAQAAAAAAAAABAAACAAAAAAEAAAoAAAAAAQAABAAAAAABAAAAAAAAAAEAAAIAAAAAAQAACgAAAAABAAAEAAAAAAEAAAAAAAAAAQAAAgAAAAABAAAKAAAAAAEAAAQAAAAAAQAAAAAAAAABAAACAAAAAAEAAAoAAAAAAQAABAAAAAABAAAAAAAAAAEAAAIAAAAAAQAACgAAAAABAAAEAAAAAAEAAAAAAAAAAQAAAgAAAAABAAAKAAAAAAEAAAQAAAAAAQAAAAAAAAABAAACAAAAAAEAAAoAAAAAAQAABAAAAAABAAAAAAAAAAEAAAIAAAAAAQAACgAAAAABAAAEAAAAAAEAAAAAAAAAAQAAAgAAAAABAAAKAAAAAAEAAAQAAAAAAQAAAAAAAAABAAACAAAAAAEAAAoAAAAAAQAABAAAAAABAAAAAAAAAAEAAAIAAAAAAQAACgAAAAABAAAEAAAAAAEAAAAAAAAAAQAAAgAAAAABAAAKAAAAAAEAAAQAAAAAAQAAAAAAAAABAAACAAAAAAEAAAoAAAAAAQAABAAAAAABAAAAAAAAAAEAAAIAAAAAAQAACgAAAAABAAAEAAAAAAEAAAAAAAAAAQAAAgAAAAABAAAKAAAAAAEAAAQAAAAAAQAAAAAAAAABAAACAAAAAAEAAAoAAAAAAQAABAAAAAABAAAAAAAAAAEAAAIAAAAAAQAACgAAAAABAAAEAAAAAAEAAAAAAAAAAQAAAgAAAAABAAAKAAAAAAEAAAQAAAAAAQAAAAAAAAABAAACAAAAAAEAAAoAAAAAAQAABAAAAAABAAAAAAAAAAEAAAIAAAAAAQAACgAAAAABAAAEAAAAAAEAAAAAAAAAAQAAAgAAAAABAAAKAAAAAAEAAAQAAAAAAQAAAAAAAAABAAACAAAAAAEAAAoAAAAAAQAABAAAAAABAAAAAAAAAAEAAAIAAAAAAQAACgAAAAABAAAEAAAAAAEAAAAAAAAAAQAAAgAAAAABAAAKAAAAAAEAAAQAAAAAAQAAAAAAAAABAAACAAAAAAEAAAoAAAAAAQAABAAAAAABAAAAAAAAAAEAAAIAAAAAAQAACgAAAAABAAAEAAAAAAEAAAAAAAAAAQAAAgAAAAABAAAKAAAAAAEAAAQAAAAAAQAAAAAAAAABAAACAAAAAAEAAAoAAAAAAQAABAAAAAABAAAAAAAAAAEAAAIAAAAAAQAACgAAAAABAAAEAAAAAAEAAAAAAAAAAQAAAgAAAAABAAAKAAAAAAEAAAQAAAAAAQAAAAAAAAABAAACAAAAAAEAAAoAAAAAAQAABAAAAAABAAAAAAAAAAEAAAIAAAAAAQAACgAAAAABAAAEAAAAAAEAAAAAAAAAAQAAAgAAAAABAAAKAAAAAAEAAAQAAAAAAQAAAAAAAAABAAACAAAAAAEAAAgAAAAAAgAAAgAAAAABAAAKAAAAAAEAAAQAAAAAAQAAAAAAAAABAAACAAAAAAEAAAoAAAAAAQAABAAAAAABAAAAAAAAAAEAAAIAAAAAAQAACgAAAAABAAAEAAAAAAEAAAAAAAAAAQAAAgAAAAABAAAKAAAAAAEAAAQAAAAAAQAAAAAAAAABAAACAAAAAAEAAAoAAAAAAQAABAAAAAABAAAAAAAAAAEAAAIAAAAAAQAACgAAAAABAAAEAAAAAAEAAAAAAAAAAQAAAgAAAAABAAAKAAAAAAEAAAQAAAAAAQAAAAAAAAABAAACAAAAAAEAAAoAAAAAAQAABAAAAAABAAAAAAAAAAEAAAIAAAAAAQAACgAAAAABAAAEAAAAAAEAAAAAAAAAAQAAAgAAAAABAAAIAAAAAAIAAAIAAAAAAQAACgAAAAABAAAEAAAAAAEAAAAAAAAAAQAAAgAAAAABAAAKAAAAAAEAAAQAAAAAAQAAAAAAAAABAAACAAAAAAEAAAQAAAAAAQAACgAAAAABAAAEAAAAAAEAAAAAAAAAAQAAAgAAAAABAAAKAAAAAAEAAAQAAAAAAQAAAAAAAAABAAACAAAAAAEAAAoAAAAAAQAABAAAAAABAAAAAAAAAAEAAAIAAAAAAQAACgAAAAABAAAEAAAAAAEAAAAAAAAAAQAAAgAAAAABAAAKAAAAAAEAAAQAAAAAAQAAAAAAAAABAAACAAAAAAEAAAoAAAAAAQAABAAAAAABAAAAAAAAAAEAAAIAAAAAAQAACgAAAAABAAAEAAAAAAEAAAAAAAAAAQAAAgAAAAABAAAKAAAAAAEAAAQAAAAAAQAAAAAAAAABAAACAAAAAAEAAAoAAAAAAQAABAAAAAABAAAAAAAAAAEAAAIAAAAAAQAACgAAAAABAAAEAAAAAAEAAAAAAAAAAQAAAgAAAAABAAAKAAAAAAEAAAQAAAAAAQAAAAAAAAABAAACAAAAAAEAAAQAAAAAAQAACgAAAAABAAAEAAAAAAEAAAAAAAAAAQAAAgAAAAABAAAKAAAAAAEAAAQAAAAAAQAAAAAAAAABAAACAAAAAAEAAAYAAAAAAQAAAgAAAAABAAAKAAAAAAEAAAQAAAAAAQAAAAAAAAABAAACAAAAAAEAAAoAAAAAAQAABAAAAAABAAAAAAAAAAEAAAIAAAAAAQAACgAAAAABAAAEAAAAAAEAAAAAAAAAAQAAAgAAAAABAAAGAAAAAAEAAAIAAAAAAQAACgAAAAABAAAEAAAAAAEAAAAAAAAAAQAAAgAAAAABAAAKAAAAAAEAAAQAAAAAAQAAAAAAAAABAAACAAAAAAEAAAoAAAAAAQAABAAAAAABAAAAAAAAAAEAAAIAAAAAAQAACgAAAAABAAAEAAAAAAEAAAAAAAAAAQAAAgAAAAABAAAKAAAAAAEAAAQAAAAAAQAAAAAAAAABAAACAAAAAAEAAAoAAAAAAQAABAAAAAABAAAAAAAAAAEAAAIAAAAAAQAACgAAAAABAAAEAAAAAAEAAAAAAAAAAQAAAgAAAAABAAAKAAAAAAEAAAQAAAAAAQAAAAAAAAABAAACAAAAAAEAAAoAAAAAAQAABAAAAAABAAAAAAAAAAEAAAIAAAAAAQAACgAAAAABAAAEAAAAAAEAAAAAAAAAAQAAAgAAAAABAAAEAAAAAAEAAAoAAAAAAQAABAAAAAABAAAAAAAAAAEAAAIAAAAAAQAACgAAAAABAAAEAAAAAAEAAAAAAAAAAQAAAgAAAAABAAAKAAAAAAEAAAQAAAAAAQAAAAAAAAABAAACAAAAAAEAAAoAAAAAAQAABAAAAAABAAAAAAAAAAEAAAIAAAAAAQAACgAAAAABAAAEAAAAAAEAAAAAAAAAAQAAAgAAAAABAAAKAAAAAAEAAAQAAAAAAQAAAAAAAAABAAACAAAAAAEAAAoAAAAAAQAABAAAAAABAAAAAAAAAAEAAAIAAAAAAQAACgAAAAABAAAEAAAAAAEAAAAAAAAAAQAAAgAAAAABAAAKAAAAAAEAAAQAAAAAAQAAAAAAAAABAAACAAAAAAEAAAoAAAAAAQAABAAAAAABAAAAAAAAAAEAAAIAAAAAAQAACgAAAAABAAAEAAAAAAEAAAAAAAAAAQAAAgAAAAABAAAKAAAAAAEAAAQAAAAAAQAAAAAAAAABAAACAAAAAAEAAAoAAAAAAQAABAAAAAABAAAAAAAAAAEAAAIAAAAAAQAACgAAAAABAAAEAAAAAAEAAAAAAAAAAQAAAgAAAAABAAAIAAAAAAIAAAIAAAAAAQAACgAAAAABAAAEAAAAAAEAAAAAAAAAAQAAAgAAAAABAAAKAAAAAAEAAAQAAAAAAQAAAAAAAAABAAACAAAAAAEAAAoAAAAAAQAABAAAAAABAAAAAAAAAAEAAAIAAAAAAQAACgAAAAABAAAEAAAAAAEAAAAAAAAAAQAAAgAAAAABAAAKAAAAAAEAAAQAAAAAAQAAAAAAAAABAAACAAAAAAEAAAoAAAAAAQAABAAAAAABAAAAAAAAAAEAAAIAAAAAAQAACAAAAAACAAACAAAAABxzdHNjAAAAAAAAAAEAAAABAAAD7QAAAAEAAA/Ic3RzegAAAAAAAAAAAAAD7QAABM0AAACFAAAAJwAAABgAAAA0AAAAWgAAACcAAAAZAAAAIQAAAFQAAAAeAAAAEgAAABwAAABvAAAAKgAAADAAAAATAAAARgAAADoAAAAuAAAAtAAAAC0AAAAfAAAAKQAAAHcAAAAuAAAAMAAAACsAAACDAAAAMgAAABgAAAA9AAAAYwAAACsAAAAaAAAASwAAACwAAAAeAAAAJgAAAFUAAAAyAAAAIwAAABkAAAA8AAAAJwAAACYAAAAmAAAAVgAAACcAAAAUAAAAIgAAAFgAAAAhAAAAIAAAABIAAAA3AAAAKwAAADAAAAAtAAAAQwAAACkAAAAbAAAAJQAAAI4AAAAuAAAALAAAAB8AAAA9AAAAHwAAAE0AAAAtAAAAKAAAAB4AAAAoAAAAHQAAAIMAAAAyAAAAUgAAADQAAAAgAAAAGgAAAEwAAAAtAAAAKgAAAB8AAABfAAAAKQAAABsAAAAnAAAATAAAACUAAAAtAAAAFAAAAD0AAAArAAAAJwAAACEAAABhAAAAMQAAABIAAAAuAAAATQAAACkAAAAoAAAAHAAAAEsAAAAoAAAAGgAAAIIAAAA0AAAALQAAACAAAAB+AAAAPQAAACYAAAAoAAAAPQAAACwAAAAXAAAAKAAAAGwAAAAnAAAAKgAAAJMAAAA/AAAAHAAAAC0AAABjAAAAMQAAACoAAAAjAAAAWQAAACgAAAAeAAAAIgAAAFAAAAApAAAAHAAAAB0AAAA2AAAAIQAAACEAAAASAAAAVgAAACgAAAAlAAAAHwAAAEoAAAAlAAAAHQAAACcAAAA0AAAAJwAAACEAAAAbAAAAVwAAADgAAAAeAAAAKQAAAE0AAAAzAAAALQAAABwAAAB8AAAAUgAAACoAAAAyAAAAIAAAAEcAAAAhAAAAIQAAABIAAABlAAAALQAAAB8AAAAgAAAAUQAAADsAAAAeAAAAKAAAADAAAAAxAAAAKQAAACEAAABQAAAAIQAAACYAAAASAAAAPAAAADEAAAAdAAAAJAAAAC4AAAAtAAAAHQAAABsAAAA6AAAALQAAACUAAAAfAAAAGwAAApQAAAAmAAAAGQAAABYAAAAUAAAAUQAAACUAAAAgAAAAFAAAAJIAAAA2AAAAIgAAACMAAABSAAAAKQAAAJgAAABIAAAAJgAAACcAAABkAAAAJAAAABYAAABOAAAAMwAAACQAAAAeAAAAXQAAADAAAAAkAAAAHQAAADcAAAAqAAAAJQAAAB4AAABSAAAAIQAAACUAAAASAAAAZwAAADcAAAAiAAAAHQAAAFoAAAApAAAAJgAAABkAAABfAAAANAAAACYAAAAcAAAAfAAAAC8AAAAeAAAAJwAAAEEAAAAhAAAAKAAAABIAAABdAAAANQAAACAAAAAfAAAAeQAAAFkAAABHAAAAHwAAAC0AAABMAAAALgAAABsAAAAhAAAAYgAAACsAAAASAAAALQAAAEwAAAArAAAAHwAAAB8AAABIAAAALAAAABwAAAAlAAAAXgAAADMAAAAhAAAALwAAAEwAAAAzAAAAIAAAACAAAACCAAAAMAAAACcAAAApAAAAhQAAADgAAAA4AAAAGwAAAGEAAAAiAAAAIwAAABIAAABDAAAAKAAAACIAAAAXAAAAegAAACoAAAAqAAAATgAAAC4AAAAXAAAAHwAAADgAAAAsAAAAGwAAAB8AAABlAAAANgAAACAAAAAuAAAATgAAAC4AAAAdAAAAJQAAAEsAAAAlAAAAEgAAAB8AAABhAAAAKgAAABkAAAAmAAAATAAAAC4AAAAdAAAALwAAAEAAAAAvAAAAFAAAACUAAABWAAAALQAAACMAAAAnAAAAegAAADUAAAAiAAAALgAAAEwAAAAqAAAASQAAAC0AAAAeAAAAFwAAAHQAAAAjAAAAKAAAABIAAAB9AAAAKwAAACIAAAAcAAAARwAAAC8AAAAeAAAAHgAAAF0AAAAwAAAAJQAAACAAAAA0AAAAIwAAACUAAAASAAAAQwAAACoAAAAlAAAAGwAAADwAAAArAAAAHgAAABsAAABjAAAAKQAAACYAAAAgAAAAOAAAACkAAAAfAAAAHAAAAEoAAAAjAAAAJQAAABYAAABVAAAAOAAAACYAAAAbAAAAPAAAAhIAAACSAAAALgAAACAAAAApAAAAiAAAACUAAAAzAAAAEgAAAFwAAAAkAAAAEgAAACEAAABWAAAAHQAAABIAAAAbAAAAPgAAAC8AAAAdAAAAHQAAAH0AAAAsAAAAIQAAAB4AAABCAAAAIgAAACAAAAASAAAATQAAADsAAAAhAAAAlQAAAC8AAAAkAAAAIQAAAE0AAAAiAAAAJgAAABQAAACHAAAAKQAAADEAAAAgAAAAjAAAADgAAAAjAAAASAAAACsAAAAhAAAAGwAAAE4AAAApAAAAHwAAAB8AAABEAAAAKgAAACAAAAAgAAAAVgAAACkAAAAeAAAAIgAAAHQAAAAtAAAAHAAAACcAAABOAAAAMAAAAC8AAAAdAAAAQQAAAFAAAAA3AAAAIAAAACAAAACAAAAARQAAADIAAAA4AAAAXQAAADAAAAAbAAAAHwAAAE4AAAAoAAAAHQAAABsAAACIAAAARgAAACIAAAAfAAAASQAAAEMAAAA1AAAAIgAAAB0AAABYAAAALgAAACQAAAAfAAAAUAAAADIAAAAnAAAAGgAAAFMAAAA0AAAAGwAAACcAAABlAAAALAAAABwAAAAhAAAATgAAACwAAAArAAAAJQAAADIAAAAiAAAAIAAAABQAAAB+AAAAJQAAACcAAAArAAAATgAAAB8AAABaAAAAKwAAAC8AAAAXAAAATAAAAGoAAAAmAAAALAAAAB4AAAB3AAAAIwAAAEsAAAAvAAAAIQAAAB4AAABQAAAAKwAAACAAAAAfAAAAVgAAACwAAAAnAAAAIAAAAFUAAAArAAAAHAAAAB4AAABPAAAAKAAAACEAAAAaAAAAQwAAACEAAAAkAAAAEgAAAFgAAAA1AAAAHwAAACMAAABVAAAALgAAAB0AAAAkAAAAWQAAADcAAAAfAAAAJAAAAGkAAAAkAAAAKwAAABIAAABfAAAALQAAACMAAAAfAAAAWQAAACgAAAAYAAAALwAAAGgAAAAtAAAAFAAAAB8AAABKAAAALgAAACsAAAAcAAAANgAAACkAAAAmAAAAHQAAADQAAAAqAAAAGAAAAl4AAABxAAAAIwAAABMAAAAzAAAAmgAAAB0AAACaAAAAOAAAACIAAAAcAAAAQgAAACQAAAAbAAAAGQAAADIAAAAbAAAAEgAAABkAAABKAAAAJQAAABgAAAAfAAAAGwAAACMAAAAgAAAALQAAAGIAAAAoAAAAHgAAABkAAABHAAAAQQAAACMAAAAiAAAAOAAAADwAAAAlAAAAKQAAAFMAAAAgAAAAHgAAABIAAAA6AAAAHgAAABIAAAAaAAAAGwAAACkAAAAeAAAAHwAAAD0AAAAlAAAAQAAAABoAAABJAAAAIwAAABIAAAAdAAAAfQAAACUAAAAdAAAAGwAAAEMAAAA4AAAAJwAAACEAAAAtAAAALAAAAB4AAAAiAAAAUQAAACgAAAAeAAAAHwAAAEUAAAAzAAAAIQAAACAAAABRAAAAJAAAACIAAAASAAAAngAAADUAAAAgAAAAKQAAAEoAAAA5AAAAHQAAAB8AAABnAAAAKwAAACMAAAAbAAAAlQAAACsAAAAwAAAAGQAAAHkAAAAsAAAAHgAAACcAAABqAAAALAAAABIAAAAtAAAAaQAAACwAAAAvAAAAFgAAAFAAAAAnAAAALQAAACIAAABVAAAAJAAAABQAAAAlAAAATAAAAC4AAAAlAAAAHAAAAFUAAAAnAAAAHgAAACQAAAB3AAAALwAAACAAAAAtAAAAQgAAADgAAAAcAAAAIQAAAE8AAAAuAAAAKgAAAB8AAACDAAAALAAAACMAAAAgAAAATwAAAC4AAAAeAAAAJAAAAF4AAAAnAAAAIAAAABkAAABuAAAAJwAAACUAAAAXAAAAUgAAACkAAAASAAAARQAAACoAAAAkAAAAHQAAAGAAAAAsAAAAHgAAACQAAABGAAAALQAAABIAAAAgAAAANgAAACMAAAAnAAAAEgAAAF0AAAAsAAAAIgAAACUAAABIAAAALwAAABYAAAAlAAAAVgAAADQAAAAjAAAAIAAAAEwAAAA1AAAAHgAAADAAAAB+AAAAPQAAACAAAAAxAAAAUQAAACkAAAAhAAAAQgAAAC4AAAAtAAAAGAAAAL8AAABoAAAAQAAAACEAAABwAAAAsAAAACUAAAAtAAAAGAAAADwAAAAZAAAAFwAAABIAAABtAAAAIwAAAB8AAAASAAAAGwAAACcAAAAcAAAAHAAAABsAAAAUAAAAEgAAABIAAABUAAAAIQAAAB4AAAASAAAASwAAAC0AAAAcAAAAHwAAADMAAAAjAAAALAAAABoAAABMAAAAMQAAABoAAAAhAAAAPgAAACoAAAAcAAAAHQAAAFkAAAAjAAAAIAAAABIAAAIGAAAALAAAADUAAAAcAAAANAAAAEUAAAAwAAAAIQAAAB0AAAA9AAAAIAAAAHIAAABAAAAAJwAAACcAAABpAAAALwAAABoAAAAgAAAAcQAAADEAAAAoAAAAIgAAACUAAAAaAAAApAAAAD4AAAAdAAAAKwAAAEAAAAAmAAAAEgAAAC0AAABpAAAALgAAACoAAAAmAAAASAAAADEAAAAhAAAAIgAAAEAAAAApAAAAHgAAAB8AAABMAAAAIQAAACIAAAASAAAAWQAAAC4AAAAlAAAAJwAAAFAAAAAsAAAAEgAAACwAAAB1AAAAKgAAACYAAAAhAAAATgAAADUAAAAdAAAAMQAAAFwAAABGAAAAJAAAACcAAAASAAAAgwAAADAAAAApAAAALAAAAFEAAAAkAAAAEgAAACYAAABgAAAALgAAACkAAAAaAAAAQAAAACwAAAAiAAAAGwAAAFIAAAArAAAAJwAAABsAAABWAAAAMAAAAB8AAAAmAAAAWQAAAC4AAAAuAAAAIAAAAEAAAAAoAAAAIAAAACgAAAA4AAAAJwAAAB8AAAAhAAAAhwAAADUAAAAmAAAAIQAAAF0AAAA6AAAAHgAAACwAAABGAAAAIwAAABIAAAAmAAAAVQAAADAAAAAjAAAAHAAAAFgAAAAuAAAAIAAAAF0AAAAsAAAAKQAAAB8AAABTAAAAMgAAAB8AAAApAAAAQAAAACkAAAAgAAAAGgAAADAAAAAmAAAAGgAAAB4AAAA0AAAAJwAAACYAAAAbAAAARgAAADAAAAAeAAAAIwAAACgAAAAfAAAAHAAAABRzdGNvAAAAAAAAAAEAAAAwAAAAYnVkdGEAAABabWV0YQAAAAAAAAAhaGRscgAAAAAAAAAAbWRpcmFwcGwAAAAAAAAAAAAAAAAtaWxzdAAAACWpdG9vAAAAHWRhdGEAAAABAAAAAExhdmY1OC43Ni4xMDA=\" type=\"video/mp4\">\n",
              "  Your browser does not support the video tag.\n",
              "  </video>"
            ],
            "text/plain": [
              "<IPython.core.display.HTML object>"
            ]
          },
          "execution_count": 67,
          "metadata": {},
          "output_type": "execute_result"
        }
      ],
      "source": [
        "def create_policy_eval_video(policy, filename, num_episodes=5, fps=30):\n",
        "  filename = filename + \".mp4\"\n",
        "  with imageio.get_writer(filename, fps=fps) as video:\n",
        "    for _ in range(num_episodes):\n",
        "      time_step = eval_env.reset()\n",
        "      video.append_data(eval_py_env.render())\n",
        "      while not time_step.is_last():\n",
        "        action_step = policy.action(time_step)\n",
        "        time_step = eval_env.step(action_step.action)\n",
        "        video.append_data(eval_py_env.render())\n",
        "  return embed_mp4(filename)\n",
        "\n",
        "create_policy_eval_video(agent.policy, \"trained-agent\")"
      ]
    },
    {
      "cell_type": "markdown",
      "metadata": {
        "id": "povaAOcZygLw"
      },
      "source": [
        "Lets compare the trained agent to an agent moving randomly."
      ]
    },
    {
      "cell_type": "code",
      "execution_count": null,
      "metadata": {
        "colab": {
          "base_uri": "https://localhost:8080/",
          "height": 539
        },
        "id": "pJZIdC37yNH4",
        "outputId": "9b146c96-4a1a-4381-9d0e-a72df8faab00"
      },
      "outputs": [
        {
          "name": "stderr",
          "output_type": "stream",
          "text": [
            "WARNING:root:IMAGEIO FFMPEG_WRITER WARNING: input image is not divisible by macro_block_size=16, resizing from (400, 600) to (400, 608) to ensure video compatibility with most codecs and players. To prevent resizing, make your input image divisible by the macro_block_size or set the macro_block_size to None (risking incompatibility). You may also see a FFMPEG warning concerning speedloss due to data not being aligned.\n"
          ]
        },
        {
          "data": {
            "text/html": [
              "\n",
              "  <video width=\"640\" height=\"480\" controls>\n",
              "    <source src=\"data:video/mp4;base64,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\" type=\"video/mp4\">\n",
              "  Your browser does not support the video tag.\n",
              "  </video>"
            ],
            "text/plain": [
              "<IPython.core.display.HTML object>"
            ]
          },
          "execution_count": 68,
          "metadata": {},
          "output_type": "execute_result"
        }
      ],
      "source": [
        "create_policy_eval_video(random_policy, \"random-agent\")"
      ]
    }
  ],
  "metadata": {
    "accelerator": "GPU",
    "colab": {
      "cell_execution_strategy": "setup",
      "gpuType": "T4",
      "provenance": []
    },
    "kernelspec": {
      "display_name": "Python 3",
      "name": "python3"
    },
    "pycharm": {
      "stem_cell": {
        "cell_type": "raw",
        "metadata": {
          "collapsed": false
        },
        "source": []
      }
    }
  },
  "nbformat": 4,
  "nbformat_minor": 0
}
